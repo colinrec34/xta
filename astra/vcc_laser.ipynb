{
 "cells": [
  {
   "cell_type": "markdown",
   "metadata": {},
   "source": [
    "# VCC Laser Beam Shaping Simulation Example"
   ]
  },
  {
   "cell_type": "markdown",
   "metadata": {},
   "source": [
    "## Initial imports/function definitions"
   ]
  },
  {
   "cell_type": "code",
   "execution_count": 1,
   "metadata": {},
   "outputs": [],
   "source": [
    "%matplotlib widget\n",
    "import os, sys\n",
    "import numpy as np\n",
    "import matplotlib.pyplot as plt\n",
    "#plt.style.use('petrstyle.txt')\n",
    "from matplotlib.ticker import NullFormatter\n",
    "import glob, h5py\n",
    "import shutil\n",
    "import scipy.io\n",
    "import pandas as pd\n",
    "import pydicom as dicom\n",
    "import cv2\n",
    "\n",
    "from astra import Astra#, template_dir\n",
    "from astra.plot import plot_fieldmaps, plot_stats, plot_stats_with_layout\n",
    "import distgen\n",
    "from distgen import Generator\n",
    "from distgen.writers import *\n",
    "from pmd_beamphysics import ParticleGroup\n",
    "from pmd_beamphysics.plot import marginal_plot\n",
    "\n",
    "#slice plots\n",
    "# from h5py import File\n",
    "# from pmd_beamphysics.interfaces import opal\n",
    "# from pmd_beamphysics.plot import slice_plot\n",
    "# from pmd_beamphysics.plot import marginal_plot, density_plot"
   ]
  },
  {
   "cell_type": "code",
   "execution_count": 2,
   "metadata": {},
   "outputs": [],
   "source": [
    "def parse_opal_emitted_dist(filename, names=['x', 'px','y','py','t','pz']):\n",
    "    '''Read in particle distribution used \n",
    "    in OPAL-T simulation. Used to describe the \n",
    "    beam distribution as it leaves the cathode.'''\n",
    "    dist = {}\n",
    "    data = np.loadtxt(filename, skiprows=1)\n",
    "    for i,name in enumerate(names):\n",
    "        dist[name] = data[:,i]\n",
    "    return dist\n",
    "    \n",
    "def parse_astra_dist(filename, header=['x', 'y', 'z', 'px','py', 'pz', 't', 'Q', 'ptype', 'flag']):\n",
    "    '''\n",
    "    Read in initial particle distribution used \n",
    "    in ASTRA simulation. Used to describe the \n",
    "    beam distribution as it leaves the cathode.\n",
    "   \n",
    "    t     = time in ns\n",
    "    Q     = macro charge\n",
    "    ptype = particle type (electron: 1)\n",
    "    flag  = particle location (cathode: -1)\n",
    "    '''\n",
    "    #print(filename)\n",
    "    data = pd.read_csv(filename, delim_whitespace=True, names=header)\n",
    "    #print(data)\n",
    "    #only return non traj probe particles at cathodeprint(astradist['z'])\n",
    "    dist = data[data.flag == -1]\n",
    "    return dist #dist"
   ]
  },
  {
   "cell_type": "code",
   "execution_count": 3,
   "metadata": {},
   "outputs": [],
   "source": [
    "def make_tri(n, xmin, xmax, x):\n",
    "\n",
    "    half = int(n/2)\n",
    "    yr  = np.zeros(half*2)\n",
    "    #step 1\n",
    "    nr = int(n)\n",
    "    xr = np.random.rand(nr)\n",
    "\n",
    "    for j in range(0,nr):\n",
    "        #step 3\n",
    "        if j < half:\n",
    "            yr[j] = (1- np.sqrt(1-xr[j]))*(xmax-xmin)  \n",
    "        elif j >= half:\n",
    "        #step 4 \n",
    "            yr[j] = (-1 + np.sqrt(1-xr[j]))*(xmax-xmin) \n",
    "\n",
    "    #showplot(xr, yr)\n",
    "    for k in range(0,len(x)):\n",
    "        #print(y[k])\n",
    "        if (-yr[k]/8 <= x[k] <= yr[k]/8):\n",
    "            pass\n",
    "            #x[k]=0\n",
    "        else:\n",
    "            #print(x[k])\n",
    "            x[k]=0\n",
    "            #pass\n",
    "\n",
    "    #showplot(xr,x)\n",
    "    return x, xr"
   ]
  },
  {
   "cell_type": "markdown",
   "metadata": {},
   "source": [
    "### Distgen file generation"
   ]
  },
  {
   "cell_type": "code",
   "execution_count": 4,
   "metadata": {},
   "outputs": [],
   "source": [
    "# From Chris: https://github.com/slaclab/lcls-lattice/tree/master/distgen/models/cu_inj/vcc_image\n",
    "def write_distgen_xy_dist(filename, image, resolution, resolution_units='m'):\n",
    "    \"\"\"\n",
    "    Writes image data in distgen's xy_dist format\n",
    "    \n",
    "    Returns the absolute path to the file written\n",
    "    \n",
    "    \"\"\"\n",
    "    \n",
    "    # Get width of each dimension\n",
    "    widths = resolution * np.array(image.shape)\n",
    "    \n",
    "    # Form header\n",
    "    header = f\"\"\"x {widths[1]} {widths[1]/2} [{resolution_units}]\n",
    "y {widths[0]} {widths[0]/2}  [{resolution_units}]\"\"\"\n",
    "    \n",
    "    # Save with the correct orientation\n",
    "    np.savetxt(filename, np.flip(image, axis=0), header=header, comments='')\n",
    "    \n",
    "    return os.path.abspath(filename)"
   ]
  },
  {
   "cell_type": "markdown",
   "metadata": {},
   "source": [
    "### Setting the path of the ASTRA_BIN"
   ]
  },
  {
   "cell_type": "code",
   "execution_count": 5,
   "metadata": {},
   "outputs": [],
   "source": [
    "#Possible generalization for environment dependency path\n",
    "os.environ['ASTRA_BIN'] = os.getenv('ASTRA_BIN')\n",
    "#print(os.getenv('ASTRA_BIN'))"
   ]
  },
  {
   "cell_type": "code",
   "execution_count": 6,
   "metadata": {},
   "outputs": [],
   "source": [
    "#Edit this line to match your path if the above cell doesn't work\n",
    "#%env ASTRA_BIN=/Users/colinrecker/Desktop/SLACForks/Astra"
   ]
  },
  {
   "cell_type": "markdown",
   "metadata": {},
   "source": [
    "## Loading Laser Image"
   ]
  },
  {
   "cell_type": "markdown",
   "metadata": {},
   "source": [
    "### Initializing the laser image"
   ]
  },
  {
   "cell_type": "code",
   "execution_count": 7,
   "metadata": {},
   "outputs": [],
   "source": [
    "def scan_mkdir(name):\n",
    "    #makes scan directory\n",
    "    os.mkdir(os.path.join(sim_path, name))\n",
    "    scan_path = os.path.join(sim_path, name)\n",
    "\n",
    "    #makes data and plots directory\n",
    "    data_path = os.path.join(scan_path, 'data')\n",
    "    plots_path = os.path.join(scan_path, 'plots')\n",
    "    os.mkdir(data_path)\n",
    "    os.mkdir(plots_path)\n",
    "\n",
    "    #defining directories to add to data and plots\n",
    "    data_dirs = ['cropImage']\n",
    "    plots_dirs = ['animations', 'compare_dist', 'compare_img', 'energy_dist', 'final_electron_dist', 'init_electron_dist', 'laser_images', 'rotate_compare_dist']\n",
    "    for dir in data_dirs:\n",
    "        os.mkdir(os.path.join(data_path, dir))\n",
    "    for dir in plots_dirs:\n",
    "        os.mkdir(os.path.join(plots_path, dir))\n",
    "\n",
    "    #copies .dcm to scan_path directory\n",
    "    shutil.copy2(init_dcm_path, scan_path)"
   ]
  },
  {
   "cell_type": "code",
   "execution_count": 11,
   "metadata": {},
   "outputs": [],
   "source": [
    "#Loads and returns reshaped laser image based on index\n",
    "def laser_load(index):\n",
    "    mat = scipy.io.loadmat(vcc[index])\n",
    "    #Scraping Name of File\n",
    "    global laser_name\n",
    "    laser_name = str(mat['data'][0][0][0][0])\n",
    "\n",
    "    #Image Reshaping\n",
    "    arr = mat['data']\n",
    "    dim = arr.shape[0]\n",
    "    #print(dim)\n",
    "    xy = int(np.sqrt(dim))\n",
    "    nrow = xy\n",
    "    ncol = xy\n",
    "    return arr.reshape(nrow, ncol)[0][0][1], xy"
   ]
  },
  {
   "cell_type": "markdown",
   "metadata": {},
   "source": [
    "### Path definitions"
   ]
  },
  {
   "cell_type": "code",
   "execution_count": 12,
   "metadata": {},
   "outputs": [],
   "source": [
    "#define xta repo path\n",
    "xta_path = '/Users/colinrecker/Desktop/SLACForks/xta'\n",
    "os.chdir(xta_path)\n",
    "\n",
    "#define simulation data directory path\n",
    "sim_path = '/Users/colinrecker/Google Drive/My Drive/Colin/Simulations'\n",
    "\n",
    "#Loads all example laser images into list\n",
    "vcc = glob.glob(f'{sim_path}/data/laser_mat_images/*.mat')\n",
    "\n",
    "#defining tumor scan\n",
    "init_dcm_path = os.path.join(sim_path, 'Fluence Maps Anon', 'Field 2 Anon', 'field2.dcm')\n",
    "image_name = os.path.splitext(os.path.split(init_dcm_path)[-1])[0]\n",
    "\n",
    "#Creates scan directory\n",
    "if not os.path.exists(os.path.join(sim_path, image_name)):\n",
    "    scan_mkdir(image_name)\n",
    "    print(f'Created new directory for {image_name}')\n",
    "\n",
    "scan_path = os.path.join(sim_path, image_name)\n",
    "\n",
    "#path to directories\n",
    "plots_path = os.path.join(scan_path,'plots')\n",
    "data_path = os.path.join(scan_path, 'data')"
   ]
  },
  {
   "cell_type": "markdown",
   "metadata": {},
   "source": [
    "### Plotting Laser Image"
   ]
  },
  {
   "cell_type": "code",
   "execution_count": 13,
   "metadata": {},
   "outputs": [],
   "source": [
    "IMAGE, xy = laser_load(0) #Index of first vcc image\n",
    "plt.figure()\n",
    "plt.imshow(IMAGE)#, extent=[0,1,0,1])\n",
    "plt.ylabel('Pixel', size=20)\n",
    "plt.xlabel('Pixel', size=20)\n",
    "plt.savefig(f'{plots_path}/laser_images/{laser_name}.jpg', dpi=300, bbox_inches='tight')\n",
    "plt.close()"
   ]
  },
  {
   "cell_type": "markdown",
   "metadata": {},
   "source": [
    "### Generating associated .txt file for distgen"
   ]
  },
  {
   "cell_type": "code",
   "execution_count": 14,
   "metadata": {},
   "outputs": [],
   "source": [
    "FOUT = write_distgen_xy_dist(f'astra/astra-inputs/{laser_name}.txt', IMAGE, xy, resolution_units='um')"
   ]
  },
  {
   "cell_type": "markdown",
   "metadata": {},
   "source": [
    "# Generating electron distribution with tumor image"
   ]
  },
  {
   "cell_type": "markdown",
   "metadata": {},
   "source": [
    "### Defining Global Plot Axes Limits"
   ]
  },
  {
   "cell_type": "code",
   "execution_count": 15,
   "metadata": {},
   "outputs": [],
   "source": [
    "left_xaxis, right_xaxis= -10, 10\n",
    "left_yaxis , right_yaxis = -10, 10"
   ]
  },
  {
   "cell_type": "markdown",
   "metadata": {},
   "source": [
    "## Centering Image"
   ]
  },
  {
   "cell_type": "code",
   "execution_count": 16,
   "metadata": {},
   "outputs": [
    {
     "data": {
      "text/plain": [
       "'/Users/colinrecker/Google Drive/My Drive/Colin/Simulations/field2/data/cropImage/field2.jpg'"
      ]
     },
     "execution_count": 16,
     "metadata": {},
     "output_type": "execute_result"
    }
   ],
   "source": [
    "def dcm_Crop(im_input):\n",
    "    ds = dicom.dcmread(im_input)\n",
    "    pixArr = ds.pixel_array\n",
    "    dim = pixArr.shape\n",
    "    height, width = dim[0], dim[1]\n",
    "\n",
    "    #pixel threshold 5000\n",
    "    x, y = np.where(pixArr > 5000)\n",
    "    xl, xr = x.min(), x.max()\n",
    "    yl, yr = y.min(), y.max()\n",
    "    crop = pixArr[xl:xr+1, yl:yr+1]\n",
    "    plt.imsave(f'{xta_path}/test.jpg', crop)\n",
    "    \n",
    "    padx = (height - crop.shape[0], width - crop.shape[1])\n",
    "    padImg = np.pad(crop, [(124, 124), (124, 124)], mode='constant')\n",
    "\n",
    "    save_path = f'{data_path}/cropImage/{image_name}.jpg'\n",
    "    plt.imsave(save_path, padImg)\n",
    "    return save_path\n",
    "\n",
    "dcm_path = os.path.join(scan_path, f'{image_name}.dcm')\n",
    "dcm_Crop(dcm_path)"
   ]
  },
  {
   "cell_type": "markdown",
   "metadata": {},
   "source": [
    "## Electron Distribution Generation"
   ]
  },
  {
   "cell_type": "code",
   "execution_count": 17,
   "metadata": {},
   "outputs": [],
   "source": [
    "def generate_dist():\n",
    "    dist_file = 'astra/astra-inputs/distgen.yaml'\n",
    "    dist = Generator(dist_file, verbose=False)\n",
    "\n",
    "    dist.input['xy_dist']['file'] = dcm_Crop(dcm_path)\n",
    "    dist.input['n_particle'] = int(1e4)\n",
    "    dist.input['start']['MTE']['value'] = 130 #330\n",
    "\n",
    "    fwhm = 0.06/2.355 # 60 fs = 0.06 ps\n",
    "    dist.input['t_dist']['sigma_t']['value'] = fwhm\n",
    "\n",
    "    dist.input['total_charge']['value'] = 1\n",
    "\n",
    "    # dist.input['r_dist']['max_r']['value'] = 0.5\n",
    "\n",
    "    dist.run()\n",
    "    particles = dist.particles \n",
    "    particles.write_astra('astra/astra-inputs/astra_particles.txt')\n",
    "    return particles, dist"
   ]
  },
  {
   "cell_type": "markdown",
   "metadata": {},
   "source": [
    "## Electron Distribution Plots"
   ]
  },
  {
   "cell_type": "code",
   "execution_count": 18,
   "metadata": {},
   "outputs": [],
   "source": [
    "particles, dist = generate_dist()\n",
    "particles.plot('x','y')\n",
    "plt.close()"
   ]
  },
  {
   "cell_type": "code",
   "execution_count": 19,
   "metadata": {},
   "outputs": [],
   "source": [
    "num_bins = 45\n",
    "plt.figure(figsize=(5, 5))\n",
    "astradist = parse_opal_emitted_dist('astra/astra-inputs/astra_particles.txt', names=['x', 'y', 'z', 'px','py', 'pz', 't', 'Q', 'ptype', 'flag'])\n",
    "plt.hist2d(astradist['x']*10**3, astradist['y']*10**3, num_bins, facecolor='blue', cmin=2)#, alpha=0.5)\n",
    "#print(xy)\n",
    "plt.title('Initial Electron Distribution')\n",
    "plt.ylabel('y [mm]', size=20)\n",
    "plt.xlabel('x [mm]', size=20)\n",
    "plt.xlim([left_xaxis, right_xaxis])\n",
    "plt.ylim([left_yaxis, right_yaxis])\n",
    "plt.savefig(f'{plots_path}/init_electron_dist/{image_name}.jpg', dpi=300)\n",
    "plt.close()"
   ]
  },
  {
   "cell_type": "markdown",
   "metadata": {},
   "source": [
    "# Run ASTRA"
   ]
  },
  {
   "cell_type": "markdown",
   "metadata": {},
   "source": [
    "## Initializing simulation with xta.in file"
   ]
  },
  {
   "cell_type": "code",
   "execution_count": 20,
   "metadata": {},
   "outputs": [],
   "source": [
    "astra_file = 'astra/astra-inputs/xta.in'\n",
    "xta = Astra(initial_particles=particles, input_file=astra_file, verbose=False)\n",
    "#xta.input['cavity']['file_efield(1)'] = f'{sim_path}/data/fieldmaps/map559.dat'"
   ]
  },
  {
   "cell_type": "code",
   "execution_count": 21,
   "metadata": {},
   "outputs": [],
   "source": [
    "#Changing inputs on xta\n",
    "xta.input['solenoid']['maxb(1)'] = 0.427"
   ]
  },
  {
   "cell_type": "code",
   "execution_count": 22,
   "metadata": {},
   "outputs": [],
   "source": [
    "xta.input['newrun']['zstart'] = 0.0\n",
    "xta.input['newrun']['zstop'] = 0.25\n",
    "xta.input['charge']['lspch'] = True\n",
    "xta.input['newrun']['zphase'] = 50"
   ]
  },
  {
   "cell_type": "markdown",
   "metadata": {},
   "source": [
    "## Running Astra Simulation"
   ]
  },
  {
   "cell_type": "code",
   "execution_count": 27,
   "metadata": {},
   "outputs": [],
   "source": [
    "xta.run()\n",
    "xta.archive(f'{sim_path}/{image_name}/xta_{xta.input[\"solenoid\"][\"maxb(1)\"]}B.h5')\n",
    "xta.load_archive(f'{sim_path}/{image_name}/xta_{xta.input[\"solenoid\"][\"maxb(1)\"]}B.h5')"
   ]
  },
  {
   "cell_type": "code",
   "execution_count": null,
   "metadata": {},
   "outputs": [],
   "source": [
    "#xta.archive('xta_60fs_1mm_10pC_noSC_laser_weak_solenoid_0.45_zstop_5.5.h5')\n",
    "#xta.load_archive('archives/xta_60fs_1mm_10pC_SC_laser_weak_solenoid_0.45_zstop_5.5.h5')"
   ]
  },
  {
   "cell_type": "markdown",
   "metadata": {},
   "source": [
    "# Plots"
   ]
  },
  {
   "cell_type": "markdown",
   "metadata": {},
   "source": [
    "## Energy Plots"
   ]
  },
  {
   "cell_type": "code",
   "execution_count": 28,
   "metadata": {},
   "outputs": [],
   "source": [
    "test = xta.particles[-1].plot('energy')\n",
    "plt.savefig(f'{plots_path}/energy_dist/{image_name}.jpg', dpi=250)\n",
    "plt.close()"
   ]
  },
  {
   "cell_type": "markdown",
   "metadata": {},
   "source": [
    "## Electron Distribution Plots"
   ]
  },
  {
   "cell_type": "markdown",
   "metadata": {},
   "source": [
    "### Final Distribution Plot"
   ]
  },
  {
   "cell_type": "code",
   "execution_count": 29,
   "metadata": {},
   "outputs": [],
   "source": [
    "#xta.load_archive('archives/xta_60fs_1mm_1pC_SC_laser_test.h5')\n",
    "plt.figure(figsize=(5, 5))\n",
    "# xta.particles[-1].plot('x','y')\n",
    "xtapart = xta.particles[-1]\n",
    "num_bins = 45\n",
    "xy = plt.hist2d(xtapart.x*10**3, xtapart.y*10**3, num_bins, facecolor='blue', cmin=1)#, alpha=0.5)\n",
    "#print(np.mean(xtapart.z))\n",
    "plt.xlim([left_xaxis, right_xaxis])\n",
    "plt.ylim([left_yaxis, right_yaxis])\n",
    "plt.ylabel('y [mm]', size=20)\n",
    "plt.xlabel('X [mm]', size=20)\n",
    "plt.savefig(f'{plots_path}/final_electron_dist/{image_name}.jpg', dpi=300, bbox_inches='tight')\n",
    "plt.close()"
   ]
  },
  {
   "cell_type": "markdown",
   "metadata": {},
   "source": [
    "### Initial vs. Final Plot"
   ]
  },
  {
   "cell_type": "code",
   "execution_count": 31,
   "metadata": {},
   "outputs": [],
   "source": [
    "#Super plot\n",
    "fig, plots = plt.subplots(1, 2, figsize=(10, 5), sharex=True, sharey=True)\n",
    "fig.subplots_adjust(wspace=0.1)\n",
    "\n",
    "#Final plot\n",
    "finalxy = plt.subplot(1,2,2)\n",
    "xtapart = xta.particles[-1]\n",
    "num_bins = 42\n",
    "plt.hist2d(xtapart.x*10**3, xtapart.y*10**3, num_bins, facecolor='blue', cmin=1)\n",
    "plots[1].set(title='Final Shape', xlabel='x [mm]')\n",
    "\n",
    "#Initial Plot\n",
    "num_bins = 42\n",
    "initialxy = plt.subplot(1,2,1)\n",
    "plt.hist2d(xta.particles[0].x*10**3, xta.particles[0].y*10**3, num_bins, facecolor='blue', cmin=1)\n",
    "plots[0].set(title='Initial Shape', xlabel='x [mm]', ylabel='y [mm]', xlim=[left_xaxis, right_xaxis], ylim=[left_yaxis, right_yaxis])\n",
    "\n",
    "\n",
    "plt.suptitle(f'Initial vs. Final Beam Shape\\\\n |B|={xta.input[\"solenoid\"][\"maxb(1)\"]} T, q={dist.input[\"total_charge\"][\"value\"]} nC')\n",
    "#plt.tight_layout\n",
    "\n",
    "plt.savefig(f'{plots_path}/compare_dist/{image_name}.jpg', dpi=300, bbox_inches='tight')\n",
    "plt.close()"
   ]
  },
  {
   "cell_type": "markdown",
   "metadata": {},
   "source": [
    "### Cross Sections"
   ]
  },
  {
   "cell_type": "code",
   "execution_count": 32,
   "metadata": {},
   "outputs": [],
   "source": [
    "num_cross = 6\n",
    "num_rows = math.ceil(num_cross/3)\n",
    "num_bins = 42\n",
    "\n",
    "#Super plot\n",
    "fig, plots = plt.subplots(num_rows, 3, sharex=True, sharey=True)\n",
    "fig.subplots_adjust(wspace=0.2, hspace=0.5)\n",
    "\n",
    "#Final plot\n",
    "finalxy = plt.subplot(num_rows, 3, num_cross)\n",
    "xtapart = xta.particles[-1]\n",
    "plt.hist2d(xtapart.x*10**3, xtapart.y*10**3, num_bins, facecolor='blue', cmin=1)\n",
    "meanZ = round(mean(xtapart.z), 3)\n",
    "plt.title(f'z={meanZ} m', size=8)\n",
    "plt.xlabel(f'x [mm]')\n",
    "\n",
    "#Intermediate plots\n",
    "for plot in range(2, num_cross):\n",
    "    intxy = plt.subplot(num_rows, 3, plot)\n",
    "    index = (len(xta.particles)//(num_cross-1))*(plot-1)\n",
    "    xtapart = xta.particles[index]\n",
    "    plt.hist2d(xtapart.x*10**3, xtapart.y*10**3, num_bins, facecolor='blue', cmin = 1)\n",
    "    meanZ = round(mean(xtapart.z), 3)\n",
    "    plt.title(f'z={meanZ} m', size=8)\n",
    "    if plot >= (num_cross - 2):\n",
    "        plt.xlabel('x [mm]')\n",
    "    if (plot-1)%3 == 0:\n",
    "        plt.ylabel('y [mm]')\n",
    "\n",
    "#Initial Plot\n",
    "initialxy = plt.subplot(num_rows, 3, 1)\n",
    "xtapart = xta.particles[0]\n",
    "plt.hist2d(xtapart.x*10**3, xtapart.y*10**3, num_bins, facecolor='blue', cmin=1)\n",
    "plt.xlim([left_xaxis, right_xaxis])\n",
    "plt.ylim([left_yaxis, right_yaxis])\n",
    "meanZ = round(mean(xtapart.z), 3)\n",
    "plt.title(f'z={meanZ} m', size=8)\n",
    "plt.ylabel('y [mm]')\n",
    "plt.suptitle(f'|B|={xta.input[\"solenoid\"][\"maxb(1)\"]} T, q={dist.input[\"total_charge\"][\"value\"]} nC', weight='bold')\n",
    "plt.close()"
   ]
  },
  {
   "cell_type": "markdown",
   "metadata": {},
   "source": [
    "## Beam Size vs. Mean Z"
   ]
  },
  {
   "cell_type": "code",
   "execution_count": 34,
   "metadata": {},
   "outputs": [],
   "source": [
    "plt.figure()\n",
    "plt.plot(xta.stat('mean_z'), xta.stat('sigma_z')*10**3, '-', label=\"$\\sigma_z$\")\n",
    "plt.plot(xta.stat('mean_z'), xta.stat('sigma_x')*10**3, '-', label=\"$\\sigma_x$\")\n",
    "plt.xlabel('Mean z [m]')\n",
    "plt.ylabel('Beam size [mm]')\n",
    "plt.legend(loc='upper right')\n",
    "plt.ylim(0,0.1)\n",
    "plt.xlim(0,1)\n",
    "plt.grid()\n",
    "plt.close()"
   ]
  },
  {
   "cell_type": "markdown",
   "metadata": {},
   "source": [
    "## Mean Kinetic Energy vs. Mean Z"
   ]
  },
  {
   "cell_type": "code",
   "execution_count": 35,
   "metadata": {},
   "outputs": [],
   "source": [
    "plt.figure()\n",
    "plt.plot(xta.stat('mean_z'), xta.stat('mean_kinetic_energy')*10**-6, '-', label=\"Energy\")\n",
    "# plt.plot(xta.stat('mean_z'), xta.stat('sigma_x')*10**3, '-', label=\"$\\sigma_x$\")\n",
    "plt.xlabel('Mean z [m]')\n",
    "plt.ylabel('Mean Kinetic Energy [eV]')\n",
    "plt.legend(loc='upper right')\n",
    "# plt.ylim(0,0.6)\n",
    "# plt.xlim(0,0.7)\n",
    "plt.grid()\n",
    "plt.close()"
   ]
  },
  {
   "cell_type": "markdown",
   "metadata": {},
   "source": [
    "## Movie"
   ]
  },
  {
   "cell_type": "code",
   "execution_count": 36,
   "metadata": {},
   "outputs": [],
   "source": [
    "import matplotlib.animation as animation"
   ]
  },
  {
   "cell_type": "markdown",
   "metadata": {},
   "source": [
    "### Initial histogram"
   ]
  },
  {
   "cell_type": "code",
   "execution_count": 42,
   "metadata": {},
   "outputs": [
    {
     "data": {
      "application/vnd.jupyter.widget-view+json": {
       "model_id": "d35eedde56fe422db33302880168b2cc",
       "version_major": 2,
       "version_minor": 0
      },
      "image/png": "[encoded data removed]",
      "text/html": [
       "\n",
       "            <div style=\"display: inline-block;\">\n",
       "                <div class=\"jupyter-widgets widget-label\" style=\"text-align: center;\">\n",
       "                    Figure\n",
       "                </div>\n",
       "                <img src='data:image/png;base64,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' width=500.0/>\n",
       "            </div>\n",
       "        "
      ],
      "text/plain": [
       "Canvas(toolbar=Toolbar(toolitems=[('Home', 'Reset original view', 'home', 'home'), ('Back', 'Back to previous …"
      ]
     },
     "metadata": {},
     "output_type": "display_data"
    }
   ],
   "source": [
    "fig, axs = plt.subplots(figsize=(5, 5))\n",
    "init_frame = 0\n",
    "num_bins = 42\n",
    "beam = xta.particles[init_frame]\n",
    "\n",
    "data, x, y, _ = axs.hist2d(beam.x*10**3, beam.y*10**3, num_bins, cmin=1)\n",
    "axs.set_title(f\"|B|={xta.input['solenoid']['maxb(1)']} T, q={dist.input['total_charge']['value']} nC, Mean z={round(mean(beam.z), 3)} m\")\n",
    "axs.set_xlabel('x [mm]', size=15)\n",
    "axs.set_ylabel('y [mm]', size=15)\n",
    "axs.set(xlim =[left_xaxis, right_xaxis], ylim = [left_yaxis, right_yaxis])\n",
    "\n",
    "frameCount = axs.text(right_xaxis-1, right_yaxis+0.4, f'Frame: {init_frame}')\n",
    "pix = np.flipud(data.T)\n",
    "im = plt.imshow(pix, extent=[x[0], x[-1], y[0], y[-1]])\n",
    "#plt.close()"
   ]
  },
  {
   "cell_type": "markdown",
   "metadata": {},
   "source": [
    "### Animating the histogram"
   ]
  },
  {
   "cell_type": "code",
   "execution_count": 43,
   "metadata": {},
   "outputs": [],
   "source": [
    "def animate(i):\n",
    "    plt.cla()\n",
    "    beam = xta.particles[i]\n",
    "    X = beam.x*10**3\n",
    "    Y = beam.y*10**3\n",
    "    data, x, y, _ = plt.hist2d(X, Y, num_bins, cmin=1)\n",
    "    axs.set_title(f\"|B|={xta.input['solenoid']['maxb(1)']} T, q={dist.input['total_charge']['value']} nC, Mean z={round(mean(beam.z), 3)} m\")\n",
    "    axs.set(xlim =[left_xaxis, right_xaxis], ylim = [left_yaxis, right_yaxis])\n",
    "    axs.set_xlabel('x [mm]', size=15)\n",
    "    axs.set_ylabel('y [mm]', size=15)\n",
    "    frameCount = axs.text(right_xaxis-1, right_yaxis+0.4, f'Frame: {i}')\n",
    "    pix = np.flipud(data.T)\n",
    "    im.set_data(pix)\n",
    "    im.set_extent([x[0], x[-1], y[0], y[-1]])\n",
    "    \n",
    "num = len(xta.particles)\n",
    "playback_speed = 6 #In fps\n",
    "anim = animation.FuncAnimation(fig, animate, np.arange(1,num), repeat_delay = 2500, repeat = False)\n",
    "\n",
    "#Save animation\n",
    "writervideo = animation.FFMpegWriter(fps=playback_speed)\n",
    "anim.save(f'{plots_path}/animations/{image_name}.mp4', writer=writervideo)"
   ]
  },
  {
   "cell_type": "markdown",
   "metadata": {},
   "source": [
    "# Characterizing Beam Rotation"
   ]
  },
  {
   "cell_type": "markdown",
   "metadata": {},
   "source": [
    "## Track movement of particles"
   ]
  },
  {
   "cell_type": "code",
   "execution_count": 44,
   "metadata": {},
   "outputs": [],
   "source": [
    "def rotate_particles(frame):\n",
    "    #initial and final particle groups\n",
    "    init_part = xta.particles[0]\n",
    "    fin_part = xta.particles[frame]\n",
    "\n",
    "    #Picking a particle to track\n",
    "    particleIndex = 100\n",
    "    iPos = np.array([float(init_part[particleIndex].x), float(init_part[particleIndex].y)])\n",
    "    iMag = np.sqrt(iPos.dot(iPos))\n",
    "    fPos = np.array([float(fin_part[particleIndex].x), float(fin_part[particleIndex].y)])\n",
    "    fMag = np.sqrt(fPos.dot(fPos))\n",
    "    #This is negative since the rotation is clockwise\n",
    "    diffAngle = -np.arccos((np.dot(iPos, fPos))/(iMag*fMag))\n",
    "\n",
    "\n",
    "    #print(f'Initial Position: {iPos}')\n",
    "    #print(f'Final Position: {fPos}')\n",
    "    #print(f'Change in Angle: {round(math.degrees(diffAngle), 3)}')#Rotation transformation matrix\n",
    "    R = np.array(((np.cos(diffAngle), -np.sin(diffAngle)), (np.sin(diffAngle), np.cos(diffAngle))))\n",
    "\n",
    "    #2d Array of x and y points\n",
    "    vect = np.vstack((fin_part.x*10**3, fin_part.y*10**3))\n",
    "\n",
    "    #Applying rotation\n",
    "    rotVect = R.dot(vect)\n",
    "    return R.dot(vect)\n",
    "rotVect = rotate_particles(-1)"
   ]
  },
  {
   "cell_type": "markdown",
   "metadata": {},
   "source": [
    "## Plotting initial vs. final with rotation adjustment"
   ]
  },
  {
   "cell_type": "code",
   "execution_count": 45,
   "metadata": {},
   "outputs": [
    {
     "data": {
      "application/vnd.jupyter.widget-view+json": {
       "model_id": "b4a0397d09c04d719e0952d3cb880c65",
       "version_major": 2,
       "version_minor": 0
      },
      "image/png": "[encoded data removed]",
      "text/html": [
       "\n",
       "            <div style=\"display: inline-block;\">\n",
       "                <div class=\"jupyter-widgets widget-label\" style=\"text-align: center;\">\n",
       "                    Figure\n",
       "                </div>\n",
       "                <img src='data:image/png;base64,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' width=850.0/>\n",
       "            </div>\n",
       "        "
      ],
      "text/plain": [
       "Canvas(toolbar=Toolbar(toolitems=[('Home', 'Reset original view', 'home', 'home'), ('Back', 'Back to previous …"
      ]
     },
     "metadata": {},
     "output_type": "display_data"
    }
   ],
   "source": [
    "fig, plots = plt.subplots(1, 2, figsize=(8.5, 4.25), sharex=True, sharey=True)\n",
    "#fig.subplots_adjust(wspace=0.1)\n",
    "\n",
    "#Final plot\n",
    "finalxy = plt.subplot(1,2,2)\n",
    "fin, x, y, _ = finalxy.hist2d(rotVect[0], rotVect[1], num_bins, facecolor='blue', cmin=1)\n",
    "plots[1].set(title='Rotated Final Shape', xlabel='x [mm]')\n",
    "\n",
    "#Initial Plot\n",
    "initialxy = plt.subplot(1,2,1)\n",
    "init, _, _, _ = plt.hist2d(xtapart.x*10**3, xtapart.y*10**3, num_bins, facecolor='blue', cmin=1)\n",
    "plots[0].set(title='Initial Shape', xlabel='x [mm]', ylabel='y [mm]', xlim=[left_xaxis, right_xaxis], ylim=[left_yaxis, right_yaxis])\n",
    "\n",
    "plt.suptitle(f\"Initial vs. Final Beam Shape\\\\n |B|={xta.input['solenoid']['maxb(1)']} T, q={dist.input['total_charge']['value']} nC\")\n",
    "\n",
    "plt.savefig(f'{plots_path}/rotate_compare_dist/{image_name}.jpg', dpi=300, bbox_inches='tight')\n",
    "#plt.close()"
   ]
  },
  {
   "cell_type": "markdown",
   "metadata": {},
   "source": [
    "## Saving Subplots"
   ]
  },
  {
   "cell_type": "code",
   "execution_count": 46,
   "metadata": {},
   "outputs": [],
   "source": [
    "sub_bins = 42\n",
    "fig, ax = plt.subplots(figsize=(5, 5), frameon=False)\n",
    "plt.hist2d(xtapart.x*10**3, xtapart.y*10**3, sub_bins, facecolor='blue', cmin=1)\n",
    "ax.set(xlim=[left_xaxis, right_xaxis], ylim=[left_yaxis, right_yaxis])\n",
    "fig.savefig(f'{plots_path}/compare_img/init_{image_name}.jpg', bbox_inches='tight', pad_inches=0)\n",
    "\n",
    "plt.close()\n",
    "\n",
    "fig, ax = plt.subplots(figsize=(5, 5), frameon=False)\n",
    "plt.hist2d(rotVect[0], rotVect[1], sub_bins, facecolor='blue', cmin=1)\n",
    "ax.set(xlim=[left_xaxis, right_xaxis], ylim=[left_yaxis, right_yaxis])\n",
    "fig.savefig(f'{plots_path}/compare_img/final_{image_name}.jpg', bbox_inches='tight', pad_inches=0)\n",
    "plt.close()"
   ]
  },
  {
   "cell_type": "markdown",
   "metadata": {},
   "source": [
    "# Statistics Plots Boiler Plate"
   ]
  },
  {
   "cell_type": "code",
   "execution_count": 47,
   "metadata": {},
   "outputs": [],
   "source": [
    "#Initial, final, energy, beam size, bunch length, \n",
    "def boiler_plotplate(**kwargs):\n",
    "    optionsDict = {'Initial': True, 'Final': True, 'Verbose':False, 'Rotate': True, 'BeamSize': True, 'BunchLength': True, 'FrameCount': True, 'xy_lim': [-4, 4]}\n",
    "    plotsDict = {'Energy': True}\n",
    "    for option, value in kwargs.items():\n",
    "        try:\n",
    "            optionsDict[option] = value\n",
    "            plotsDict[option] = value\n",
    "        except:\n",
    "            pass\n",
    "    \n",
    "    if optionsDict['Verbose']:\n",
    "        print('Options: ', optionsDict)\n",
    "        print('Plots: ', plotsDict)\n",
    "    \n",
    "    if not optionsDict['Initial'] and not optionsDict['Final']:\n",
    "        print('Nothing to plot, enable initial or final distributions')\n",
    "        return\n",
    "    num_rows = 2 if optionsDict['Initial'] and optionsDict['Final'] else 1\n",
    "\n",
    "    #Determinining number of columns based on number of plots\n",
    "    num_cols = 1\n",
    "    for plot in plotsDict:\n",
    "        if plotsDict[plot]:\n",
    "            num_cols += 1\n",
    "    \n",
    "    #Generating the plots\n",
    "    fig, plots = plt.subplots(num_rows, num_cols, figsize = (4*num_cols, 4*num_rows), sharex=True, sharey=True)\n",
    "\n",
    "    #Final Plots\n",
    "    if optionsDict['Final']:\n",
    "        finalxy = plt.subplot(num_rows, num_cols, num_cols+1)\n",
    "        plt.hist2d(rotVect[0], rotVect[1], num_bins, facecolor='blue', cmin=1) if optionsDict['Rotate'] else plt.hist2d(xta.particles[-1].x*10**3, xta.particles[-1].y*10**3, num_bins, facecolor='blue', cmin=1)\n",
    "        plt.title('Final Distribution')\n",
    "        for plot in plotsDict.items():\n",
    "            print()\n",
    "    #Initial Plots\n",
    "    if optionsDict['Initial']:\n",
    "        initalxy = plt.subplot(num_rows, num_cols, 1)\n",
    "        plt.hist2d(xta.particles[0].x*10**3, xta.particles[0].y*10**3, num_bins, facecolor='blue', cmin=1)\n",
    "        plt.title('Initial Distribution')\n",
    "        plt.xlim(optionsDict['xy_lim'][0], optionsDict['xy_lim'][1])\n",
    "        plt.ylim(optionsDict['xy_lim'][0], optionsDict['xy_lim'][1])\n",
    "\n",
    "#boiler_plotplate()"
   ]
  },
  {
   "cell_type": "markdown",
   "metadata": {},
   "source": [
    "# Comparitive Image Analysis"
   ]
  },
  {
   "cell_type": "markdown",
   "metadata": {},
   "source": [
    "### Image Subtraction"
   ]
  },
  {
   "cell_type": "code",
   "execution_count": 48,
   "metadata": {},
   "outputs": [],
   "source": [
    "def greyscale(image):\n",
    "    return np.dot(image[...,:3], [0.33, 0.33, 0.33])\n",
    "\n",
    "def subtractImg():\n",
    "    initIm = greyscale(cv2.imread(f'{plots_path}/compare_img/init_{image_name}.jpg'))\n",
    "    finIm = greyscale(cv2.imread(f'{plots_path}/compare_img/final_{image_name}.jpg'))\n",
    "    diff = np.absolute(initIm-finIm)\n",
    "    cv2.imwrite(f'{plots_path}/compare_img/diff_{image_name}.jpg', diff)\n",
    "\n",
    "subtractImg()"
   ]
  },
  {
   "cell_type": "markdown",
   "metadata": {},
   "source": [
    "# B Field Scanning"
   ]
  },
  {
   "cell_type": "markdown",
   "metadata": {},
   "source": [
    "### Function that scores image likeness"
   ]
  },
  {
   "cell_type": "code",
   "execution_count": 49,
   "metadata": {},
   "outputs": [],
   "source": [
    "def score(img):\n",
    "    sumPixels = img.sum()\n",
    "    squareSum = np.square(img).sum()\n",
    "    return sumPixels"
   ]
  },
  {
   "cell_type": "markdown",
   "metadata": {},
   "source": [
    "### Does a single simulation with specific B value (Histogram Image Subtraction)"
   ]
  },
  {
   "cell_type": "code",
   "execution_count": 50,
   "metadata": {},
   "outputs": [],
   "source": [
    "def run(B):\n",
    "    xta.input['solenoid']['maxb(1)'] = B\n",
    "    xta.run()\n",
    "    rotVect = rotate_particles(-1)\n",
    "    fig, ax = plt.subplots(figsize=(5, 5), frameon=False)\n",
    "    plt.hist2d(rotVect[0], rotVect[1], sub_bins, facecolor='blue', cmin=1)\n",
    "    ax.set(xlim=[left_xaxis, right_xaxis], ylim=[left_yaxis, right_yaxis])\n",
    "    fig.savefig(f'{plots_path}/compare_img/final_{image_name}.jpg', bbox_inches='tight', pad_inches=0)\n",
    "    plt.close()\n",
    "    subtractImg()\n",
    "    subImg = plt.imread(f'{plots_path}/compare_img/diff_{image_name}.jpg')\n",
    "    return score(subImg)"
   ]
  },
  {
   "cell_type": "markdown",
   "metadata": {},
   "source": [
    "### Single B scan with greyscale subtraction, specific interval"
   ]
  },
  {
   "cell_type": "code",
   "execution_count": 51,
   "metadata": {},
   "outputs": [],
   "source": [
    "def b_scan(min, max, scans, precision, verbose):\n",
    "    if scans <= 3:\n",
    "        raise ValueError('There must be more than 3 scans!')\n",
    "    b_vals = np.linspace(min, max, scans)\n",
    "    if verbose:\n",
    "        print('Scanning B values: ', b_vals)\n",
    "    opt_B = min\n",
    "    opt_score = 1e9\n",
    "    for B in b_vals:\n",
    "        if verbose:\n",
    "            print(f'\\\\nScanning {B} T')\n",
    "        if B in scoreDict.keys():\n",
    "            score = scoreDict[B]\n",
    "            if verbose:\n",
    "                print('Found in Dictionary!\\\\n')\n",
    "        else:\n",
    "            score = run(B)\n",
    "            scoreDict[B] = score\n",
    "        if verbose:\n",
    "            print(f'\\\\r\\\\tScore: {score}')\n",
    "        if score > opt_score:\n",
    "            if B > opt_B:\n",
    "                max_B = B\n",
    "                break\n",
    "            continue\n",
    "        elif b_vals[-1] == B:\n",
    "            raise ValueError('Upper limit is optimal limit, increase upper limit for proper scan!')\n",
    "        min_B = opt_B\n",
    "        opt_B = B\n",
    "        opt_score = score\n",
    "        opt_fin_img = plt.imread(f'{plots_path}/compare_img/final_{image_name}.jpg')\n",
    "        opt_diff_img = plt.imread(f'{plots_path}/compare_img/diff_{image_name}.jpg')\n",
    "        if verbose:\n",
    "            print(f'\\\\r\\\\tOptimal B is now {B} T')\n",
    "\n",
    "    #Cleanup plots\n",
    "    plt.imsave(f'{plots_path}/compare_img/final_{image_name}.jpg', opt_fin_img)\n",
    "    cv2.imwrite(f'{plots_path}/compare_img/diff_{image_name}.jpg', opt_diff_img)\n",
    "    if verbose:\n",
    "        print(f'\\\\n The optimal B value is in between ({min_B} T, {max_B} T)')\n",
    "    return opt_B, min_B, max_B\n",
    "\n",
    "#Dictionary of previously scanned values\n",
    "scoreDict = {}\n",
    "\n",
    "#opt_B, min_B, max_B = b_scan(0.425, 0.43, 3)"
   ]
  },
  {
   "cell_type": "markdown",
   "metadata": {},
   "source": [
    "### Continuous B scan, optimized to specificed decimal precision"
   ]
  },
  {
   "cell_type": "code",
   "execution_count": 53,
   "metadata": {},
   "outputs": [],
   "source": [
    "def cont_scan(init_domain, scans_per_iteration, precision, verbose):\n",
    "    min, max = init_domain\n",
    "    while round(min, precision) != round(max, precision):\n",
    "        if verbose:\n",
    "            print(f'\\n Starting new scan on interval ({min} T, {max} T)')\n",
    "        opt_B, min, max = b_scan(min, max, scans_per_iteration, precision, verbose)\n",
    "    if verbose:\n",
    "        print('\\n Continuous Scan Complete!')\n",
    "        print(f'\\r\\tOptimal B: {round(opt_B, precision)} (Precision: {precision})')\n",
    "    return opt_B\n",
    "    \n",
    "#cont_scan([0.38, 0.45], 5, 2, verbose=False)"
   ]
  },
  {
   "cell_type": "markdown",
   "metadata": {},
   "source": [
    "### X Projection Comparisons"
   ]
  },
  {
   "cell_type": "code",
   "execution_count": 54,
   "metadata": {},
   "outputs": [],
   "source": [
    "num_bins = 100\n",
    "\n",
    "def gaus(data):\n",
    "    avg = np.mean(data)\n",
    "    var = np.var(data)\n",
    "    gausx = np.linspace(left_xaxis, right_xaxis, 1000)\n",
    "    gausy = 1.0/np.sqrt(2*np.pi*var)*np.exp(-0.5*(gausx-avg)**2/var)\n",
    "    return gausx, gausy, round(avg, 3), round(var, 3)\n",
    "\n",
    "fig, axes = plt.subplots(1, 2, sharex=True, sharey=True)\n",
    "\n",
    "#Final X\n",
    "plt.subplot(1, 2, 2)\n",
    "data = xta.particles[-1].x*10**3\n",
    "finalx = plt.hist(data, num_bins, density=True, facecolor='green')\n",
    "gausx, gausy, avg, var = gaus(data)\n",
    "plt.plot(gausx, gausy, 'k--')\n",
    "plt.title('Final x')\n",
    "plt.xlabel(f'$\\\\mu$ = {avg} mm\\\\t$\\\\sigma$ = {var} mm')\n",
    "\n",
    "#Initial X\n",
    "plt.subplot(1, 2, 1)\n",
    "data = xta.particles[0].x*10**3\n",
    "initx = plt.hist(data, num_bins, density=True)\n",
    "gausx, gausy, avg, var = gaus(data)\n",
    "plt.plot(gausx, gausy, 'k--')\n",
    "plt.title('Initial x')\n",
    "plt.xlim(left_xaxis, right_xaxis)\n",
    "plt.xlabel(f'$\\\\mu$ = {avg} mm\\\\t$\\\\sigma$ = {var} mm')\n",
    "\n",
    "plt.suptitle('Normazlized $\\\\Delta$x')\n",
    "plt.close()"
   ]
  },
  {
   "cell_type": "code",
   "execution_count": 55,
   "metadata": {},
   "outputs": [
    {
     "data": {
      "application/vnd.jupyter.widget-view+json": {
       "model_id": "5371c130d9cc433da89b08cef0f89a0a",
       "version_major": 2,
       "version_minor": 0
      },
      "image/png": "[encoded data removed]",
      "text/html": [
       "\n",
       "            <div style=\"display: inline-block;\">\n",
       "                <div class=\"jupyter-widgets widget-label\" style=\"text-align: center;\">\n",
       "                    Figure\n",
       "                </div>\n",
       "                <img src='data:image/png;base64,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' width=640.0/>\n",
       "            </div>\n",
       "        "
      ],
      "text/plain": [
       "Canvas(toolbar=Toolbar(toolitems=[('Home', 'Reset original view', 'home', 'home'), ('Back', 'Back to previous …"
      ]
     },
     "metadata": {},
     "output_type": "display_data"
    }
   ],
   "source": [
    "plt.figure()\n",
    "plt.title('Initial and Final X Projections')\n",
    "plt.hist(xta.particles[0].x*10**3, num_bins, facecolor='blue', label='Initial X', alpha=1)\n",
    "plt.hist(xta.particles[-1].x*10**3, num_bins, facecolor='green', label='Final X', alpha=0.75)\n",
    "plt.xlim(left_xaxis, right_xaxis)\n",
    "plt.xlabel('X [mm]')\n",
    "plt.legend()\n",
    "plt.show()\n",
    "plt.close()"
   ]
  },
  {
   "cell_type": "markdown",
   "metadata": {},
   "source": [
    "### Y Projection Comparisons"
   ]
  },
  {
   "cell_type": "code",
   "execution_count": 56,
   "metadata": {},
   "outputs": [],
   "source": [
    "fig, axes = plt.subplots(1, 2, sharex=True, sharey=True)\n",
    "\n",
    "plt.subplot(1, 2, 2)\n",
    "data = xta.particles[-1].y*10**3\n",
    "finalx = plt.hist(data, num_bins, density=True, facecolor='green', orientation='horizontal')\n",
    "gausy, gausx, avg, var = gaus(data)\n",
    "plt.plot(gausx, gausy, 'k--')\n",
    "plt.title('Final y')\n",
    "plt.ylabel(f'$\\\\mu$ = {avg} mm\\\\t$\\\\sigma$ = {var} mm')\n",
    "\n",
    "plt.subplot(1, 2, 1)\n",
    "data = xta.particles[0].y*10**3\n",
    "initx = plt.hist(data, num_bins, density=True, orientation='horizontal')\n",
    "gausy, gausx, avg, var = gaus(data)\n",
    "plt.plot(gausx, gausy, 'k--')\n",
    "plt.title('Initial y')\n",
    "plt.ylim(left_yaxis, right_yaxis)\n",
    "plt.ylabel(f'$\\\\mu$ = {avg} mm\\\\t$\\\\sigma$ = {var} mm')\n",
    "\n",
    "plt.suptitle('Normazlized $\\\\Delta$y')\n",
    "plt.close()"
   ]
  },
  {
   "cell_type": "code",
   "execution_count": 57,
   "metadata": {},
   "outputs": [
    {
     "data": {
      "application/vnd.jupyter.widget-view+json": {
       "model_id": "ee8408cdd2944242a0f13d7a2bf96c46",
       "version_major": 2,
       "version_minor": 0
      },
      "image/png": "[encoded data removed]",
      "text/html": [
       "\n",
       "            <div style=\"display: inline-block;\">\n",
       "                <div class=\"jupyter-widgets widget-label\" style=\"text-align: center;\">\n",
       "                    Figure\n",
       "                </div>\n",
       "                <img src='data:image/png;base64,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' width=640.0/>\n",
       "            </div>\n",
       "        "
      ],
      "text/plain": [
       "Canvas(toolbar=Toolbar(toolitems=[('Home', 'Reset original view', 'home', 'home'), ('Back', 'Back to previous …"
      ]
     },
     "metadata": {},
     "output_type": "display_data"
    }
   ],
   "source": [
    "plt.figure()\n",
    "plt.title('Initial and Final Y Projections')\n",
    "plt.hist(xta.particles[0].y*10**3, num_bins, facecolor='blue', label='Initial X', alpha=1, orientation='horizontal')\n",
    "plt.hist(xta.particles[-1].y*10**3, num_bins, facecolor='green', label='Final X', alpha=0.75, orientation='horizontal')\n",
    "plt.ylim(left_yaxis, right_yaxis)\n",
    "plt.xlabel('Y [mm]')\n",
    "plt.legend()\n",
    "plt.show()\n",
    "plt.close()"
   ]
  }
 ],
 "metadata": {
  "kernelspec": {
   "display_name": "Python 3.8.13 ('SLAC')",
   "language": "python",
   "name": "python3"
  },
  "language_info": {
   "codemirror_mode": {
    "name": "ipython",
    "version": 3
   },
   "file_extension": ".py",
   "mimetype": "text/x-python",
   "name": "python",
   "nbconvert_exporter": "python",
   "pygments_lexer": "ipython3",
   "version": "3.8.13"
  },
  "orig_nbformat": 4,
  "vscode": {
   "interpreter": {
    "hash": "6c58c64d71ff03ed58a5a60eb518d74c326f0baf896481c551d83d64162bf060"
   }
  }
 },
 "nbformat": 4,
 "nbformat_minor": 2
}
