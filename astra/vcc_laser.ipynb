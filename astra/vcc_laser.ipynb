{
 "cells": [
  {
   "cell_type": "markdown",
   "metadata": {},
   "source": [
    "# VCC Laser Beam Shaping Simulation Example"
   ]
  },
  {
   "cell_type": "markdown",
   "metadata": {},
   "source": [
    "## Initial imports/function definitions"
   ]
  },
  {
   "cell_type": "code",
   "execution_count": 311,
   "metadata": {},
   "outputs": [],
   "source": [
    "%matplotlib widget\n",
    "import os, sys\n",
    "import numpy as np\n",
    "import matplotlib.pyplot as plt\n",
    "#plt.style.use('petrstyle.txt')\n",
    "from matplotlib.ticker import NullFormatter\n",
    "import glob, h5py\n",
    "import shutil\n",
    "import scipy.io\n",
    "import pandas as pd\n",
    "import pydicom as dicom\n",
    "import cv2\n",
    "\n",
    "from astra import Astra#, template_dir\n",
    "from astra.plot import plot_fieldmaps, plot_stats, plot_stats_with_layout\n",
    "import distgen\n",
    "from distgen import Generator\n",
    "from distgen.writers import *\n",
    "from pmd_beamphysics import ParticleGroup\n",
    "from pmd_beamphysics.plot import marginal_plot\n",
    "\n",
    "#slice plots\n",
    "# from h5py import File\n",
    "# from pmd_beamphysics.interfaces import opal\n",
    "# from pmd_beamphysics.plot import slice_plot\n",
    "# from pmd_beamphysics.plot import marginal_plot, density_plot"
   ]
  },
  {
   "cell_type": "code",
   "execution_count": 312,
   "metadata": {},
   "outputs": [],
   "source": [
    "def parse_opal_emitted_dist(filename, names=['x', 'px','y','py','t','pz']):\n",
    "    '''Read in particle distribution used \n",
    "    in OPAL-T simulation. Used to describe the \n",
    "    beam distribution as it leaves the cathode.'''\n",
    "    dist = {}\n",
    "    data = np.loadtxt(filename, skiprows=1)\n",
    "    for i,name in enumerate(names):\n",
    "        dist[name] = data[:,i]\n",
    "    return dist\n",
    "    \n",
    "def parse_astra_dist(filename, header=['x', 'y', 'z', 'px','py', 'pz', 't', 'Q', 'ptype', 'flag']):\n",
    "    '''\n",
    "    Read in initial particle distribution used \n",
    "    in ASTRA simulation. Used to describe the \n",
    "    beam distribution as it leaves the cathode.\n",
    "   \n",
    "    t     = time in ns\n",
    "    Q     = macro charge\n",
    "    ptype = particle type (electron: 1)\n",
    "    flag  = particle location (cathode: -1)\n",
    "    '''\n",
    "    #print(filename)\n",
    "    data = pd.read_csv(filename, delim_whitespace=True, names=header)\n",
    "    #print(data)\n",
    "    #only return non traj probe particles at cathodeprint(astradist['z'])\n",
    "    dist = data[data.flag == -1]\n",
    "    return dist #dist"
   ]
  },
  {
   "cell_type": "code",
   "execution_count": 313,
   "metadata": {},
   "outputs": [],
   "source": [
    "def make_tri(n, xmin, xmax, x):\n",
    "\n",
    "    half = int(n/2)\n",
    "    yr  = np.zeros(half*2)\n",
    "    #step 1\n",
    "    nr = int(n)\n",
    "    xr = np.random.rand(nr)\n",
    "\n",
    "    for j in range(0,nr):\n",
    "        #step 3\n",
    "        if j < half:\n",
    "            yr[j] = (1- np.sqrt(1-xr[j]))*(xmax-xmin)  \n",
    "        elif j >= half:\n",
    "        #step 4 \n",
    "            yr[j] = (-1 + np.sqrt(1-xr[j]))*(xmax-xmin) \n",
    "\n",
    "    #showplot(xr, yr)\n",
    "    for k in range(0,len(x)):\n",
    "        #print(y[k])\n",
    "        if (-yr[k]/8 <= x[k] <= yr[k]/8):\n",
    "            pass\n",
    "            #x[k]=0\n",
    "        else:\n",
    "            #print(x[k])\n",
    "            x[k]=0\n",
    "            #pass\n",
    "\n",
    "    #showplot(xr,x)\n",
    "    return x, xr"
   ]
  },
  {
   "cell_type": "markdown",
   "metadata": {},
   "source": [
    "### Distgen file generation"
   ]
  },
  {
   "cell_type": "code",
   "execution_count": 314,
   "metadata": {},
   "outputs": [],
   "source": [
    "# From Chris: https://github.com/slaclab/lcls-lattice/tree/master/distgen/models/cu_inj/vcc_image\n",
    "def write_distgen_xy_dist(filename, image, resolution, resolution_units='m'):\n",
    "    \"\"\"\n",
    "    Writes image data in distgen's xy_dist format\n",
    "    \n",
    "    Returns the absolute path to the file written\n",
    "    \n",
    "    \"\"\"\n",
    "    \n",
    "    # Get width of each dimension\n",
    "    widths = resolution * np.array(image.shape)\n",
    "    \n",
    "    # Form header\n",
    "    header = f\"\"\"x {widths[1]} {widths[1]/2} [{resolution_units}]\n",
    "y {widths[0]} {widths[0]/2}  [{resolution_units}]\"\"\"\n",
    "    \n",
    "    # Save with the correct orientation\n",
    "    np.savetxt(filename, np.flip(image, axis=0), header=header, comments='')\n",
    "    \n",
    "    return os.path.abspath(filename)"
   ]
  },
  {
   "cell_type": "markdown",
   "metadata": {},
   "source": [
    "### Setting the path of the ASTRA_BIN"
   ]
  },
  {
   "cell_type": "code",
   "execution_count": 315,
   "metadata": {},
   "outputs": [],
   "source": [
    "#Possible generalization for environment dependency path\n",
    "os.environ['ASTRA_BIN'] = os.getenv('ASTRA_BIN')\n",
    "#print(os.getenv('ASTRA_BIN'))"
   ]
  },
  {
   "cell_type": "code",
   "execution_count": 316,
   "metadata": {},
   "outputs": [],
   "source": [
    "#Edit this line to match your path if the above cell doesn't work\n",
    "#%env ASTRA_BIN=/Users/colinrecker/Desktop/SLACForks/Astra"
   ]
  },
  {
   "cell_type": "markdown",
   "metadata": {},
   "source": [
    "## Loading Laser Image"
   ]
  },
  {
   "cell_type": "markdown",
   "metadata": {},
   "source": [
    "### Initializing the laser image"
   ]
  },
  {
   "cell_type": "code",
   "execution_count": 317,
   "metadata": {},
   "outputs": [],
   "source": [
    "def scan_mkdir(name):\n",
    "    #makes scan directory\n",
    "    os.mkdir(os.path.join(sim_path, name))\n",
    "    scan_path = os.path.join(sim_path, name)\n",
    "\n",
    "    #makes data and plots directory\n",
    "    data_path = os.path.join(scan_path, 'data')\n",
    "    plots_path = os.path.join(scan_path, 'plots')\n",
    "    os.mkdir(data_path)\n",
    "    os.mkdir(plots_path)\n",
    "\n",
    "    #defining directories to add to data and plots\n",
    "    data_dirs = ['cropImage']\n",
    "    plots_dirs = ['animations', 'compare_dist', 'compare_img', 'energy_dist', 'final_electron_dist', 'init_electron_dist', 'laser_images', 'rotate_compare_dist']\n",
    "    for dir in data_dirs:\n",
    "        os.mkdir(os.path.join(data_path, dir))\n",
    "    for dir in plots_dirs:\n",
    "        os.mkdir(os.path.join(plots_path, dir))\n",
    "\n",
    "    #copies .dcm to scan_path directory\n",
    "    shutil.copy2(init_dcm_path, scan_path)"
   ]
  },
  {
   "cell_type": "code",
   "execution_count": 318,
   "metadata": {},
   "outputs": [],
   "source": [
    "#Loads and returns reshaped laser image based on index\n",
    "def laser_load(index):\n",
    "    mat = scipy.io.loadmat(vcc[index])\n",
    "    #Scraping Name of File\n",
    "    global laser_name\n",
    "    laser_name = str(mat['data'][0][0][0][0])\n",
    "\n",
    "    #Image Reshaping\n",
    "    arr = mat['data']\n",
    "    dim = arr.shape[0]\n",
    "    #print(dim)\n",
    "    xy = int(np.sqrt(dim))\n",
    "    nrow = xy\n",
    "    ncol = xy\n",
    "    return arr.reshape(nrow, ncol)[0][0][1], xy"
   ]
  },
  {
   "cell_type": "markdown",
   "metadata": {},
   "source": [
    "### Path definitions"
   ]
  },
  {
   "cell_type": "code",
   "execution_count": 319,
   "metadata": {},
   "outputs": [],
   "source": [
    "#define xta repo path\n",
    "xta_path = '/Users/colinrecker/Desktop/SLACForks/xta'\n",
    "os.chdir(xta_path)\n",
    "\n",
    "#define simulation data directory path\n",
    "sim_path = '/Users/colinrecker/Google Drive/My Drive/Colin/Simulations'\n",
    "\n",
    "#Loads all example laser images into list\n",
    "vcc = glob.glob(f'{sim_path}/data/laser_mat_images/*.mat')\n",
    "\n",
    "#defining tumor scan\n",
    "init_dcm_path = os.path.join(sim_path, 'Fluence Maps Anon', 'Field 2 Anon', 'field2.dcm')\n",
    "image_name = os.path.splitext(os.path.split(init_dcm_path)[-1])[0]\n",
    "\n",
    "#Creates scan directory\n",
    "if not os.path.exists(os.path.join(sim_path, image_name)):\n",
    "    scan_mkdir(image_name)\n",
    "    print(f'Created new directory for {image_name}')\n",
    "\n",
    "scan_path = os.path.join(sim_path, image_name)\n",
    "\n",
    "#path to directories\n",
    "plots_path = os.path.join(scan_path,'plots')\n",
    "data_path = os.path.join(scan_path, 'data')"
   ]
  },
  {
   "cell_type": "markdown",
   "metadata": {},
   "source": [
    "### Plotting Laser Image"
   ]
  },
  {
   "cell_type": "code",
   "execution_count": 320,
   "metadata": {},
   "outputs": [],
   "source": [
    "IMAGE, xy = laser_load(0) #Index of first vcc image\n",
    "plt.figure()\n",
    "plt.imshow(IMAGE)#, extent=[0,1,0,1])\n",
    "plt.ylabel('Pixel', size=20)\n",
    "plt.xlabel('Pixel', size=20)\n",
    "plt.savefig(f'{plots_path}/laser_images/{laser_name}.jpg', dpi=300, bbox_inches='tight')\n",
    "plt.close()"
   ]
  },
  {
   "cell_type": "markdown",
   "metadata": {},
   "source": [
    "### Generating associated .txt file for distgen"
   ]
  },
  {
   "cell_type": "code",
   "execution_count": 321,
   "metadata": {},
   "outputs": [],
   "source": [
    "FOUT = write_distgen_xy_dist(f'astra/astra-inputs/{laser_name}.txt', IMAGE, xy, resolution_units='um')"
   ]
  },
  {
   "cell_type": "markdown",
   "metadata": {},
   "source": [
    "# Generating electron distribution with tumor image"
   ]
  },
  {
   "cell_type": "markdown",
   "metadata": {},
   "source": [
    "### Defining Global Plot Axes Limits"
   ]
  },
  {
   "cell_type": "code",
   "execution_count": 322,
   "metadata": {},
   "outputs": [],
   "source": [
    "left_xaxis, right_xaxis= -10, 10\n",
    "left_yaxis , right_yaxis = -10, 10"
   ]
  },
  {
   "cell_type": "markdown",
   "metadata": {},
   "source": [
    "## Centering Image"
   ]
  },
  {
   "cell_type": "code",
   "execution_count": 323,
   "metadata": {},
   "outputs": [
    {
     "name": "stdout",
     "output_type": "stream",
     "text": [
      "(276, 230)\n",
      "(1024, 1024)\n"
     ]
    },
    {
     "data": {
      "text/plain": [
       "'/Users/colinrecker/Google Drive/My Drive/Colin/Simulations/field2/data/cropImage/field2.jpg'"
      ]
     },
     "execution_count": 323,
     "metadata": {},
     "output_type": "execute_result"
    }
   ],
   "source": [
    "def dcm_Crop(im_input):\n",
    "    ds = dicom.dcmread(im_input)\n",
    "    pixArr = ds.pixel_array\n",
    "    dim = pixArr.shape\n",
    "    height, width = dim[0], dim[1]\n",
    "\n",
    "    #pixel threshold 5000\n",
    "    x, y = np.where(pixArr > 5000)\n",
    "    xl, xr = x.min(), x.max()\n",
    "    yl, yr = y.min(), y.max()\n",
    "    crop = pixArr[xl:xr, yl:yr]\n",
    "    print(crop.shape)\n",
    "    \n",
    "    padx = (height - crop.shape[0])//2\n",
    "    pady = (width - crop.shape[1])//2\n",
    "    padImg = np.pad(crop, [(padx, padx), (pady, pady)], mode='constant')\n",
    "    print(padImg.shape)\n",
    "\n",
    "    save_path = f'{data_path}/cropImage/{image_name}.jpg'\n",
    "    plt.imsave(save_path, padImg)\n",
    "    return save_path\n",
    "\n",
    "dcm_path = os.path.join(scan_path, f'{image_name}.dcm')\n",
    "dcm_Crop(dcm_path)"
   ]
  },
  {
   "cell_type": "markdown",
   "metadata": {},
   "source": [
    "## Electron Distribution Generation"
   ]
  },
  {
   "cell_type": "code",
   "execution_count": 324,
   "metadata": {},
   "outputs": [],
   "source": [
    "def generate_dist():\n",
    "    dist_file = 'astra/astra-inputs/distgen.yaml'\n",
    "    dist = Generator(dist_file, verbose=False)\n",
    "\n",
    "    dist.input['xy_dist']['file'] = dcm_Crop(dcm_path)\n",
    "    dist.input['n_particle'] = int(1e4)\n",
    "    dist.input['start']['MTE']['value'] = 130 #330\n",
    "\n",
    "    fwhm = 0.06/2.355 # 60 fs = 0.06 ps\n",
    "    dist.input['t_dist']['sigma_t']['value'] = fwhm\n",
    "\n",
    "    dist.input['total_charge']['value'] = 1\n",
    "\n",
    "    # dist.input['r_dist']['max_r']['value'] = 0.5\n",
    "\n",
    "    dist.run()\n",
    "    particles = dist.particles \n",
    "    particles.write_astra('astra/astra-inputs/astra_particles.txt')\n",
    "    return particles, dist"
   ]
  },
  {
   "cell_type": "markdown",
   "metadata": {},
   "source": [
    "## Electron Distribution Plots"
   ]
  },
  {
   "cell_type": "code",
   "execution_count": 325,
   "metadata": {},
   "outputs": [
    {
     "name": "stdout",
     "output_type": "stream",
     "text": [
      "(276, 230)\n",
      "(1024, 1024)\n"
     ]
    }
   ],
   "source": [
    "particles, dist = generate_dist()\n",
    "particles.plot('x','y')\n",
    "plt.close()"
   ]
  },
  {
   "cell_type": "code",
   "execution_count": 326,
   "metadata": {},
   "outputs": [],
   "source": [
    "num_bins = 45\n",
    "plt.figure(figsize=(5, 5))\n",
    "astradist = parse_opal_emitted_dist('astra/astra-inputs/astra_particles.txt', names=['x', 'y', 'z', 'px','py', 'pz', 't', 'Q', 'ptype', 'flag'])\n",
    "plt.hist2d(astradist['x']*10**3, astradist['y']*10**3, num_bins, facecolor='blue', cmin=2)#, alpha=0.5)\n",
    "#print(xy)\n",
    "plt.title('Initial Electron Distribution')\n",
    "plt.ylabel('y [mm]', size=20)\n",
    "plt.xlabel('x [mm]', size=20)\n",
    "plt.xlim([left_xaxis, right_xaxis])\n",
    "plt.ylim([left_yaxis, right_yaxis])\n",
    "plt.savefig(f'{plots_path}/init_electron_dist/{image_name}.jpg', dpi=300)\n",
    "plt.close()"
   ]
  },
  {
   "cell_type": "markdown",
   "metadata": {},
   "source": [
    "# Run ASTRA"
   ]
  },
  {
   "cell_type": "markdown",
   "metadata": {},
   "source": [
    "## Initializing simulation with xta.in file"
   ]
  },
  {
   "cell_type": "code",
   "execution_count": 327,
   "metadata": {},
   "outputs": [],
   "source": [
    "astra_file = 'astra/astra-inputs/xta.in'\n",
    "xta = Astra(initial_particles=particles, input_file=astra_file, verbose=False)\n",
    "#xta.input['cavity']['file_efield(1)'] = f'{sim_path}/data/fieldmaps/map559.dat'"
   ]
  },
  {
   "cell_type": "code",
   "execution_count": 328,
   "metadata": {},
   "outputs": [],
   "source": [
    "#Changing inputs on xta\n",
    "xta.input['solenoid']['maxb(1)'] = 0.427"
   ]
  },
  {
   "cell_type": "code",
   "execution_count": 329,
   "metadata": {},
   "outputs": [],
   "source": [
    "xta.input['newrun']['zstart'] = 0.0\n",
    "xta.input['newrun']['zstop'] = 0.25\n",
    "xta.input['charge']['lspch'] = True\n",
    "xta.input['newrun']['zphase'] = 50"
   ]
  },
  {
   "cell_type": "markdown",
   "metadata": {},
   "source": [
    "## Running Astra Simulation"
   ]
  },
  {
   "cell_type": "code",
   "execution_count": 330,
   "metadata": {},
   "outputs": [
    {
     "data": {
      "text/plain": [
       "'/Users/colinrecker/Google Drive/My Drive/Colin/Simulations/field2/xta_0.427B.h5'"
      ]
     },
     "execution_count": 330,
     "metadata": {},
     "output_type": "execute_result"
    }
   ],
   "source": [
    "xta.run()\n",
    "xta.archive(f'{sim_path}/{image_name}/xta_{xta.input[\"solenoid\"][\"maxb(1)\"]}B.h5')\n",
    "#xta.load_archive(f'{sim_path}/{image_name}/xta_{xta.input[\"solenoid\"][\"maxb(1)\"]}B.h5', configure=True)"
   ]
  },
  {
   "cell_type": "code",
   "execution_count": 331,
   "metadata": {},
   "outputs": [],
   "source": [
    "#xta.archive('xta_60fs_1mm_10pC_noSC_laser_weak_solenoid_0.45_zstop_5.5.h5')\n",
    "#xta.load_archive('archives/xta_60fs_1mm_10pC_SC_laser_weak_solenoid_0.45_zstop_5.5.h5')"
   ]
  },
  {
   "cell_type": "markdown",
   "metadata": {},
   "source": [
    "# Plots"
   ]
  },
  {
   "cell_type": "markdown",
   "metadata": {},
   "source": [
    "## Energy Plots"
   ]
  },
  {
   "cell_type": "code",
   "execution_count": 332,
   "metadata": {},
   "outputs": [],
   "source": [
    "test = xta.particles[-1].plot('energy')\n",
    "plt.savefig(f'{plots_path}/energy_dist/{image_name}.jpg', dpi=250)\n",
    "plt.close()"
   ]
  },
  {
   "cell_type": "markdown",
   "metadata": {},
   "source": [
    "## Electron Distribution Plots"
   ]
  },
  {
   "cell_type": "markdown",
   "metadata": {},
   "source": [
    "### Final Distribution Plot"
   ]
  },
  {
   "cell_type": "code",
   "execution_count": 333,
   "metadata": {},
   "outputs": [],
   "source": [
    "#xta.load_archive('archives/xta_60fs_1mm_1pC_SC_laser_test.h5')\n",
    "plt.figure(figsize=(5, 5))\n",
    "# xta.particles[-1].plot('x','y')\n",
    "xtapart = xta.particles[-1]\n",
    "num_bins = 45\n",
    "xy = plt.hist2d(xtapart.x*10**3, xtapart.y*10**3, num_bins, facecolor='blue', cmin=1)#, alpha=0.5)\n",
    "#print(np.mean(xtapart.z))\n",
    "plt.xlim([left_xaxis, right_xaxis])\n",
    "plt.ylim([left_yaxis, right_yaxis])\n",
    "plt.ylabel('y [mm]', size=20)\n",
    "plt.xlabel('X [mm]', size=20)\n",
    "plt.savefig(f'{plots_path}/final_electron_dist/{image_name}.jpg', dpi=300, bbox_inches='tight')\n",
    "plt.close()"
   ]
  },
  {
   "cell_type": "markdown",
   "metadata": {},
   "source": [
    "### Initial vs. Final Plot"
   ]
  },
  {
   "cell_type": "code",
   "execution_count": 334,
   "metadata": {},
   "outputs": [],
   "source": [
    "#Super plot\n",
    "fig, plots = plt.subplots(1, 2, figsize=(10, 5), sharex=True, sharey=True)\n",
    "fig.subplots_adjust(wspace=0.1)\n",
    "\n",
    "#Final plot\n",
    "finalxy = plt.subplot(1,2,2)\n",
    "xtapart = xta.particles[-1]\n",
    "num_bins = 42\n",
    "plt.hist2d(xtapart.x*10**3, xtapart.y*10**3, num_bins, facecolor='blue', cmin=1)\n",
    "plots[1].set(title='Final Shape', xlabel='x [mm]')\n",
    "\n",
    "#Initial Plot\n",
    "num_bins = 42\n",
    "initialxy = plt.subplot(1,2,1)\n",
    "plt.hist2d(xta.particles[0].x*10**3, xta.particles[0].y*10**3, num_bins, facecolor='blue', cmin=1)\n",
    "plots[0].set(title='Initial Shape', xlabel='x [mm]', ylabel='y [mm]', xlim=[left_xaxis, right_xaxis], ylim=[left_yaxis, right_yaxis])\n",
    "\n",
    "\n",
    "plt.suptitle(f'|B|={xta.input[\"solenoid\"][\"maxb(1)\"]} T, q={dist.input[\"total_charge\"][\"value\"]} nC')\n",
    "#plt.tight_layout\n",
    "\n",
    "plt.savefig(f'{plots_path}/compare_dist/{image_name}.jpg', dpi=300, bbox_inches='tight')\n",
    "plt.close()"
   ]
  },
  {
   "cell_type": "markdown",
   "metadata": {},
   "source": [
    "### Cross Sections"
   ]
  },
  {
   "cell_type": "code",
   "execution_count": 335,
   "metadata": {},
   "outputs": [],
   "source": [
    "num_cross = 6\n",
    "num_rows = math.ceil(num_cross/3)\n",
    "num_bins = 42\n",
    "\n",
    "#Super plot\n",
    "fig, plots = plt.subplots(num_rows, 3, sharex=True, sharey=True)\n",
    "fig.subplots_adjust(wspace=0.2, hspace=0.5)\n",
    "\n",
    "#Final plot\n",
    "finalxy = plt.subplot(num_rows, 3, num_cross)\n",
    "xtapart = xta.particles[-1]\n",
    "plt.hist2d(xtapart.x*10**3, xtapart.y*10**3, num_bins, facecolor='blue', cmin=1)\n",
    "meanZ = round(mean(xtapart.z), 3)\n",
    "plt.title(f'z={meanZ} m', size=8)\n",
    "plt.xlabel(f'x [mm]')\n",
    "\n",
    "#Intermediate plots\n",
    "for plot in range(2, num_cross):\n",
    "    intxy = plt.subplot(num_rows, 3, plot)\n",
    "    index = (len(xta.particles)//(num_cross-1))*(plot-1)\n",
    "    xtapart = xta.particles[index]\n",
    "    plt.hist2d(xtapart.x*10**3, xtapart.y*10**3, num_bins, facecolor='blue', cmin = 1)\n",
    "    meanZ = round(mean(xtapart.z), 3)\n",
    "    plt.title(f'z={meanZ} m', size=8)\n",
    "    if plot >= (num_cross - 2):\n",
    "        plt.xlabel('x [mm]')\n",
    "    if (plot-1)%3 == 0:\n",
    "        plt.ylabel('y [mm]')\n",
    "\n",
    "#Initial Plot\n",
    "initialxy = plt.subplot(num_rows, 3, 1)\n",
    "xtapart = xta.particles[0]\n",
    "plt.hist2d(xtapart.x*10**3, xtapart.y*10**3, num_bins, facecolor='blue', cmin=1)\n",
    "plt.xlim([left_xaxis, right_xaxis])\n",
    "plt.ylim([left_yaxis, right_yaxis])\n",
    "meanZ = round(mean(xtapart.z), 3)\n",
    "plt.title(f'z={meanZ} m', size=8)\n",
    "plt.ylabel('y [mm]')\n",
    "plt.suptitle(f'|B|={xta.input[\"solenoid\"][\"maxb(1)\"]} T, q={dist.input[\"total_charge\"][\"value\"]} nC', weight='bold')\n",
    "plt.close()"
   ]
  },
  {
   "cell_type": "markdown",
   "metadata": {},
   "source": [
    "## Beam Size vs. Mean Z"
   ]
  },
  {
   "cell_type": "code",
   "execution_count": 336,
   "metadata": {},
   "outputs": [],
   "source": [
    "plt.figure()\n",
    "plt.plot(xta.stat('mean_z'), xta.stat('sigma_z')*10**3, '-', label=\"$\\sigma_z$\")\n",
    "plt.plot(xta.stat('mean_z'), xta.stat('sigma_x')*10**3, '-', label=\"$\\sigma_x$\")\n",
    "plt.xlabel('Mean z [m]')\n",
    "plt.ylabel('Beam size [mm]')\n",
    "plt.legend(loc='upper right')\n",
    "plt.ylim(0,0.1)\n",
    "plt.xlim(0,1)\n",
    "plt.grid()\n",
    "plt.close()"
   ]
  },
  {
   "cell_type": "markdown",
   "metadata": {},
   "source": [
    "## Mean Kinetic Energy vs. Mean Z"
   ]
  },
  {
   "cell_type": "code",
   "execution_count": 337,
   "metadata": {},
   "outputs": [],
   "source": [
    "plt.figure()\n",
    "plt.plot(xta.stat('mean_z'), xta.stat('mean_kinetic_energy')*10**-6, '-', label=\"Energy\")\n",
    "# plt.plot(xta.stat('mean_z'), xta.stat('sigma_x')*10**3, '-', label=\"$\\sigma_x$\")\n",
    "plt.xlabel('Mean z [m]')\n",
    "plt.ylabel('Mean Kinetic Energy [eV]')\n",
    "plt.legend(loc='upper right')\n",
    "# plt.ylim(0,0.6)\n",
    "# plt.xlim(0,0.7)\n",
    "plt.grid()\n",
    "plt.close()"
   ]
  },
  {
   "cell_type": "markdown",
   "metadata": {},
   "source": [
    "## Movie"
   ]
  },
  {
   "cell_type": "code",
   "execution_count": 338,
   "metadata": {},
   "outputs": [],
   "source": [
    "import matplotlib.animation as animation"
   ]
  },
  {
   "cell_type": "markdown",
   "metadata": {},
   "source": [
    "### Initial histogram"
   ]
  },
  {
   "cell_type": "code",
   "execution_count": 339,
   "metadata": {},
   "outputs": [
    {
     "data": {
      "application/vnd.jupyter.widget-view+json": {
       "model_id": "9715caf3c8b44aa3813882c2b2e35f7d",
       "version_major": 2,
       "version_minor": 0
      },
      "image/png": "[encoded data removed]",
      "text/html": [
       "\n",
       "            <div style=\"display: inline-block;\">\n",
       "                <div class=\"jupyter-widgets widget-label\" style=\"text-align: center;\">\n",
       "                    Figure\n",
       "                </div>\n",
       "                <img src='data:image/png;base64,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' width=500.0/>\n",
       "            </div>\n",
       "        "
      ],
      "text/plain": [
       "Canvas(toolbar=Toolbar(toolitems=[('Home', 'Reset original view', 'home', 'home'), ('Back', 'Back to previous …"
      ]
     },
     "metadata": {},
     "output_type": "display_data"
    }
   ],
   "source": [
    "fig, axs = plt.subplots(figsize=(5, 5))\n",
    "init_frame = 0\n",
    "num_bins = 42\n",
    "beam = xta.particles[init_frame]\n",
    "\n",
    "data, x, y, _ = axs.hist2d(beam.x*10**3, beam.y*10**3, num_bins, cmin=1)\n",
    "axs.set_title(f\"|B|={xta.input['solenoid']['maxb(1)']} T, q={dist.input['total_charge']['value']} nC, Mean z={round(mean(beam.z), 3)} m\")\n",
    "axs.set_xlabel('x [mm]', size=15)\n",
    "axs.set_ylabel('y [mm]', size=15)\n",
    "axs.set(xlim =[left_xaxis, right_xaxis], ylim = [left_yaxis, right_yaxis])\n",
    "\n",
    "frameCount = axs.text(right_xaxis-1, right_yaxis+0.4, f'Frame: {init_frame}')\n",
    "pix = np.flipud(data.T)\n",
    "im = plt.imshow(pix, extent=[x[0], x[-1], y[0], y[-1]])\n",
    "#plt.close()"
   ]
  },
  {
   "cell_type": "markdown",
   "metadata": {},
   "source": [
    "### Animating the histogram"
   ]
  },
  {
   "cell_type": "code",
   "execution_count": 340,
   "metadata": {},
   "outputs": [],
   "source": [
    "def animate(i):\n",
    "    plt.cla()\n",
    "    beam = xta.particles[i]\n",
    "    X = beam.x*10**3\n",
    "    Y = beam.y*10**3\n",
    "    data, x, y, _ = plt.hist2d(X, Y, num_bins, cmin=1)\n",
    "    axs.set_title(f\"|B|={xta.input['solenoid']['maxb(1)']} T, q={dist.input['total_charge']['value']} nC, Mean z={round(mean(beam.z), 3)} m\")\n",
    "    axs.set(xlim =[left_xaxis, right_xaxis], ylim = [left_yaxis, right_yaxis])\n",
    "    axs.set_xlabel('x [mm]', size=15)\n",
    "    axs.set_ylabel('y [mm]', size=15)\n",
    "    frameCount.set_text(f'Frame: {i}')\n",
    "    pix = np.flipud(data.T)\n",
    "    im.set_data(pix)\n",
    "    im.set_extent([x[0], x[-1], y[0], y[-1]])\n",
    "    \n",
    "num = len(xta.particles)\n",
    "playback_speed = 6 #In fps\n",
    "anim = animation.FuncAnimation(fig, animate, np.arange(1,num), repeat_delay = 2500, repeat = False)\n",
    "\n",
    "#Save animation\n",
    "writervideo = animation.FFMpegWriter(fps=playback_speed)\n",
    "anim.save(f'{plots_path}/animations/{image_name}.mp4', writer=writervideo)"
   ]
  },
  {
   "cell_type": "markdown",
   "metadata": {},
   "source": [
    "# Characterizing Beam Rotation"
   ]
  },
  {
   "cell_type": "markdown",
   "metadata": {},
   "source": [
    "## Track movement of particles"
   ]
  },
  {
   "cell_type": "code",
   "execution_count": 341,
   "metadata": {},
   "outputs": [],
   "source": [
    "def rotate_particles(frame):\n",
    "    #initial and final particle groups\n",
    "    init_part = xta.particles[0]\n",
    "    fin_part = xta.particles[frame]\n",
    "\n",
    "    #Picking a particle to track\n",
    "    particleIndex = 100\n",
    "    iPos = np.array([float(init_part[particleIndex].x), float(init_part[particleIndex].y)])\n",
    "    iMag = np.sqrt(iPos.dot(iPos))\n",
    "    fPos = np.array([float(fin_part[particleIndex].x), float(fin_part[particleIndex].y)])\n",
    "    fMag = np.sqrt(fPos.dot(fPos))\n",
    "    #This is negative since the rotation is clockwise\n",
    "    diffAngle = -np.arccos((np.dot(iPos, fPos))/(iMag*fMag))\n",
    "\n",
    "\n",
    "    #print(f'Initial Position: {iPos}')\n",
    "    #print(f'Final Position: {fPos}')\n",
    "    #print(f'Change in Angle: {round(math.degrees(diffAngle), 3)}')#Rotation transformation matrix\n",
    "    R = np.array(((np.cos(diffAngle), -np.sin(diffAngle)), (np.sin(diffAngle), np.cos(diffAngle))))\n",
    "\n",
    "    #2d Array of x and y points\n",
    "    vect = np.vstack((fin_part.x*10**3, fin_part.y*10**3))\n",
    "\n",
    "    #Applying rotation\n",
    "    rotVect = R.dot(vect)\n",
    "    return R.dot(vect)\n",
    "rotVect = rotate_particles(-1)"
   ]
  },
  {
   "cell_type": "markdown",
   "metadata": {},
   "source": [
    "## Plotting initial vs. final with rotation adjustment"
   ]
  },
  {
   "cell_type": "code",
   "execution_count": 342,
   "metadata": {},
   "outputs": [
    {
     "data": {
      "application/vnd.jupyter.widget-view+json": {
       "model_id": "a988046cc56a46ceaec03ad4622d9245",
       "version_major": 2,
       "version_minor": 0
      },
      "image/png": "[encoded data removed]",
      "text/html": [
       "\n",
       "            <div style=\"display: inline-block;\">\n",
       "                <div class=\"jupyter-widgets widget-label\" style=\"text-align: center;\">\n",
       "                    Figure\n",
       "                </div>\n",
       "                <img src='data:image/png;base64,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' width=850.0/>\n",
       "            </div>\n",
       "        "
      ],
      "text/plain": [
       "Canvas(toolbar=Toolbar(toolitems=[('Home', 'Reset original view', 'home', 'home'), ('Back', 'Back to previous …"
      ]
     },
     "metadata": {},
     "output_type": "display_data"
    }
   ],
   "source": [
    "fig, plots = plt.subplots(1, 2, figsize=(8.5, 4.25), sharex=True, sharey=True)\n",
    "#fig.subplots_adjust(wspace=0.1)\n",
    "\n",
    "#Final plot\n",
    "finalxy = plt.subplot(1,2,2)\n",
    "fin, x, y, _ = finalxy.hist2d(rotVect[0], rotVect[1], num_bins, facecolor='blue', cmin=1)\n",
    "plots[1].set(title='Rotated Final Shape', xlabel='x [mm]')\n",
    "\n",
    "#Initial Plot\n",
    "initialxy = plt.subplot(1,2,1)\n",
    "init, _, _, _ = plt.hist2d(xtapart.x*10**3, xtapart.y*10**3, num_bins, facecolor='blue', cmin=1)\n",
    "plots[0].set(title='Initial Shape', xlabel='x [mm]', ylabel='y [mm]', xlim=[left_xaxis, right_xaxis], ylim=[left_yaxis, right_yaxis])\n",
    "\n",
    "plt.suptitle(f\"|B|={xta.input['solenoid']['maxb(1)']} T, q={dist.input['total_charge']['value']} nC\")\n",
    "\n",
    "plt.savefig(f'{plots_path}/rotate_compare_dist/{image_name}.jpg', dpi=300, bbox_inches='tight')\n",
    "plt.close()"
   ]
  },
  {
   "cell_type": "markdown",
   "metadata": {},
   "source": [
    "## Saving Subplots"
   ]
  },
  {
   "cell_type": "code",
   "execution_count": 343,
   "metadata": {},
   "outputs": [],
   "source": [
    "sub_bins = 42\n",
    "fig, ax = plt.subplots(figsize=(5, 5), frameon=False)\n",
    "plt.hist2d(xtapart.x*10**3, xtapart.y*10**3, sub_bins, facecolor='blue', cmin=1)\n",
    "ax.set(xlim=[left_xaxis, right_xaxis], ylim=[left_yaxis, right_yaxis])\n",
    "fig.savefig(f'{plots_path}/compare_img/init_{image_name}.jpg', bbox_inches='tight', pad_inches=0)\n",
    "\n",
    "plt.close()\n",
    "\n",
    "fig, ax = plt.subplots(figsize=(5, 5), frameon=False)\n",
    "plt.hist2d(rotVect[0], rotVect[1], sub_bins, facecolor='blue', cmin=1)\n",
    "ax.set(xlim=[left_xaxis, right_xaxis], ylim=[left_yaxis, right_yaxis])\n",
    "fig.savefig(f'{plots_path}/compare_img/final_{image_name}.jpg', bbox_inches='tight', pad_inches=0)\n",
    "plt.close()"
   ]
  },
  {
   "cell_type": "markdown",
   "metadata": {},
   "source": [
    "# Statistics Plots Boiler Plate"
   ]
  },
  {
   "cell_type": "code",
   "execution_count": 344,
   "metadata": {},
   "outputs": [],
   "source": [
    "#Initial, final, energy, beam size, bunch length, \n",
    "def boiler_plotplate(**kwargs):\n",
    "    optionsDict = {'Initial': True, 'Final': True, 'Verbose':False, 'Rotate': True, 'BeamSize': True, 'BunchLength': True, 'FrameCount': True, 'xy_lim': [-4, 4]}\n",
    "    plotsDict = {'Energy': True}\n",
    "    for option, value in kwargs.items():\n",
    "        try:\n",
    "            optionsDict[option] = value\n",
    "            plotsDict[option] = value\n",
    "        except:\n",
    "            pass\n",
    "    \n",
    "    if optionsDict['Verbose']:\n",
    "        print('Options: ', optionsDict)\n",
    "        print('Plots: ', plotsDict)\n",
    "    \n",
    "    if not optionsDict['Initial'] and not optionsDict['Final']:\n",
    "        print('Nothing to plot, enable initial or final distributions')\n",
    "        return\n",
    "    num_rows = 2 if optionsDict['Initial'] and optionsDict['Final'] else 1\n",
    "\n",
    "    #Determinining number of columns based on number of plots\n",
    "    num_cols = 1\n",
    "    for plot in plotsDict:\n",
    "        if plotsDict[plot]:\n",
    "            num_cols += 1\n",
    "    \n",
    "    #Generating the plots\n",
    "    fig, plots = plt.subplots(num_rows, num_cols, figsize = (4*num_cols, 4*num_rows), sharex=True, sharey=True)\n",
    "\n",
    "    #Final Plots\n",
    "    if optionsDict['Final']:\n",
    "        finalxy = plt.subplot(num_rows, num_cols, num_cols+1)\n",
    "        plt.hist2d(rotVect[0], rotVect[1], num_bins, facecolor='blue', cmin=1) if optionsDict['Rotate'] else plt.hist2d(xta.particles[-1].x*10**3, xta.particles[-1].y*10**3, num_bins, facecolor='blue', cmin=1)\n",
    "        plt.title('Final Distribution')\n",
    "        for plot in plotsDict.items():\n",
    "            print()\n",
    "    #Initial Plots\n",
    "    if optionsDict['Initial']:\n",
    "        initalxy = plt.subplot(num_rows, num_cols, 1)\n",
    "        plt.hist2d(xta.particles[0].x*10**3, xta.particles[0].y*10**3, num_bins, facecolor='blue', cmin=1)\n",
    "        plt.title('Initial Distribution')\n",
    "        plt.xlim(optionsDict['xy_lim'][0], optionsDict['xy_lim'][1])\n",
    "        plt.ylim(optionsDict['xy_lim'][0], optionsDict['xy_lim'][1])\n",
    "\n",
    "#boiler_plotplate()"
   ]
  },
  {
   "cell_type": "markdown",
   "metadata": {},
   "source": [
    "# Comparitive Image Analysis"
   ]
  },
  {
   "cell_type": "markdown",
   "metadata": {},
   "source": [
    "### Image Subtraction"
   ]
  },
  {
   "cell_type": "code",
   "execution_count": 345,
   "metadata": {},
   "outputs": [],
   "source": [
    "def greyscale(image):\n",
    "    return np.dot(image[...,:3], [0.33, 0.33, 0.33])\n",
    "\n",
    "def subtractImg():\n",
    "    initIm = greyscale(cv2.imread(f'{plots_path}/compare_img/init_{image_name}.jpg'))\n",
    "    finIm = greyscale(cv2.imread(f'{plots_path}/compare_img/final_{image_name}.jpg'))\n",
    "    diff = np.absolute(initIm-finIm)\n",
    "    cv2.imwrite(f'{plots_path}/compare_img/diff_{image_name}.jpg', diff)\n",
    "\n",
    "subtractImg()"
   ]
  },
  {
   "cell_type": "markdown",
   "metadata": {},
   "source": [
    "# B Field Scanning"
   ]
  },
  {
   "cell_type": "markdown",
   "metadata": {},
   "source": [
    "### Function that scores image likeness"
   ]
  },
  {
   "cell_type": "code",
   "execution_count": 346,
   "metadata": {},
   "outputs": [],
   "source": [
    "def score(img):\n",
    "    sumPixels = img.sum()\n",
    "    squareSum = np.square(img).sum()\n",
    "    return sumPixels"
   ]
  },
  {
   "cell_type": "markdown",
   "metadata": {},
   "source": [
    "### Does a single simulation with specific B value (Histogram Image Subtraction)"
   ]
  },
  {
   "cell_type": "code",
   "execution_count": 347,
   "metadata": {},
   "outputs": [],
   "source": [
    "def run(B):\n",
    "    xta.input['solenoid']['maxb(1)'] = B\n",
    "    xta.run()\n",
    "    rotVect = rotate_particles(-1)\n",
    "    fig, ax = plt.subplots(figsize=(5, 5), frameon=False)\n",
    "    plt.hist2d(rotVect[0], rotVect[1], sub_bins, facecolor='blue', cmin=1)\n",
    "    ax.set(xlim=[left_xaxis, right_xaxis], ylim=[left_yaxis, right_yaxis])\n",
    "    fig.savefig(f'{plots_path}/compare_img/final_{image_name}.jpg', bbox_inches='tight', pad_inches=0)\n",
    "    plt.close()\n",
    "    subtractImg()\n",
    "    subImg = plt.imread(f'{plots_path}/compare_img/diff_{image_name}.jpg')\n",
    "    return score(subImg)"
   ]
  },
  {
   "cell_type": "markdown",
   "metadata": {},
   "source": [
    "### Single B scan with greyscale subtraction, specific interval"
   ]
  },
  {
   "cell_type": "code",
   "execution_count": 348,
   "metadata": {},
   "outputs": [],
   "source": [
    "def b_scan(min, max, scans, precision, verbose):\n",
    "    if scans <= 3:\n",
    "        raise ValueError('There must be more than 3 scans!')\n",
    "    b_vals = np.linspace(min, max, scans)\n",
    "    if verbose:\n",
    "        print('Scanning B values: ', b_vals)\n",
    "    opt_B = min\n",
    "    opt_score = 1e9\n",
    "    for B in b_vals:\n",
    "        if verbose:\n",
    "            print(f'\\\\nScanning {B} T')\n",
    "        if B in scoreDict.keys():\n",
    "            score = scoreDict[B]\n",
    "            if verbose:\n",
    "                print('Found in Dictionary!\\\\n')\n",
    "        else:\n",
    "            score = run(B)\n",
    "            scoreDict[B] = score\n",
    "        if verbose:\n",
    "            print(f'\\\\r\\\\tScore: {score}')\n",
    "        if score > opt_score:\n",
    "            if B > opt_B:\n",
    "                max_B = B\n",
    "                break\n",
    "            continue\n",
    "        elif b_vals[-1] == B:\n",
    "            raise ValueError('Upper limit is optimal limit, increase upper limit for proper scan!')\n",
    "        min_B = opt_B\n",
    "        opt_B = B\n",
    "        opt_score = score\n",
    "        opt_fin_img = plt.imread(f'{plots_path}/compare_img/final_{image_name}.jpg')\n",
    "        opt_diff_img = plt.imread(f'{plots_path}/compare_img/diff_{image_name}.jpg')\n",
    "        if verbose:\n",
    "            print(f'\\\\r\\\\tOptimal B is now {B} T')\n",
    "\n",
    "    #Cleanup plots\n",
    "    plt.imsave(f'{plots_path}/compare_img/final_{image_name}.jpg', opt_fin_img)\n",
    "    cv2.imwrite(f'{plots_path}/compare_img/diff_{image_name}.jpg', opt_diff_img)\n",
    "    if verbose:\n",
    "        print(f'\\\\n The optimal B value is in between ({min_B} T, {max_B} T)')\n",
    "    return opt_B, min_B, max_B\n",
    "\n",
    "#Dictionary of previously scanned values\n",
    "scoreDict = {}\n",
    "\n",
    "#opt_B, min_B, max_B = b_scan(0.425, 0.43, 3)"
   ]
  },
  {
   "cell_type": "markdown",
   "metadata": {},
   "source": [
    "### Continuous B scan, optimized to specificed decimal precision"
   ]
  },
  {
   "cell_type": "code",
   "execution_count": 349,
   "metadata": {},
   "outputs": [
    {
     "data": {
      "text/plain": [
       "0.428125"
      ]
     },
     "execution_count": 349,
     "metadata": {},
     "output_type": "execute_result"
    }
   ],
   "source": [
    "def cont_scan(init_domain, scans_per_iteration, precision, verbose):\n",
    "    min, max = init_domain\n",
    "    while round(min, precision) != round(max, precision):\n",
    "        if verbose:\n",
    "            print(f'\\n Starting new scan on interval ({min} T, {max} T)')\n",
    "        opt_B, min, max = b_scan(min, max, scans_per_iteration, precision, verbose)\n",
    "    if verbose:\n",
    "        print('\\n Continuous Scan Complete!')\n",
    "        print(f'\\r\\tOptimal B: {round(opt_B, precision)} (Precision: {precision})')\n",
    "    return opt_B\n",
    "    \n",
    "cont_scan([0.38, 0.45], 5, 2, verbose=False)"
   ]
  },
  {
   "cell_type": "markdown",
   "metadata": {},
   "source": [
    "### X Projection Comparisons"
   ]
  },
  {
   "cell_type": "code",
   "execution_count": 350,
   "metadata": {},
   "outputs": [],
   "source": [
    "num_bins = 100\n",
    "\n",
    "def gaus(data):\n",
    "    avg = np.mean(data)\n",
    "    var = np.var(data)\n",
    "    gausx = np.linspace(left_xaxis, right_xaxis, 1000)\n",
    "    gausy = 1.0/np.sqrt(2*np.pi*var)*np.exp(-0.5*(gausx-avg)**2/var)\n",
    "    return gausx, gausy, round(avg, 3), round(var, 3)\n",
    "\n",
    "fig, axes = plt.subplots(1, 2, sharex=True, sharey=True)\n",
    "\n",
    "#Final X\n",
    "plt.subplot(1, 2, 2)\n",
    "data = xta.particles[-1].x*10**3\n",
    "finalx = plt.hist(data, num_bins, density=True, facecolor='green')\n",
    "gausx, gausy, avg, var = gaus(data)\n",
    "plt.plot(gausx, gausy, 'k--')\n",
    "plt.title('Final x')\n",
    "plt.xlabel(f'$\\mu$ = {avg} mm\\t$\\sigma$ = {var} mm')\n",
    "\n",
    "#Initial X\n",
    "plt.subplot(1, 2, 1)\n",
    "data = xta.particles[0].x*10**3\n",
    "initx = plt.hist(data, num_bins, density=True)\n",
    "gausx, gausy, avg, var = gaus(data)\n",
    "plt.plot(gausx, gausy, 'k--')\n",
    "plt.title('Initial x')\n",
    "plt.xlim(left_xaxis, right_xaxis)\n",
    "plt.xlabel(f'$\\mu$ = {avg} mm\\t$\\sigma$ = {var} mm')\n",
    "\n",
    "plt.suptitle('Normazlized $\\Delta$x')\n",
    "plt.close()"
   ]
  },
  {
   "cell_type": "code",
   "execution_count": 351,
   "metadata": {},
   "outputs": [
    {
     "data": {
      "application/vnd.jupyter.widget-view+json": {
       "model_id": "48437028008044c58e60f85f6cfdfbf9",
       "version_major": 2,
       "version_minor": 0
      },
      "image/png": "[encoded data removed]",
      "text/html": [
       "\n",
       "            <div style=\"display: inline-block;\">\n",
       "                <div class=\"jupyter-widgets widget-label\" style=\"text-align: center;\">\n",
       "                    Figure\n",
       "                </div>\n",
       "                <img src='data:image/png;base64,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' width=640.0/>\n",
       "            </div>\n",
       "        "
      ],
      "text/plain": [
       "Canvas(toolbar=Toolbar(toolitems=[('Home', 'Reset original view', 'home', 'home'), ('Back', 'Back to previous …"
      ]
     },
     "metadata": {},
     "output_type": "display_data"
    }
   ],
   "source": [
    "plt.figure()\n",
    "plt.title('Initial and Final X Projections')\n",
    "plt.hist(xta.particles[0].x*10**3, num_bins, facecolor='blue', label='Initial X', alpha=1)\n",
    "plt.hist(xta.particles[-1].x*10**3, num_bins, facecolor='green', label='Final X', alpha=0.75)\n",
    "plt.xlim(left_xaxis, right_xaxis)\n",
    "plt.xlabel('X [mm]')\n",
    "plt.legend()\n",
    "plt.show()\n",
    "plt.close()"
   ]
  },
  {
   "cell_type": "markdown",
   "metadata": {},
   "source": [
    "### Y Projection Comparisons"
   ]
  },
  {
   "cell_type": "code",
   "execution_count": 352,
   "metadata": {},
   "outputs": [],
   "source": [
    "fig, axes = plt.subplots(1, 2, sharex=True, sharey=True)\n",
    "\n",
    "plt.subplot(1, 2, 2)\n",
    "data = xta.particles[-1].y*10**3\n",
    "finalx = plt.hist(data, num_bins, density=True, facecolor='green', orientation='horizontal')\n",
    "gausy, gausx, avg, var = gaus(data)\n",
    "plt.plot(gausx, gausy, 'k--')\n",
    "plt.title('Final y')\n",
    "plt.ylabel(f'$\\mu$ = {avg} mm\\t$\\sigma$ = {var} mm')\n",
    "\n",
    "plt.subplot(1, 2, 1)\n",
    "data = xta.particles[0].y*10**3\n",
    "initx = plt.hist(data, num_bins, density=True, orientation='horizontal')\n",
    "gausy, gausx, avg, var = gaus(data)\n",
    "plt.plot(gausx, gausy, 'k--')\n",
    "plt.title('Initial y')\n",
    "plt.ylim(left_yaxis, right_yaxis)\n",
    "plt.ylabel(f'$\\mu$ = {avg} mm\\t$\\sigma$ = {var} mm')\n",
    "\n",
    "plt.suptitle('Normazlized $\\Delta$y')\n",
    "plt.close()"
   ]
  },
  {
   "cell_type": "code",
   "execution_count": 353,
   "metadata": {},
   "outputs": [
    {
     "data": {
      "application/vnd.jupyter.widget-view+json": {
       "model_id": "7eacb1c0c6ba4c6f90e821e4059d07a3",
       "version_major": 2,
       "version_minor": 0
      },
      "image/png": "[encoded data removed]",
      "text/html": [
       "\n",
       "            <div style=\"display: inline-block;\">\n",
       "                <div class=\"jupyter-widgets widget-label\" style=\"text-align: center;\">\n",
       "                    Figure\n",
       "                </div>\n",
       "                <img src='data:image/png;base64,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' width=640.0/>\n",
       "            </div>\n",
       "        "
      ],
      "text/plain": [
       "Canvas(toolbar=Toolbar(toolitems=[('Home', 'Reset original view', 'home', 'home'), ('Back', 'Back to previous …"
      ]
     },
     "metadata": {},
     "output_type": "display_data"
    }
   ],
   "source": [
    "plt.figure()\n",
    "plt.title('Initial and Final Y Projections')\n",
    "plt.hist(xta.particles[0].y*10**3, num_bins, facecolor='blue', label='Initial X', alpha=1, orientation='horizontal')\n",
    "plt.hist(xta.particles[-1].y*10**3, num_bins, facecolor='green', label='Final X', alpha=0.75, orientation='horizontal')\n",
    "plt.ylim(left_yaxis, right_yaxis)\n",
    "plt.xlabel('Y [mm]')\n",
    "plt.legend()\n",
    "plt.show()\n",
    "plt.close()"
   ]
  }
 ],
 "metadata": {
  "kernelspec": {
   "display_name": "Python 3.8.13 ('SLAC')",
   "language": "python",
   "name": "python3"
  },
  "language_info": {
   "codemirror_mode": {
    "name": "ipython",
    "version": 3
   },
   "file_extension": ".py",
   "mimetype": "text/x-python",
   "name": "python",
   "nbconvert_exporter": "python",
   "pygments_lexer": "ipython3",
   "version": "3.8.13"
  },
  "orig_nbformat": 4,
  "vscode": {
   "interpreter": {
    "hash": "6c58c64d71ff03ed58a5a60eb518d74c326f0baf896481c551d83d64162bf060"
   }
  }
 },
 "nbformat": 4,
 "nbformat_minor": 2
}
