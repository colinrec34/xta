{
 "cells": [
  {
   "cell_type": "markdown",
   "metadata": {},
   "source": [
    "# VCC Laser Beam Shaping Simulation Example"
   ]
  },
  {
   "cell_type": "markdown",
   "metadata": {},
   "source": [
    "## Initial imports/function definitions"
   ]
  },
  {
   "cell_type": "code",
<<<<<<< HEAD
   "execution_count": 111,
=======
   "execution_count": 92,
>>>>>>> centeringFix
   "metadata": {},
   "outputs": [],
   "source": [
    "%matplotlib widget\n",
    "import os, sys\n",
    "import numpy as np\n",
    "import matplotlib.pyplot as plt\n",
    "#plt.style.use('petrstyle.txt')\n",
    "from matplotlib.ticker import NullFormatter\n",
    "import glob, h5py\n",
    "import shutil\n",
    "import scipy.io\n",
    "import pandas as pd\n",
    "import pydicom as dicom\n",
    "import cv2\n",
    "\n",
    "from astra import Astra#, template_dir\n",
    "from astra.plot import plot_fieldmaps, plot_stats, plot_stats_with_layout\n",
    "import distgen\n",
    "from distgen import Generator\n",
    "from distgen.writers import *\n",
    "from pmd_beamphysics import ParticleGroup\n",
    "from pmd_beamphysics.plot import marginal_plot\n",
    "\n",
    "#slice plots\n",
    "# from h5py import File\n",
    "# from pmd_beamphysics.interfaces import opal\n",
    "# from pmd_beamphysics.plot import slice_plot\n",
    "# from pmd_beamphysics.plot import marginal_plot, density_plot"
   ]
  },
  {
   "cell_type": "code",
<<<<<<< HEAD
   "execution_count": 112,
=======
   "execution_count": 93,
>>>>>>> centeringFix
   "metadata": {},
   "outputs": [],
   "source": [
    "def parse_opal_emitted_dist(filename, names=['x', 'px','y','py','t','pz']):\n",
    "    '''Read in particle distribution used \n",
    "    in OPAL-T simulation. Used to describe the \n",
    "    beam distribution as it leaves the cathode.'''\n",
    "    dist = {}\n",
    "    data = np.loadtxt(filename, skiprows=1)\n",
    "    for i,name in enumerate(names):\n",
    "        dist[name] = data[:,i]\n",
    "    return dist\n",
    "def parse_astra_dist(filename, header=['x', 'y', 'z', 'px','py', 'pz', 't', 'Q', 'ptype', 'flag']):\n",
    "    '''\n",
    "    Read in initial particle distribution used \n",
    "    in ASTRA simulation. Used to describe the \n",
    "    beam distribution as it leaves the cathode.\n",
    "   \n",
    "    t     = time in ns\n",
    "    Q     = macro charge\n",
    "    ptype = particle type (electron: 1)\n",
    "    flag  = particle location (cathode: -1)\n",
    "    '''\n",
    "    #print(filename)\n",
    "    data = pd.read_csv(filename, delim_whitespace=True, names=header)\n",
    "    #print(data)\n",
    "    #only return non traj probe particles at cathodeprint(astradist['z'])\n",
    "    dist = data[data.flag == -1]\n",
    "    return dist #dist"
   ]
  },
  {
   "cell_type": "code",
<<<<<<< HEAD
   "execution_count": 113,
=======
   "execution_count": 94,
>>>>>>> centeringFix
   "metadata": {},
   "outputs": [],
   "source": [
    "def make_tri(n, xmin, xmax, x):\n",
    "\n",
    "    half = int(n/2)\n",
    "    yr  = np.zeros(half*2)\n",
    "    #step 1\n",
    "    nr = int(n)\n",
    "    xr = np.random.rand(nr)\n",
    "\n",
    "    for j in range(0,nr):\n",
    "        #step 3\n",
    "        if j < half:\n",
    "            yr[j] = (1- np.sqrt(1-xr[j]))*(xmax-xmin)  \n",
    "        elif j >= half:\n",
    "        #step 4 \n",
    "            yr[j] = (-1 + np.sqrt(1-xr[j]))*(xmax-xmin) \n",
    "\n",
    "    #showplot(xr, yr)\n",
    "    for k in range(0,len(x)):\n",
    "        #print(y[k])\n",
    "        if (-yr[k]/8 <= x[k] <= yr[k]/8):\n",
    "            pass\n",
    "            #x[k]=0\n",
    "        else:\n",
    "            #print(x[k])\n",
    "            x[k]=0\n",
    "            #pass\n",
    "\n",
    "    #showplot(xr,x)\n",
    "    return x, xr"
   ]
  },
  {
   "cell_type": "markdown",
   "metadata": {},
   "source": [
    "### Distgen file generation"
   ]
  },
  {
   "cell_type": "code",
<<<<<<< HEAD
   "execution_count": 114,
=======
   "execution_count": 95,
>>>>>>> centeringFix
   "metadata": {},
   "outputs": [],
   "source": [
    "# From Chris: https://github.com/slaclab/lcls-lattice/tree/master/distgen/models/cu_inj/vcc_image\n",
    "def write_distgen_xy_dist(filename, image, resolution, resolution_units='m'):\n",
    "    \"\"\"\n",
    "    Writes image data in distgen's xy_dist format\n",
    "    \n",
    "    Returns the absolute path to the file written\n",
    "    \n",
    "    \"\"\"\n",
    "    \n",
    "    # Get width of each dimension\n",
    "    widths = resolution * np.array(image.shape)\n",
    "    \n",
    "    # Form header\n",
    "    header = f\"\"\"x {widths[1]} {widths[1]/2} [{resolution_units}]\n",
    "y {widths[0]} {widths[0]/2}  [{resolution_units}]\"\"\"\n",
    "    \n",
    "    # Save with the correct orientation\n",
    "    np.savetxt(filename, np.flip(image, axis=0), header=header, comments='')\n",
    "    \n",
    "    return os.path.abspath(filename)"
   ]
  },
  {
   "cell_type": "markdown",
   "metadata": {},
   "source": [
    "### Setting the path of the ASTRA_BIN"
   ]
  },
  {
   "cell_type": "code",
<<<<<<< HEAD
   "execution_count": 115,
=======
   "execution_count": 96,
>>>>>>> centeringFix
   "metadata": {},
   "outputs": [],
   "source": [
    "#Possible generalization for environment dependency path\n",
    "os.environ['ASTRA_BIN'] = os.getenv('ASTRA_BIN')\n",
    "#print(os.getenv('ASTRA_BIN'))"
   ]
  },
  {
   "cell_type": "code",
<<<<<<< HEAD
   "execution_count": 116,
=======
   "execution_count": 97,
>>>>>>> centeringFix
   "metadata": {},
   "outputs": [],
   "source": [
    "#Edit this line to match your path if the above cell doesn't work\n",
    "#%env ASTRA_BIN=/Users/colinrecker/Desktop/SLACForks/Astra"
   ]
  },
  {
   "cell_type": "markdown",
   "metadata": {},
   "source": [
    "## Loading Laser Image"
   ]
  },
  {
   "cell_type": "markdown",
   "metadata": {},
   "source": [
    "### Initializing the laser image"
   ]
  },
  {
   "cell_type": "code",
<<<<<<< HEAD
   "execution_count": 117,
=======
   "execution_count": 98,
   "metadata": {},
   "outputs": [],
   "source": [
    "def scan_mkdir(name):\n",
    "    #makes scan directory\n",
    "    os.mkdir(os.path.join(sim_path, name))\n",
    "    scan_path = os.path.join(sim_path, name)\n",
    "\n",
    "    #makes data and plots directory\n",
    "    data_path = os.path.join(scan_path, 'data')\n",
    "    plots_path = os.path.join(scan_path, 'plots')\n",
    "    os.mkdir(data_path)\n",
    "    os.mkdir(plots_path)\n",
    "\n",
    "    #defining directories to add to data and plots\n",
    "    data_dirs = ['cropImage']\n",
    "    plots_dirs = ['animations', 'compare_dist', 'compare_img', 'energy_dist', 'final_electron_dist', 'init_electron_dist', 'laser_images', 'rotate_compare_dist']\n",
    "    for dir in data_dirs:\n",
    "        os.mkdir(os.path.join(data_path, dir))\n",
    "    for dir in plots_dirs:\n",
    "        os.mkdir(os.path.join(plots_path, dir))\n",
    "\n",
    "    #copies .dcm to scan_path directory\n",
    "    shutil.copy2(init_dcm_path, scan_path)"
   ]
  },
  {
   "cell_type": "code",
   "execution_count": 99,
   "metadata": {},
   "outputs": [],
   "source": [
    "#define xta repo path\n",
    "xta_path = '/Users/colinrecker/Desktop/SLACForks/xta'\n",
    "os.chdir(xta_path)\n",
    "\n",
    "#define simulation data directory path\n",
    "sim_path = '/Volumes/GoogleDrive/My Drive/Colin/Simulations'\n",
    "\n",
    "#Loads all example laser images into list\n",
    "vcc = glob.glob(f'{sim_path}/data/laser_mat_images/*.mat')\n",
    "\n",
    "#defining tumor scan\n",
    "init_dcm_path = os.path.join(sim_path, 'Fluence Maps Anon', 'Field 2 Anon', 'field2.dcm')\n",
    "image_name = os.path.splitext(os.path.split(init_dcm_path)[-1])[0]\n",
    "\n",
    "#Creates scan directory\n",
    "if not os.path.exists(os.path.join(sim_path, image_name)):\n",
    "    scan_mkdir(image_name)\n",
    "    print(f'Created new directory for {image_name}')\n",
    "\n",
    "scan_path = os.path.join(sim_path, image_name)\n",
    "\n",
    "#path to directories\n",
    "plots_path = os.path.join(scan_path,'plots')\n",
    "data_path = os.path.join(scan_path, 'data')"
   ]
  },
  {
   "cell_type": "code",
   "execution_count": 100,
>>>>>>> centeringFix
   "metadata": {},
   "outputs": [],
   "source": [
    "#Loads and returns reshaped laser image based on index\n",
    "def laser_load(index):\n",
    "    mat = scipy.io.loadmat(vcc[index])\n",
    "    #Scraping Name of File\n",
    "    global laser_name\n",
    "    laser_name = str(mat['data'][0][0][0][0])\n",
    "\n",
    "    #Image Reshaping\n",
    "    arr = mat['data']\n",
    "    dim = arr.shape[0]\n",
    "    #print(dim)\n",
    "    xy = int(np.sqrt(dim))\n",
    "    nrow = xy\n",
    "    ncol = xy\n",
    "    return arr.reshape(nrow, ncol)[0][0][1], xy"
   ]
  },
  {
<<<<<<< HEAD
   "cell_type": "code",
   "execution_count": 118,
   "metadata": {},
   "outputs": [],
   "source": [
    "#xta repo path\n",
    "xta_path = '/Users/colinrecker/Desktop/SLACForks/xta'\n",
    "os.chdir(xta_path)\n",
    "\n",
    "#sim data path\n",
    "sim_path = '/Volumes/GoogleDrive/My Drive/Colin/Simulations'\n",
    "\n",
    "#Loads all example laser images into list\n",
    "vcc = glob.glob(f'{sim_path}/data/laser_mat_images/*.mat')\n",
    "\n",
    "#defining tumor scan\n",
    "image_name = 'field1'\n",
    "dcm_path = f'{sim_path}/{image_name}/{image_name}.dcm'\n",
    "\n",
    "#path to plots\n",
    "plots_path = f'{sim_path}/{image_name}/plots'\n",
    "data_path = f'{sim_path}/{image_name}/data'"
   ]
  },
  {
=======
>>>>>>> centeringFix
   "cell_type": "markdown",
   "metadata": {},
   "source": [
    "### Plotting Laser Image"
   ]
  },
  {
   "cell_type": "code",
<<<<<<< HEAD
   "execution_count": 119,
=======
   "execution_count": 101,
>>>>>>> centeringFix
   "metadata": {},
   "outputs": [],
   "source": [
    "IMAGE, xy = laser_load(0) #Index of first vcc image\n",
    "plt.figure()\n",
    "plt.imshow(IMAGE)#, extent=[0,1,0,1])\n",
    "plt.ylabel('Pixel', size=20)\n",
    "plt.xlabel('Pixel', size=20)\n",
    "plt.savefig(f'{plots_path}/laser_images/{laser_name}.jpg', dpi=300, bbox_inches='tight')\n",
    "plt.close()"
   ]
  },
  {
   "cell_type": "markdown",
   "metadata": {},
   "source": [
    "### Generating associated .txt file for distgen"
   ]
  },
  {
   "cell_type": "code",
<<<<<<< HEAD
   "execution_count": 120,
=======
   "execution_count": 102,
>>>>>>> centeringFix
   "metadata": {},
   "outputs": [],
   "source": [
    "FOUT = write_distgen_xy_dist(f'astra/astra-inputs/{laser_name}.txt', IMAGE, xy, resolution_units='um')"
   ]
  },
  {
   "cell_type": "markdown",
   "metadata": {},
   "source": [
    "# Generating electron distribution with tumor image"
   ]
  },
  {
   "cell_type": "code",
<<<<<<< HEAD
   "execution_count": 121,
=======
   "execution_count": 103,
>>>>>>> centeringFix
   "metadata": {},
   "outputs": [],
   "source": [
    "left_xaxis, right_xaxis= -10, 10\n",
    "left_yaxis , right_yaxis = -10, 10"
   ]
  },
  {
   "cell_type": "markdown",
   "metadata": {},
   "source": [
    "## Centering Image"
   ]
  },
  {
   "cell_type": "code",
<<<<<<< HEAD
   "execution_count": 122,
=======
   "execution_count": 104,
>>>>>>> centeringFix
   "metadata": {},
   "outputs": [
    {
     "data": {
      "text/plain": [
       "'/Volumes/GoogleDrive/My Drive/Colin/Simulations/field2/data/cropImage/field2.jpg'"
      ]
     },
     "execution_count": 104,
     "metadata": {},
     "output_type": "execute_result"
    }
   ],
   "source": [
    "def dcm_Crop(im_input):\n",
    "    ds = dicom.dcmread(im_input)\n",
    "    pixArr = ds.pixel_array\n",
    "    dim = pixArr.shape\n",
    "    height, width = dim[0], dim[1]\n",
    "\n",
    "    #pixel threshold 5000\n",
    "    x, y = np.where(pixArr > 5000)\n",
    "    xl, xr = x.min(), x.max()\n",
    "    yl, yr = y.min(), y.max()\n",
    "    crop = pixArr[xl:xr+1, yl:yr+1]\n",
    "    plt.imsave(f'{xta_path}/test.jpg', crop)\n",
    "    \n",
    "    padx = (height - crop.shape[0], width - crop.shape[1])\n",
    "    padImg = np.pad(crop, [(124, 124), (124, 124)], mode='constant')\n",
    "\n",
    "    save_path = f'{data_path}/cropImage/{image_name}.jpg'\n",
    "    plt.imsave(save_path, padImg)\n",
    "    return save_path\n",
    "\n",
    "dcm_path = os.path.join(scan_path, f'{image_name}.dcm')\n",
    "dcm_Crop(dcm_path)"
   ]
  },
  {
   "cell_type": "markdown",
   "metadata": {},
   "source": [
    "## Electron Distribution Generation"
   ]
  },
  {
   "cell_type": "code",
<<<<<<< HEAD
   "execution_count": 123,
=======
   "execution_count": 105,
>>>>>>> centeringFix
   "metadata": {},
   "outputs": [],
   "source": [
    "def generate_dist():\n",
    "    dist_file = 'astra/astra-inputs/distgen.yaml'\n",
    "    dist = Generator(dist_file, verbose=False)\n",
    "\n",
    "    dist.input['xy_dist']['file'] = dcm_Crop(dcm_path)\n",
    "    dist.input['n_particle'] = int(1e4)\n",
    "    dist.input['start']['MTE']['value'] = 130 #330\n",
    "\n",
    "    fwhm = 0.06/2.355 # 60 fs = 0.06 ps\n",
    "    dist.input['t_dist']['sigma_t']['value'] = fwhm\n",
    "\n",
    "    dist.input['total_charge']['value'] = 1\n",
    "\n",
    "    # dist.input['r_dist']['max_r']['value'] = 0.5\n",
    "\n",
    "    dist.run()\n",
    "    particles = dist.particles \n",
    "    particles.write_astra('astra/astra-inputs/astra_particles.txt')\n",
    "    return particles, dist"
   ]
  },
  {
   "cell_type": "markdown",
   "metadata": {},
   "source": [
    "## Electron Distribution Plots"
   ]
  },
  {
   "cell_type": "code",
<<<<<<< HEAD
   "execution_count": 124,
=======
   "execution_count": 106,
>>>>>>> centeringFix
   "metadata": {},
   "outputs": [],
   "source": [
    "particles, dist = generate_dist()\n",
    "particles.plot('x','y')\n",
    "plt.close()"
   ]
  },
  {
   "cell_type": "code",
<<<<<<< HEAD
   "execution_count": 125,
=======
   "execution_count": 107,
>>>>>>> centeringFix
   "metadata": {},
   "outputs": [],
   "source": [
    "num_bins = 45\n",
    "plt.figure(figsize=(5, 5))\n",
    "astradist = parse_opal_emitted_dist('astra/astra-inputs/astra_particles.txt', names=['x', 'y', 'z', 'px','py', 'pz', 't', 'Q', 'ptype', 'flag'])\n",
    "plt.hist2d(astradist['x']*10**3, astradist['y']*10**3, num_bins, facecolor='blue', cmin=2)#, alpha=0.5)\n",
    "#print(xy)\n",
    "plt.title('Initial Electron Distribution')\n",
    "plt.ylabel('y [mm]', size=20)\n",
    "plt.xlabel('x [mm]', size=20)\n",
    "plt.xlim([left_xaxis, right_xaxis])\n",
    "plt.ylim([left_yaxis, right_yaxis])\n",
    "plt.savefig(f'{plots_path}/init_electron_dist/{image_name}.jpg', dpi=300)\n",
    "plt.close()"
   ]
  },
  {
   "cell_type": "markdown",
   "metadata": {},
   "source": [
    "# Run ASTRA"
   ]
  },
  {
   "cell_type": "markdown",
   "metadata": {},
   "source": [
    "## Initializing simulation with xta.in file"
   ]
  },
  {
   "cell_type": "code",
<<<<<<< HEAD
   "execution_count": 126,
=======
   "execution_count": 108,
>>>>>>> centeringFix
   "metadata": {},
   "outputs": [],
   "source": [
    "astra_file = 'astra/astra-inputs/xta.in'\n",
    "xta = Astra(initial_particles=particles, input_file=astra_file, verbose=False)\n",
    "#xta.input['cavity']['file_efield(1)'] = f'{sim_path}/data/fieldmaps/map559.dat'"
   ]
  },
  {
   "cell_type": "code",
<<<<<<< HEAD
   "execution_count": 127,
=======
   "execution_count": 109,
>>>>>>> centeringFix
   "metadata": {},
   "outputs": [],
   "source": [
    "#Changing inputs on xta\n",
    "xta.input['solenoid']['maxb(1)'] = 0.427"
   ]
  },
  {
   "cell_type": "code",
<<<<<<< HEAD
   "execution_count": 128,
=======
   "execution_count": 110,
>>>>>>> centeringFix
   "metadata": {},
   "outputs": [],
   "source": [
    "xta.input['newrun']['zstart'] = 0.0\n",
    "xta.input['newrun']['zstop'] = 0.25\n",
    "xta.input['charge']['lspch'] = True\n",
    "xta.input['newrun']['zphase'] = 50\n"
   ]
  },
  {
   "cell_type": "markdown",
   "metadata": {},
   "source": [
    "## Running Astra simulation"
   ]
  },
  {
   "cell_type": "code",
<<<<<<< HEAD
   "execution_count": 129,
=======
   "execution_count": 111,
>>>>>>> centeringFix
   "metadata": {},
   "outputs": [],
   "source": [
    "xta.run()\n",
    "\n",
    "xta.archive(f'{sim_path}/{image_name}}/xta_{xta.input['bunch']}.h5')"
   ]
  },
  {
   "cell_type": "code",
<<<<<<< HEAD
   "execution_count": 130,
=======
   "execution_count": 112,
>>>>>>> centeringFix
   "metadata": {},
   "outputs": [],
   "source": [
    "#xta.archive('xta_60fs_1mm_10pC_noSC_laser_weak_solenoid_0.45_zstop_5.5.h5')"
   ]
  },
  {
   "cell_type": "code",
<<<<<<< HEAD
   "execution_count": 131,
=======
   "execution_count": 113,
>>>>>>> centeringFix
   "metadata": {},
   "outputs": [],
   "source": [
    "#xta.load_archive('archives/xta_60fs_1mm_10pC_SC_laser_weak_solenoid_0.45_zstop_5.5.h5')"
   ]
  },
  {
   "cell_type": "markdown",
   "metadata": {},
   "source": [
    "# Plots"
   ]
  },
  {
   "cell_type": "markdown",
   "metadata": {},
   "source": [
    "## Energy Plots"
   ]
  },
  {
   "cell_type": "code",
<<<<<<< HEAD
   "execution_count": 132,
=======
   "execution_count": 114,
>>>>>>> centeringFix
   "metadata": {},
   "outputs": [],
   "source": [
    "test = xta.particles[-1].plot('energy')\n",
    "plt.savefig(f'{plots_path}/energy_dist/{image_name}.jpg', dpi=250)\n",
    "plt.close()"
   ]
  },
  {
   "cell_type": "markdown",
   "metadata": {},
   "source": [
    "## Electron Distribution Plots"
   ]
  },
  {
   "cell_type": "markdown",
   "metadata": {},
   "source": [
    "### Final Distribution Plot"
   ]
  },
  {
   "cell_type": "code",
<<<<<<< HEAD
   "execution_count": 133,
=======
   "execution_count": 115,
>>>>>>> centeringFix
   "metadata": {},
   "outputs": [],
   "source": [
    "#xta.load_archive('archives/xta_60fs_1mm_1pC_SC_laser_test.h5')\n",
    "plt.figure(figsize=(5, 5))\n",
    "# xta.particles[-1].plot('x','y')\n",
    "xtapart = xta.particles[-1]\n",
    "num_bins = 45\n",
    "xy = plt.hist2d(xtapart.x*10**3, xtapart.y*10**3, num_bins, facecolor='blue', cmin=1)#, alpha=0.5)\n",
    "#print(np.mean(xtapart.z))\n",
    "plt.xlim([left_xaxis, right_xaxis])\n",
    "plt.ylim([left_yaxis, right_yaxis])\n",
    "plt.ylabel('y [mm]', size=20)\n",
    "plt.xlabel('X [mm]', size=20)\n",
    "plt.savefig(f'{plots_path}/final_electron_dist/{image_name}.jpg', dpi=300, bbox_inches='tight')\n",
    "plt.close()"
   ]
  },
  {
   "cell_type": "markdown",
   "metadata": {},
   "source": [
    "### Initial vs. Final Plot"
   ]
  },
  {
   "cell_type": "code",
<<<<<<< HEAD
   "execution_count": 134,
=======
   "execution_count": 116,
>>>>>>> centeringFix
   "metadata": {
    "scrolled": false
   },
   "outputs": [],
   "source": [
    "#Super plot\n",
    "fig, plots = plt.subplots(1, 2, figsize=(10, 5), sharex=True, sharey=True)\n",
    "fig.subplots_adjust(wspace=0.1)\n",
    "\n",
    "#Final plot\n",
    "finalxy = plt.subplot(1,2,2)\n",
    "xtapart = xta.particles[-1]\n",
    "num_bins = 42\n",
    "plt.hist2d(xtapart.x*10**3, xtapart.y*10**3, num_bins, facecolor='blue', cmin=1)\n",
    "plots[1].set(title='Final Shape', xlabel='x [mm]')\n",
    "\n",
    "#Initial Plot\n",
    "num_bins = 42\n",
    "initialxy = plt.subplot(1,2,1)\n",
    "plt.hist2d(xta.particles[0].x*10**3, xta.particles[0].y*10**3, num_bins, facecolor='blue', cmin=1)\n",
    "plots[0].set(title='Initial Shape', xlabel='x [mm]', ylabel='y [mm]', xlim=[left_xaxis, right_xaxis], ylim=[left_yaxis, right_yaxis])\n",
    "\n",
    "\n",
    "plt.suptitle(f\"Initial vs. Final Beam Shape\\n |B|={xta.input['solenoid']['maxb(1)']} T, q={dist.input['total_charge']['value']} nC\")\n",
    "#plt.tight_layout\n",
    "\n",
    "plt.savefig(f'{plots_path}/compare_dist/{image_name}.jpg', dpi=300, bbox_inches='tight')\n",
    "plt.close()"
   ]
  },
  {
   "cell_type": "markdown",
   "metadata": {},
   "source": [
    "### Cross Sections"
   ]
  },
  {
   "cell_type": "code",
<<<<<<< HEAD
   "execution_count": 135,
=======
   "execution_count": 117,
>>>>>>> centeringFix
   "metadata": {},
   "outputs": [],
   "source": [
    "num_cross = 6\n",
    "num_rows = math.ceil(num_cross/3)\n",
    "num_bins = 42\n",
    "#Super plot\n",
    "fig, plots = plt.subplots(num_rows, 3, sharex=True, sharey=True)\n",
    "fig.subplots_adjust(wspace=0.2, hspace=0.5)\n",
    "\n",
    "#Final plot\n",
    "finalxy = plt.subplot(num_rows, 3, num_cross)\n",
    "xtapart = xta.particles[-1]\n",
    "plt.hist2d(xtapart.x*10**3, xtapart.y*10**3, num_bins, facecolor='blue', cmin=1)\n",
    "meanZ = round(mean(xtapart.z), 3)\n",
    "plt.title(f'z={meanZ} m', size=8)\n",
    "plt.xlabel(f'x [mm]')\n",
    "\n",
    "#Intermediate plots\n",
    "\n",
    "for plot in range(2, num_cross):\n",
    "    intxy = plt.subplot(num_rows, 3, plot)\n",
    "    index = (len(xta.particles)//(num_cross-1))*(plot-1)\n",
    "    xtapart = xta.particles[index]\n",
    "    plt.hist2d(xtapart.x*10**3, xtapart.y*10**3, num_bins, facecolor='blue', cmin = 1)\n",
    "    meanZ = round(mean(xtapart.z), 3)\n",
    "    plt.title(f'z={meanZ} m', size=8)\n",
    "    if plot >= (num_cross - 2):\n",
    "        plt.xlabel('x [mm]')\n",
    "    if (plot-1)%3 == 0:\n",
    "        plt.ylabel('y [mm]')\n",
    "\n",
    "\n",
    "#Initial Plot\n",
    "initialxy = plt.subplot(num_rows, 3, 1)\n",
    "xtapart = xta.particles[0]\n",
    "plt.hist2d(xtapart.x*10**3, xtapart.y*10**3, num_bins, facecolor='blue', cmin=1)\n",
    "plt.xlim([left_xaxis, right_xaxis])\n",
    "plt.ylim([left_yaxis, right_yaxis])\n",
    "meanZ = round(mean(xtapart.z), 3)\n",
    "plt.title(f'z={meanZ} m', size=8)\n",
    "plt.ylabel('y [mm]')\n",
    "\n",
    "\n",
    "plt.suptitle(f\"|B|={xta.input['solenoid']['maxb(1)']} T, q={dist.input['total_charge']['value']} nC\", weight='bold')\n",
    "plt.close()"
   ]
  },
  {
   "cell_type": "markdown",
   "metadata": {},
   "source": [
    "## Beam Size vs. Mean Z"
   ]
  },
  {
   "cell_type": "code",
<<<<<<< HEAD
   "execution_count": 136,
=======
   "execution_count": 118,
>>>>>>> centeringFix
   "metadata": {},
   "outputs": [],
   "source": [
    "plt.figure()\n",
    "plt.plot(xta.stat('mean_z'), xta.stat('sigma_z')*10**3, '-', label=\"$\\sigma_z$\")\n",
    "plt.plot(xta.stat('mean_z'), xta.stat('sigma_x')*10**3, '-', label=\"$\\sigma_x$\")\n",
    "plt.xlabel('Mean z [m]')\n",
    "plt.ylabel('Beam size [mm]')\n",
    "plt.legend(loc='upper right')\n",
    "plt.ylim(0,0.1)\n",
    "plt.xlim(0,1)\n",
    "plt.grid()\n",
    "plt.close()"
   ]
  },
  {
   "cell_type": "markdown",
   "metadata": {},
   "source": [
    "## Mean Kinetic Energy vs. Mean Z"
   ]
  },
  {
   "cell_type": "code",
<<<<<<< HEAD
   "execution_count": 137,
=======
   "execution_count": 119,
>>>>>>> centeringFix
   "metadata": {},
   "outputs": [],
   "source": [
    "plt.figure()\n",
    "plt.plot(xta.stat('mean_z'), xta.stat('mean_kinetic_energy')*10**-6, '-', label=\"Energy\")\n",
    "# plt.plot(xta.stat('mean_z'), xta.stat('sigma_x')*10**3, '-', label=\"$\\sigma_x$\")\n",
    "plt.xlabel('Mean z [m]')\n",
    "plt.ylabel('Mean Kinetic Energy [eV]')\n",
    "plt.legend(loc='upper right')\n",
    "# plt.ylim(0,0.6)\n",
    "# plt.xlim(0,0.7)\n",
    "plt.grid()\n",
    "plt.close()"
   ]
  },
  {
   "cell_type": "markdown",
   "metadata": {},
   "source": [
    "## Movie"
   ]
  },
  {
   "cell_type": "code",
<<<<<<< HEAD
   "execution_count": 138,
=======
   "execution_count": 120,
>>>>>>> centeringFix
   "metadata": {},
   "outputs": [],
   "source": [
    "import matplotlib.animation as animation"
   ]
  },
  {
   "cell_type": "markdown",
   "metadata": {},
   "source": [
    "### Initial histogram"
   ]
  },
  {
   "cell_type": "code",
<<<<<<< HEAD
   "execution_count": 139,
=======
   "execution_count": 121,
>>>>>>> centeringFix
   "metadata": {},
   "outputs": [
    {
     "data": {
      "application/vnd.jupyter.widget-view+json": {
<<<<<<< HEAD
       "model_id": "37e487a2ded9442f8682d80ebdacccc5",
=======
       "model_id": "482c065471354549895a815d276b33d6",
>>>>>>> centeringFix
       "version_major": 2,
       "version_minor": 0
      },
      "image/png": "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",
      "text/html": [
       "\n",
       "            <div style=\"display: inline-block;\">\n",
       "                <div class=\"jupyter-widgets widget-label\" style=\"text-align: center;\">\n",
       "                    Figure\n",
       "                </div>\n",
       "                <img src='data:image/png;base64,iVBORw0KGgoAAAANSUhEUgAAAfQAAAH0CAYAAADL1t+KAAAAOXRFWHRTb2Z0d2FyZQBNYXRwbG90bGliIHZlcnNpb24zLjUuMiwgaHR0cHM6Ly9tYXRwbG90bGliLm9yZy8qNh9FAAAACXBIWXMAAA9hAAAPYQGoP6dpAABUbElEQVR4nO3de1hU1f4/8PeAMFxEFFAGVC6iYooVaQn+UkTzQmqpaZqnlFN6KsOjoseyi6KdJPOSJzvl0RQtK81MMzUFE/BYmjc6aZpXFEQIQQEvCILr94dfJkf22jAjMMP2/XqeeR5nrb3WXnvPOB/2zHzmoxNCCBAREVG9ZmftBRAREdHdY0AnIiLSAAZ0IiIiDWBAJyIi0gAGdCIiIg1gQCciItIABnQiIiINYEAnIiLSAAZ0IiIiDWBAJyIi0gAGdCIiIg1gQCciItIABnQiIiINYEAnIiLSAAZ0IiIiDWBAJyIi0gAGdCIiIg1gQCciItIABnQiIiINYEAnIiLSAAZ0snkBAQGIi4szaevRowd0Op3x5uDggICAALzwwgs4e/Zstea4G9u3b0d4eDhcXFzg5eWF6Oho5Obmmj3PH3/8AU9PT+h0Onz99dcmfTt27MDzzz+Pdu3awdXVFc2bN8eTTz6JAwcOVJrn9nNx561du3bS/cfFxamOrbj16NHD7GOrbb/99hvGjRuH8PBwuLq6QqfTISUlpdb2d/r0acTExKBt27ZwdnaGi4sLOnTogDfffBNZWVm1tl+i6mpg7QUQWapVq1b4/PPPAQClpaU4fPgwZs6ciaSkJPz+++9wcXGplf2mpqYiKioK/fv3x7fffovc3Fy8+uqr6NWrF/bv3w+9Xl/tuV555RU4OTkp9n388cfIz8/HhAkT0L59e1y4cAHz589HWFgYtm3bhp49exq33b17d6XxP//8MyZOnIjBgwdL9z9mzBj069fPeD87OxtDhgzB+PHjMXLkSGN7o0aNqn1MdWX//v3YsGEDQkND0atXL3z33Xe1tq9NmzZhxIgR8PLyQkxMDEJDQ6HT6XDo0CEsX74cmzdvRlpaWq3tn6haBJGN8/f3FzNmzDBpi4iIEB06dKi07bJlywQAsW3btirnsNTDDz8s2rdvL27cuGFs+/HHHwUA8dFHH1V7nq+//lo0bNhQrFy5UgAQa9euNen/448/Ko25fPmy8Pb2Fr169apy/ujoaKHT6cSJEyeqvab09HQBQMydO7faY6ylvLzc+O+1a9cKACI5ObnG93P69Gnh6uoqQkNDRUFBQaX+mzdvinXr1tX4fonMxbfcSVPc3d0BAA4ODrUyf1ZWFvbt24fnnnsODRr8+QZX165d0bZtW6xfv75a81y8eBGvvPIK3nnnHfj5+Slu06xZs0ptDRs2RPv27ZGZmak6/+XLl7F27VpERESgdevW1VpTTTt//jyefvppuLm5wd3dHcOHD8eePXug0+mwYsWKu57fzu7uXr4CAgIwYMAAbN26FQ899BCcnZ3Rrl07LF++3GS7BQsW4OrVq/joo4+Mz6/b6XQ6DBky5K7WQlQTGNCpXisrK0NZWRmuXbuGvXv3YtasWWjVqhW6du1a5dibN28ax6vdysvLjWMOHz4MALj//vsrzXf//fcb+6vy97//HYGBgYiJianmkd5SWFiIgwcPokOHDqrbrV69GlevXsWYMWPMmr+mFBcX47HHHkNiYiLi4+Oxdu1aGAwGDB8+vNK2QohqPQ5lZWU1vs7//e9/mDx5MiZNmoRvv/0W999/P1544QXs3LnTuE1iYiK8vb0RFhZW4/snqkn8DJ3qrd9++63SlXjbtm2xefPman2O/fzzz2PlypVVbhcREWH8slV+fj4AwMPDo9J2Hh4exn41mzdvxldffYWDBw+afZX5yiuv4OrVq3jjjTdUt1u2bBkaN26Mp556yqz5a8rKlStx9OhRfPvtt3jiiScAAH369EFxcTGWLl1aadu//vWv1ZpXCFGj68zLy8OPP/5ofJeke/fu+OGHH/DFF1+ge/fuAICMjAw8+OCDNbpfotrAgE71VlBQEFavXg3g1pV6eno65syZg169eiElJQVt2rRRHR8XF1etK2Q3N7dKbTqdTnFbWXuFwsJCvPjii3j11VcREhJS5b5v99Zbb+Hzzz/HokWL0KlTJ+l2v/32G37++WfVL9zVtuTkZLi5uRmDeYWRI0dWCugDBw7Evn376nJ5Rg8++KDJRx5OTk5o27atYqYEka1jQKd6y8nJCZ07dzbeDwsLQ48ePdC8eXNMnz4dX375pep4Pz8/tGjRosr93B6kPT09AUDxSvzixYuKV+63e+ONN+Dg4ICYmBgUFBQAAK5cuQIAuHbtGgoKCuDu7l7pD4OZM2fin//8J955550q/whZtmwZAFjt7Xbg1vnx9vau1G4wGCq1eXh4KH42XRcqHs/b6fV6FBcXG+/7+fkhPT29LpdFZBF+hk6a4uPjAy8vL/zvf/+rctvnn38eDg4OVd569eplHFNxVX3o0KFK8x06dKjKq+7Dhw/jzJkzMBgMaNKkCZo0aYKBAwcCAEaPHo0mTZqgsLDQZMzMmTMRFxeHuLg4vP7666rzl5aW4rPPPkOnTp2s+jaxp6cn/vjjj0rtOTk5ldpWrlxZrcehtr7oWJW+ffvijz/+wJ49e6yyf6Lq4hU6acq5c+eQl5eH9u3bV7mtJW+5N2/eHI888ghWrVqFKVOmwN7eHgCwZ88eHDt2DBMnTlSda+HChcYr8wq//PILJk2ahLi4OERERKBhw4bGvrfffhtxcXF48803MWPGjCrXunHjRuTl5WHWrFlVblubIiMj8dVXX2Hjxo0mb7t/8cUXlba15lvu1TFp0iQsX74c48aNQ3JycqV3E4QQ2LBhg2q+P1FdYECnequ4uNh41VReXo709HS89957AFBlYAVupS0FBASYvd85c+agd+/eGDZsGMaNG4fc3Fy89tprCAkJMfly19mzZxEUFITRo0cb3wZXu2ru0KGDyS+yzZ8/H9OnT0e/fv3Qv3//SleISt+6XrZsGZydnU1+FKYmpaSkIDIyEjNmzFD95b1Ro0bh/fffx6hRo/DOO++gTZs22LJlC7Zt21ZpW09PT8W3vqty7do1bNmyBQCM5yY1NRV5eXlwdXVFVFSU2XMqCQwMxOrVqzF8+HA8+OCDxh+WAYAjR45g+fLlEEIwoJPVMaBTvXX69GmEh4cDuJWTbDAY8MADD2DRokWIiIiotf326NEDW7ZswfTp0zFw4EC4uLhgwIABmDt3rsm364UQKC8vN0l7M0fFL59t3boVW7durdR/5ze+MzMzkZiYiGeffbbWPpOu+Lzfx8dHdTsXFxfs2LEDEyZMwGuvvQadToc+ffpg9erV1UoprI7c3FwMGzbMpK3ijwx/f3+cOXOmRvYDAAMGDMChQ4cwf/58LF68GJmZmbCzs0NgYCD69euH8ePH19i+iCylEzWdB0JUwwICAhAdHX1Xv8VeE3MQMHXqVHz55Zc4ceKERd+gP3PmDAIDA5GQkIDo6OiaXyDRPYxfiiOiaktOTsZbb71ltXQ4IpLjW+5EVG22/OU1onsdAzoR1ZmAgIAa/7U3IrqFn6ETERFpAD9DJyIi0gAGdCIiIg1gQCeqRy5fvoypU6eiT58+aNq0KXQ6Xa2l4pmzr+joaOh0ukq3du3a1craiKgyBnSieiQ/Px9LlixBSUkJBg0aZFP7cnZ2xu7du01ua9asqdU1EtGf+C13onrE398fly5dgk6nQ15eHj755BOb2ZednZ3iz9ES1Ybo6GisXLmyUvuJEyfQunVrK6zo7h06dAgxMTHYu3cvPDw88OKLL+Ktt96qsixzBV6hE9WwHj16KL79rNPpsGLFiruau2Ke6lqzZg3Cw8Ph6uqKhg0bom/fvkhLS6uVfd0NnU6HmJgYJCQkIDg4GM7OzujcuTP27NkDIQTmzp2LwMBANGzYED179sTJkyfrZF1k2/r164fs7GyTW2BgYKXtSktLrbA68xQVFaF3797w9fXFvn37sGjRIsybNw8LFiyo9hwM6EQ17KOPPqr01vNjjz0Ge3t7BAcHG7crKyur1s3SzNLZs2fjmWeeQfv27fHVV1/hs88+w+XLl9GtWzccOXKkpg7XqLi4GAaDAfb29mjRogViYmJw8eLFao/ftGkTPvnkE7z77rv48ssvcfnyZfTv3x+TJ0/Gjz/+iA8//BBLlizBkSNH8NRTTzGfnaDX62EwGExu9vb26NGjB2JiYhAbGwsvLy/07t0bALBgwQJ07NgRrq6uaNmyJcaNG2esTwAAK1asQOPGjbFp0yYEBwfDxcUFQ4cOxdWrV7Fy5UoEBASgSZMmGD9+vEmNhtLSUkydOhXNmzeHq6srunTpgpSUFLOO5fPPP8f169exYsUKhISEYMiQIXj99dexYMGC6j/XBRHVqrlz5woAYsmSJca29PR0AaBat+TkZMV5L1y4IACIGTNmVOrLyMgQDRo0EOPHjzdpv3z5sjAYDOLpp5826xjU9iWEEAsWLBALFiwQiYmJIjExUbzxxhvCxcVFtGvXTly+fLnK+QEIg8Egrly5YmzbsGGDACAefPBBcfPmTWP7woULBQDx66+/mnUMpC2jR48WTz75pGJfRESEaNiwofjHP/4hfv/9d3H06FEhhBDvv/++2LFjhzh9+rT44YcfRHBwsHj55ZeN4xISEoSDg4Po3bu3OHjwoEhNTRWenp6iT58+4umnnxa//fab+O6774Sjo6NYvXq1cdzIkSNF165dxc6dO8XJkyfF3LlzhV6vF8ePHzduA0AkJCRIj+e5554TTzzxhEnbwYMHBQBx+vTpap0TfoZOVIu+/PJLTJ06FW+++SbGjh1rbK94W606br+qr65t27ahrKwMo0aNQllZmbHdyckJERERSE5OBvBnRbjbNWhg/svCpEmTTO737t0boaGhGDp0KJYuXVqpX0lkZCRcXV2N9++77z4AQFRUlMlb/xXtZ8+eRceOHc1eK2nHpk2b0LBhQ+P9qKgorF27FgDQunVrYznlCreXVQ4MDMTbb7+Nl19+GR999JGx/caNG/j4448RFBQEABg6dCg+++wz/PHHH2jYsCHat2+PyMhIJCcnY/jw4Th16hS+/PJLnDt3Dr6+vgCAKVOmYOvWrUhISMDs2bMB3Pp/rFYFMScnp1I5Z29vb2Of0kcJd2JAJ6olycnJiI6OxqhRo/D222+b9Dk6OqrWRr+dvb292fv+448/AAAPP/ywYr+d3a1P21JTUxEZGWnSl56eblGd+DsNHjwYrq6uleq4y3h4eJjcd3R0VG2/fv36Xa+R6rfIyEh8/PHHxvu3/0HYuXPnStsnJydj9uzZOHLkCIqKilBWVobr16/j6tWrxrEuLi7GYA7cCqoBAQEmfzh4e3sjNzcXAHDw4EEIIdC2bVuTfZWUlMDT09N4//fff6/yeO78zor4v7faq/tdFgZ0olrw66+/YtCgQYiIiMDSpUsr9VeUEa2O5ORk9OjRw6z9e3l5AQC+/vpr+Pv7S7fr1KlTpXcKKq4yaoIQwvjHA1FNc3V1lX6j/fbgDtx6R+fxxx/HSy+9hLfffhseHh7YtWsXXnjhBdy4ccO4nYODg8k4nU6n2Hbz5k0AwM2bN2Fvb48DBw5U+uP79j8CqmIwGJCTk2PSVvFHQ8WVelUY0IlqWEZGBqKiotCqVSusW7eu0osBUPtvufft2xcNGjTAqVOn8NRTT0m3c3NzU7ySqQlff/01rl27xlQ2sgn79+9HWVkZ5s+fb/wj86uvvrrreUNDQ1FeXo7c3Fx069bN4nnCw8Px+uuvo7S01PguVGJiInx9fav9jhkDOlENi4qKQkFBAT788EP89ttvJn1BQUFo2rQpHB0dLQ6k33//Pa5evYrLly8DAI4cOYKvv/4aAPD444/DxcUFAQEBmDVrFt544w2cPn0a/fr1Q5MmTfDHH39g7969cHV1xcyZM2tkX2fPnsXIkSMxYsQItG7dGjqdDqmpqVi4cCE6dOiAMWPGWHScRDUpKCgIZWVlWLRoEQYOHIgff/wRixcvvut527Zti7/85S8YNWoU5s+fj9DQUOTl5WHHjh3o2LEjHn/8cQBAu3btEB8fj8GDByvOM3LkSMycORPR0dF4/fXXceLECcyePRvTp0+vfvpotb46R0TVBpVvrKt9y7W6/P39pfOnp6ebbLthwwYRGRkpGjVqJPR6vfD39xdDhw4V27dvr7F9Xbx4UQwePFgEBAQIZ2dn4ejoKNq0aSOmTp0qCgoKqrUfAOKVV14xaavIBJg7d65Je3JysgAg1q5dW625SZuq+pb7hAkTKrUvWLBA+Pj4CGdnZ9G3b1/x6aefCgDi0qVLQohb33J3d3c3GTNjxgzxwAMPqO67tLRUTJ8+XQQEBAgHBwdhMBjE4MGDTTIxqvP//9dffxXdunUTer1eGAwGERcXZ5LhURWWTyUiItIAfluFiIhIAxjQiYiINIABnYiISAPqJKDv3LkTAwcOhK+vL3Q6HTZs2GDSL4RAXFwcfH194ezsjB49elT6drCSdevWoX379tDr9Wjfvj3Wr19fS0dARERk2+okoF+9ehUPPPAAPvzwQ8X+9957DwsWLMCHH36Iffv2wWAwoHfv3sZUGSW7d+/G8OHD8dxzz+F///sfnnvuOTz99NP4+eefa+swiIiIbFadf8tdp9Nh/fr1GDRoEIBbV+e+vr6YOHEiXn31VQC3fjLP29sbc+bMwYsvvqg4z/Dhw1FUVITvv//e2FaRa/vll1/W+nEQERHZEqv/sEx6ejpycnLQp08fY5ter0dERAR++uknaUDfvXt3pYIPffv2xcKFC6X7KikpQUlJifH+zZs3cfHiRXh6etZZ3WciIrINQghcvnwZvr6+mviJYqsH9Irfrr3zt2q9vb1x9uxZ1XFKY+78LdzbxcfHV+vXsYiI6N6RmZmJFi1aWHsZd83qAb2CUpWZqq6azR0zbdo0xMbGGu8XFhbCz88PmZmZaNSokQWrJiKi+qqoqAgtW7aEm5ubtZdSI6we0A0GA4BbV9w+Pj7G9tzcXNUKM7LKNGpj9Ho99Hp9pfZGjRoxoBMR3aO08pGr1T80CAwMhMFgQFJSkrGttLQUqamp6Nq1q3RceHi4yRjgVmUatTFERERaVSdX6FeuXMHJkyeN99PT0/HLL7/Aw8MDfn5+mDhxImbPno02bdqgTZs2mD17NlxcXDBy5EjjmFGjRqF58+aIj48HAEyYMAHdu3fHnDlz8OSTT+Lbb7/F9u3bsWvXrro4JCIiIptSJwF9//79iIyMNN6v+Bx79OjRWLFiBaZOnYri4mKMGzcOly5dQpcuXZCYmGjyuUZGRobJtxC7du2K1atX480338Rbb72FoKAgrFmzBl26dKmLQyIiIrIp93S1taKiIri7u6OwsJCfoRMR3WO0FgOs/hk6ERER3T0GdCIiIg1gQCciItIABnQiIiINYEAnIiLSAAZ0IiIiDWBAJyIi0gAGdCIiIg1gQCciItIABnQiIiINYEAnIiLSAAZ0IiIiDWBAJyIi0gAGdCIiIg1gQCciItIABnQiIiINYEAnIiLSAAZ0IiIiDWBAJyIi0gAGdCIiIg1gQCciItIABnQiIiINYEAnIiLSAAZ0IiIiDWBAJyIi0gAGdCIiIg1gQCciItIABnQiIiINYEAnIiLSAAZ0IiIiDWBAJyIi0gAGdCIiIg1gQCciItKABtZeAJE19HlkpmL76SFu0jG+P5ZJ+y62czB7DU55Qtrnkqe8r7MDddIx/t/J56srTn8UK7Zf93a2aL6d3001e4zssQWAxL0zLFoHUX3AgE73KOXAqJO03+pU6bNkBZLpnPPKpZ2qK6jh9VlGsoY6XZtsX9b/g4eoNvEtdyIiIg1gQCciItIAmwjoAQEB0Ol0lW6vvPKK4vYpKSmK2//+++91vHIiIiLbYBOfoe/btw/l5eXG+4cPH0bv3r0xbNgw1XHHjh1Do0aNjPebNm1aa2skIiKyZTYR0O8MxO+++y6CgoIQERGhOq5Zs2Zo3LhxLa6MiIiofrCJgH670tJSrFq1CrGxsdBV8c3Y0NBQXL9+He3bt8ebb76JyMhI1e1LSkpQUlJivF9UVFQjaybbFNVygrzTx7PuFkIW818y1+wxwZL2697O6D7wPcU+S9LjiGyNzQX0DRs2oKCgANHR0dJtfHx8sGTJEnTq1AklJSX47LPP0KtXL6SkpKB79+7ScfHx8Zg5U56jSveOSyENFdv1+fIxF4PN/+9SovJ3Q4mn8h+sF8LM3g0AIGOA+WMcLpp/TLo2V6R9pfnK+eZ+m+TzZXeVr0EHee6/zHWDZTnvRPWdzQX0ZcuWISoqCr6+vtJtgoODERz859/h4eHhyMzMxLx581QD+rRp0xAbG2u8X1RUhJYtW9bMwomIiKzIpgL62bNnsX37dnzzzTdmjw0LC8OqVatUt9Hr9dDr9ZYuj4iIyGbZRNpahYSEBDRr1gz9+/c3e2xaWhp8fHxqYVVERES2z2au0G/evImEhASMHj0aDRqYLmvatGnIysrCp59+CgBYuHAhAgIC0KFDB+OX6NatW4d169ZZY+lERERWZzMBffv27cjIyMDzzz9fqS87OxsZGRnG+6WlpZgyZQqysrLg7OyMDh06YPPmzXj88cfrcslEREQ2w2YCep8+fSCEcvGEFStWmNyfOnUqpk5lmgkREVEFnZBF0XtAUVER3N3dUVhYaPKLc1S/dH9COVe52Mve7LkK2sp/+0Atpe1KG/PTqxqeUP57umnUOemY9JMGs/ejZlqEcj7Z/MOPScc0b1Ig7Qt2z1VsD22YodgOAKuzOkv7zu1todh+w8P88910j/z50OSwPBVPJnHvdLPHkG3RWgywqS/FERERkWUY0ImIiDSAAZ2IiEgDGNCJiIg0gAGdiIhIAxjQiYiINMBm8tCJ1PR5ZJa804LqWsWSSmdq1FLTZClolsxXIknVAgCopGs5el43ew3xqcol2vp1+tXsuQBgx5m2iu3HmjSTjpnfeq18wtbKzfuKA6VDZMeklpJY7Okm7fNNvSztI7IlvEInIiLSAAZ0IiIiDWBAJyIi0gAGdCIiIg1gQCciItIABnQiIiINYNoa2Yw+j8xU6TU/zYyoNqk9XxP3zqjDlRDdwoBONkQetNOHyPOEGx9XrgB8IaxcOkaWN65WIvWGh7xPpsTT/DFqa1D7L1sKJ8V2tfz0wNY5iu1bD9wvHaM2X8+A44rtf2uaKh0zYt9Yad/kkO3SPhlZDr0sRx4AStBQ2ncpRLnPkpKrRLWJb7kTERFpAAM6ERGRBjCgExERaQADOhERkQYwoBMREWkAv+VOda7zXxcotlvwJXIiIvo/DOhU53SS7DRZepClHC7Kn96y0qWWlEEFLEtPk1Er06p2TLI+WTobAGShsWK7Wmpaab58PgQoN08+OUw6RJbqpmZ1VmdpX7B7rtnzqZGV2m1So3shunt8y52IiEgDGNCJiIg0gAGdiIhIAxjQiYiINIABnYiISAMY0ImIiDSAaWtUK3rbydOUnAc8YvZ8xZ7yp2pBW+W0ohse8vQvWZUxtFZZxPctpF2yVLOme+ylYy6EKberpaapHZOM2nxqKW0yailtxwqbKbZnXWosHTOi+X5p37z1gxTbWzxyTjrGEmrntfFx5cfwusG5RtdAdLd4hU5ERKQBDOhEREQawIBORESkAQzoREREGsCATkREpAEM6ERERBrAtDWqFbrOHaV9xV7KaUCy9DMAaHxcSPtKw64qtjuckFdvSz9pUGxXS8lylPbIXQgrl/bJKrupVVuzRE2nujVvXSDtk51XNWlX/KR9a0a+r9i+rzhQOmb+4ccU2yeHbDd7DAAUeyo/j5zzpEPw8PPKJYLV7Fsea/YYotvZxBV6XFwcdDqdyc1gUH9hSE1NRadOneDk5IRWrVph8eLFdbRaIiIi22MzV+gdOnTA9u1//gVtby//QY709HQ8/vjjGDt2LFatWoUff/wR48aNQ9OmTfHUU0/VxXKJiIhsis0E9AYNGlR5VV5h8eLF8PPzw8KFCwEA9913H/bv34958+YxoBMR0T3JJt5yB4ATJ07A19cXgYGBGDFiBE6fPi3ddvfu3ejTp49JW9++fbF//37cuHFDOq6kpARFRUUmNyIiIi2wiYDepUsXfPrpp9i2bRuWLl2KnJwcdO3aFfn5+Yrb5+TkwNvb26TN29sbZWVlyMuTf1MlPj4e7u7uxlvLli1r9DiIiIisxSYCelRUFJ566il07NgRjz32GDZv3gwAWLlypXSMTmf6jWghhGL77aZNm4bCwkLjLTMzswZWT0REZH028xn67VxdXdGxY0ecOHFCsd9gMCAnx7RaVm5uLho0aABPT0/pvHq9Hnq9vkbXei9Tq6imlrZGRJVFtZwg7SvLOi/tS7q5tjaWQ/WQTQb0kpISHD16FN26dVPsDw8Px3fffWfSlpiYiM6dO8PBwaEulkh3wTlPlpstz2wo9pS/89K8SYFyxyOSdgDn9iqXQlUrJ1qqkh+ulrctUyL529OSuQBA1+aKYrtQyceX6dX7oLRv64H7zZ7v9BNLpX3tfnzO7PlCG2ZI+2T55mq55paQ/Z4CABT2V/5tBMc95j8WRNVlE2+5T5kyBampqUhPT8fPP/+MoUOHoqioCKNHjwZw663yUaNGGbd/6aWXcPbsWcTGxuLo0aNYvnw5li1bhilTpljrEIiIiKzKJq7Qz507h2eeeQZ5eXlo2rQpwsLCsGfPHvj7+wMAsrOzkZHx51/kgYGB2LJlCyZNmoR///vf8PX1xQcffMCUNSIiumfZREBfvXq1av+KFSsqtUVERODgQfnbgkRERPcSm3jLnYiIiO4OAzoREZEGMKATEdVTus4h1l4C2RCb+Ayd7i1q6T4yTaPOSftkKWiyNC4A0Cv/CCHU/kuolSGVzadWClWWniZfmzzVDQBK8yUpdxaUT91xpq20T63ErCyFsNXGsdIx/Tr9Ku07VthMsV0tbU1GrXyqWgnX0BDlfamlwblvdpX0yMsA5/X2l/Y1OSx74OXz0b2HV+hEREQawIBORESkAQzoREREGsCATkREpAEM6ERERBrAgE5ERKQBTFsji6mVbez+xFxpn6zaWnZX+dOx+Hvl1DQAkBXELW0jHYLSMOWUNr1KNawbHvL5apJaappaSpsl65OloElT4KoQHJCr2J7l2Vg6RpaaVtPUUtPUrM7qrNiulgY378QgxXZLUxKbHFZut8++KC27+n3mv+QTkibxCp2IiEgDGNCJiIg0gAGdiIhIAxjQiYiINIABnYiISAMY0ImIiDSAaWtkMVm6DAAgVJ5mdjHY/CpjalXLZNW6fkh6SDpGVjlNqKQOyaqjAfL1NTwhHyNLU1Kv6iafT7YvWYoeIE9PUztWtSp2alXaLDGi+X7FdlkqGQAEuyunzv2taap0zL7iQGmf7Jjm7R0kHSM7R2qplGopk9cNzortTlB5wtI9h1foREREGsCATkREpAEM6ERERBrAgE5ERKQBDOhEREQawIBORESkAUxbI4uVZZ2X9l0cEWD2fGrVpprusZf27fBUTitSS/+SURujloJWV5XY1NL3/DYpt2e0kVdOk6WnqZ2HwCYF0r70kwbFdllVN0CeZgbI09Nk6WwA8LBzumK7WmqaWhrc6oeXKs8XIp9PJj51gLTPPV9I+2SVCANePyQd0+eRWZIegcS9M6TjqP7iFToREZEGMKATERFpAAM6ERGRBjCgExERaQADOhERkQYwoBMREWkAAzpZLOnmWmsvgYjMxJQ17dIJIeTJjxpXVFQEd3d3FBYWolGjRtZejqaolVYt91FOOL8UIi8feSGs/K7XdDtL8q/V8tDV8sPNnU8tH9+S3Hq1HH7ZeVUrn2rJGmQlbgH1kqvNVXLeZWQ56mlX/KRjQhtmSPssyYWff/gxxfaeAcelY44VNpP2lS9Uzu+XlSIGgMNzJ0n76BatxQBeoRMREWkAAzoREZEGMKATERFpAAM6ERGRBthEQI+Pj8fDDz8MNzc3NGvWDIMGDcKxY8dUx6SkpECn01W6/f7773W0aiIiItthEwE9NTUVr7zyCvbs2YOkpCSUlZWhT58+uHr1apVjjx07huzsbOOtTZs2dbBiIiIi22IT5VO3bt1qcj8hIQHNmjXDgQMH0L17d9WxzZo1Q+PGjWtxdWSJq6EtpH3FXsppVMWeOukYtfKb4oRyuluv3gelY7YeuF+xXS1dqzTsirSv4R7lNails8nS0xofl2eSXgiTdknPUUFbeTqgLKWtsL/8WJEvL8cqW4NaapoaWWnVvzVNlY6ZfHKYYvv81vLfTVhyIcLsNcxbP0g6ZsrgDYrtamVaZaVnAaCp5P8M0e1s4gr9ToWFhQAAD4+qi0yHhobCx8cHvXr1QnJysuq2JSUlKCoqMrkRERFpgc0FdCEEYmNj8eijjyIkJES6nY+PD5YsWYJ169bhm2++QXBwMHr16oWdO3dKx8THx8Pd3d14a9myZW0cAhERUZ2zibfcbxcTE4Nff/0Vu3btUt0uODgYwcHBxvvh4eHIzMzEvHnzpG/TT5s2DbGxscb7RUVFDOpERKQJNnWFPn78eGzcuBHJyclo0UL+GaxMWFgYTpw4Ie3X6/Vo1KiRyY2IiEgLbOIKXQiB8ePHY/369UhJSUFgYKBF86SlpcHHx6eGV0dERGT7bCKgv/LKK/jiiy/w7bffws3NDTk5OQAAd3d3ODs7A7j1dnlWVhY+/fRTAMDChQsREBCADh06oLS0FKtWrcK6deuwbt06qx0HERGRtdhEQP/4448BAD169DBpT0hIQHR0NAAgOzsbGRl/VkQqLS3FlClTkJWVBWdnZ3To0AGbN2/G448/XlfLJhWuaeekfcW9/c2ez1GSFgbIU8NkqWmAPL3KUZICBwBXPFTStaQ9crKqZcWe8v+WqhXfIFmfSnU0WRqc2vGopfZNjtiu2K6WriVLC1MjS00D5OlfkyEfo7YGaSW23tIh0mpratXj1FIzC/srt/sPk1exayNJi/T5Sf582LnxH9I+sn02EdCrU8F1xYoVJvenTp2KqVOn1tKKiIiI6heb+lIcERERWYYBnYiISAMY0ImIiDSAAZ2IiEgDGNCJiIg0wCa+5U7ao1ZtzTmvXLFdLV3LOV+eCXFFUjFXtXKaJMXLkvQzQF45TW0NsrQ12VyAeiU253zlilwXwpTPNwAEts5RbFer/KWWBidL11Izovl+aZ8s3U0tzWxEhPJ8lqwNkKc/TovYJB+TL0mZbCLfj1pK24Xvlf8/nV0rT80MnHNZvjOJ3nby1L6km/JqdWQbGtjb//kioNPpUFYm/89KREREtqmBn58fACAvLw/Xrl2z8nKIiIjIEnbp6elIT0/H0KFDrb0WIiIishC/FEdERKQBxm/s/P3vf8egQYOsuBQiIiKylDGgh4aGIjQ01JprISIiIgsxbY0sFtVygrxTJW2NiIhqHgM61bmLwcpPO7Vc84K2OmmfrOykLNdcbcx4SflPAFj0ySBpn6yEq1q50xsesnZ56mhBW/P/y6qV5Ty3V/kPLweV+Vo8Ii+NK8tfV1tDfOoAaZ8sT/5YYTPpGFm5054Bx6Vj1OaTrWHe+kHSMdMGb1BsVysjK3ssAKBFlPI5v7KquXTMmVevKrYHzJH/PysZ8Ii0j2yfXVBQkLXXQERERHfJLj093dprICIiortkd/PmTWuvgYiIiO4S89CJiIg0gAGdiIhIAxjQiYiINIBpa1Qrir2US3kC8vQ0tdQ0fb7KzvIbKjaXSlLJAECcUB4Tny9PoYLKfDJqpVBlpVXV0tbU+mTzlebL0/fUSqHKZF1qbPaYySHydEC1VC5ZmVRZaprafGplWtXS1mTU0vdkpVrVHotAlflkKW0tnpWPKZCMOfPqFekYoZJmSbbP7u2337b2GoiIiOgu2cXFxVl7DURERHSX7JYvX27tNRAREdFdshs9erS110BERER3id9yJyIi0gAGdCIiIg1gjgJZ7MJj/tDJM82kmhxWTpsp9nSTjpFVMwPk6VpqFb7EReW0NdlcAKBro5buozyfWpqZrBKbrApbVWT7Uqv4JjuvaucBKql4snMuS+MCgOZNCqR9svQ0tflkKXJq6XGWkKXUAfI0s369D0rHbD1wv7RPNk5tjDQlUSV1rqFaeijZPLuMDHk+JxEREdUPdq1atbL2GoiIiOgu2XXr1s3aayAiIqK7ZJecnGztNRAREdFd4rfciYiINIABnYiISAMavPDCC1i2bJm110E2LKrlBMX2pgAyRwQo9nkck6drHR/jrNje8IS5K1MnSyUDLEzx8pCn+zhUf1l/zmdByphaGpw0TU/lPMj21cvC9KppEZsU29XSzNTSv2Tj1Kq3WUJtDbJKbD8kPSQdIzt/audOLc1Sti9L0+Bk1P7fku2zW7FihbXXQERERHfJbseOHdZeAxEREd0lu4iICGuvweijjz5CYGAgnJyc0KlTJ/z3v/9V3T41NRWdOnWCk5MTWrVqhcWLF9fRSomIiGyLzXwpbs2aNZg4cSLeeOMNpKWloVu3boiKioLsl+zS09Px+OOPo1u3bkhLS8Prr7+Ov//971i3bl0dr5yIiMj6bCagL1iwAC+88ALGjBmD++67DwsXLkTLli3x8ccfK26/ePFi+Pn5YeHChbjvvvswZswYPP/885g3b14dr5yIiMj6bCKgl5aW4sCBA+jTp49Je58+ffDTTz8pjtm9e3el7fv27Yv9+/fjxo0btbZWIiIiW2S3c+dOa68BeXl5KC8vh7e3t0m7t7c3cnJyFMfk5OQobl9WVoa8vDzFMSUlJSgqKjK5ERERaUGDyMhIlJeXW3sdAADdHbU4hRCV2qraXqm9Qnx8PGbOnHmXq6Tb+cxXfgcle3JX6Ri/Tcq5rhkD5DmwTffYS/sK2iq361VKQcpKlJaolAZVI9uXJaVQLVk3AJRKymKWqpSeleU+W5LDDFhWolRWIhUAEKDcnHbFTzpkxxnlJ4Ra7rrafLIc9eDe8tx12RrUcs3VysgG9z6u2K6WCy/7bQS155dTzmV5J9k8u1GjRll7DfDy8oK9vX2lq/Hc3NxKV+EVDAaD4vYNGjSAp6fyq/K0adNQWFhovGVmZtbMARAREVmZXUJCgrXXAEdHR3Tq1AlJSUkm7UlJSejaVflKLzw8vNL2iYmJ6Ny5MxwclP821ev1aNSokcmNiIhIC2ziS3EAEBsbi08++QTLly/H0aNHMWnSJGRkZOCll14CcOvq+vZ3E1566SWcPXsWsbGxOHr0KJYvX45ly5ZhypQp1joEIiIiq5H/aHQdGz58OPLz8zFr1ixkZ2cjJCQEW7Zsgb+/PwAgOzvbJCc9MDAQW7ZswaRJk/Dvf/8bvr6++OCDD/DUU09Z6xCIiIisxmYCOgCMGzcO48aNU+xT+s35iIgIHDwoL05ARER0r7CZt9yJiIjIcg2CgoJw6tQpa6+DbNjV0BbyTkmfWhnG7K7KbwzJ0tkAoNhLvgRZSVF9vvwNKFnZULXypGqlVUvDriiP2SMvXSornyprr2oNauPqStalxortailj8akDpH2BrZV/h0KNLP3LklQ3tfnUSq6qpaBZQpaepvZ8laV6Njms/FwFgMS9081bGNkUu/T0dGuvgYiIiO6S3c2bN629BiIiIrpL/AydiIhIAxjQiYiINMAY0K9fv85iJURERPWUMaC//PLL8PCwoJIEERERWZ1JDkxFtTK69/S2Gybtc+rcUdp3PsLN7H01Pq78PJOls1VFlsplSfqXJdXRAHmlM0fLppNSOyZZKp6ujTxNSZxQTquTVeoCgF695T/mJKvSppYyplaBTJYadqywmdlj1FLTegYoVzNT25daRbpv+i1SbB+xb6x0jJoWj5xTbL/wvUpKKZT/n9lnq5Rbo3qtwfPPPw8A2LVrl5WXQkRERJZqcPtPqqrVHiciIiLb1SA5OdnaayAiIqK71CAiIsLaayAiIqK7xDx0IiIiDWBAJyIi0gCbqodO1qNTSU27FCKvGCbjnC9PgXTOK5f0KFeHAoALYbIx6lXValKJp7xPljJmSeqc2n7UqmtJ+yQpdQAAyRjZ8QDq6V+yFDRLqplVNc5cllZAk6XBBXeSV1sbsnW8YrssnQ0AllyQf/y5a7VytTW154pvqnK6YlnWefkgqtd4hU5ERKQBDOhEREQawIBORESkAQzoREREGsCATkREpAEM6ERERBrAgE5ERKQBzEO/x8jKpJYMeMSi+XxTLyu2q5VVvRAm65Hnmtc0Wf6uLDccUM8pb7pHOYdefqzyNaiVO1XNKa9BlpRIBYBpEZsU2+NTB0jHjAjZL+1bjc7SPhlZ3nhowwzpmPmHHzN7P2olV/t1+lWxfdSiSWbvB5A/V3x+kj8nrxuclTv6P4yd3021aB1k2+xOnjxp7TUQERHRXbILDg5Gr169sH79emuvhYiIiCxk5+Pjg+TkZAwdOhRdunTBuXPnrL0mIiIiMpPduXPnsGvXLkRFRWHfvn0YP175N4iJiIjIdtkBQNeuXbFp0yY88sgjSE5OtvaaiIiIyEwmaWsdOnTA5cvK31omIiIi22WSozNmzBh0797dWmuhOiArk1rsJS9dWuypk/ZdGKOcGtPwhHwNaqU5ZfT58j5ZOpklKWhqpVjV5itWKWMpIyt32nCPvFytUNmPLN2t1IJUt2OFzaR9shKpALA6SznNLLB1jtljACDrUmPFdrWUMdna1dLW1Mj2pZa+p3a8MmqlUBsfl5cjlnHKKZb0mD8X1Q8mr1Dh4eEIDw+31lqIiIjIQvylOCIiIg1gQCciItIABnQiIiINYEAnIiLSAAZ0IiIiDbB6tbUzZ87g7bffxo4dO5CTkwNfX188++yzeOONN+Do6CgdFx0djZUrV5q0denSBXv27KntJddr0gpMKjyOySs6yZ5CpWEqFcNOKKdlydK4APV0MhnnfHl6Tomn8nxqFdXU0tZkKUdqKXqy41VLX1I7R5ZUYpOlV8nSxapiSZrZjjNtpX2ycWppdbI1LPp+kHTM5DEbpH1qaXUyF75vodiu9vzyUy5UBwBwTVP+Se6rocr7AYDEvdPlE5ImWT2g//7777h58yb+85//oHXr1jh8+DDGjh2Lq1evYt68eapj+/Xrh4SEBON9tT8AiIiItMzqAb1fv37o16+f8X6rVq1w7NgxfPzxx1UGdL1eD4PBUNtLJCIisnk2+Rl6YWEhPDw8qtwuJSUFzZo1Q9u2bTF27Fjk5ubWweqIiIhsj9Wv0O906tQpLFq0CPPnz1fdLioqCsOGDYO/vz/S09Px1ltvoWfPnjhw4AD0er3imJKSEpSUlBjvFxUV1ejaiYiIrKXWrtDj4uKg0+lUb/v37zcZc/78efTr1w/Dhg3DmDFjVOcfPnw4+vfvj5CQEAwcOBDff/89jh8/js2bN0vHxMfHw93d3Xhr2bJljRwrERGRtdXaFXpMTAxGjBihuk1AQIDx3+fPn0dkZCTCw8OxZMkSs/fn4+MDf39/nDghrwoybdo0xMbGGu8XFRUxqBMRkSbUWkD38vKCl5dXtbbNyspCZGQkOnXqhISEBNjZmf/GQX5+PjIzM+Hj4yPdRq/XS9+O15LedsPknQMeUWxWragWJp9OVlXNUaVimCx1x5IqbGoK2sqPqaZJK6eppLrdkHxNRC01zZJzJKvCZqnJIdulffMPP2b2fM2bFNzFaiqTpro1kae6qa1bVq1OrepcyUXl57/a8wGQP+5lWecV2/VZ55F0c63KnHQvsfqX4s6fP48ePXqgZcuWmDdvHi5cuICcnBzk5Jjmx7Zr1w7r168HAFy5cgVTpkzB7t27cebMGaSkpGDgwIHw8vLC4MGDrXEYREREVmX1L8UlJibi5MmTOHnyJFq0MP2RBCH+/GGQY8eOobCwEABgb2+PQ4cO4dNPP0VBQQF8fHwQGRmJNWvWwM3NrU7XT0REZAusHtCjo6MRHR1d5Xa3B3dnZ2ds27atFldFRERUv1j9LXciIiK6ewzoREREGsCATkREpAEM6ERERBpg9S/FUd2SlWHM7hogHaNW1tF+ovJ86SfNL5qjli/d9JEC+UALSlU23WOv2K6Wc28JS8qxqo1RLZ8qEaiS523J46RWTlSWA65WIlUtD11WJlVt3elQ7psWIX8iz79kfv682m8tyEr3Njksf46L/Yekfcw1p+rgFToREZEGMKATERFpAAM6ERGRBjCgExERaQADOhERkQYwoBMREWkA09Y0qCA6XN4nKSmqz5fPlzFA3td0VXPFdsf+V6VjZOk+spKTAHAO8r7GkhSh0jB5eUvAVbFVLUUvY4D5ZU0tSTOraVmXGkv7ZCVAZelngHoKWrB7brXXVZ0xavsy1ydznpT2OaqUD3aUtHsckz+2TjnFkh6BxL0zpOOI7gav0ImIiDSAAZ2IiEgDGNCJiIg0gAGdiIhIAxjQiYiINIABnYiISAOYtqZBahWdij3dzJ5PlpIFABfCJKk7+U7yCcOU13dDZYysMtmtNZQrtjuckKe6ydatth9AnqYkS/u74SGfTVZVTe18q6XByVLQSlXOq2xMTVOrqLb1wP3SPtnjIUslAwDf1MuK7dcNztIxTQ7L0szk4/Sb9krHJLI6GlkBr9CJiIg0gAGdiIhIAxjQiYiINIABnYiISAMY0ImIiDSAAZ2IiEgDmLZGAOQpVEBVqVwWPIU8lZvV0rVKJGPUND6uXIUNAC6EmT+fGtn6LElBU6t8p5YGJ6OWmiarqnassJnZY9TGjWi+Xzpm3t5B0j7ZefX5Sf58tc9WPoGu2cD3mf+SjiOq73iFTkREpAEM6ERERBrAgE5ERKQBDOhEREQawIBORESkAQzoREREGsCATkREpAHMQ9egSyHysqEex5Tzd53z7aVjCvvLy7G2kJTFzLrUWDrGcY/y+tRy4dXyuWWKPXVmj7E0H182Tm2MLKfc0jU0bV2g2B7snisdI8sbV3v81OaTjYs/OUA6xkHaI/8tAacceblT5prTvYpX6ERERBrAgE5ERKQBDOhEREQaYBMBPSAgADqdzuT22muvqY4RQiAuLg6+vr5wdnZGjx498Ntvv9XRiomIiGyLTQR0AJg1axays7ONtzfffFN1+/feew8LFizAhx9+iH379sFgMKB37964fPlyHa2YiIjIdthMQHdzc4PBYDDeGjaUf1NbCIGFCxfijTfewJAhQxASEoKVK1fi2rVr+OKLL+pw1URERLZBJ4SQ15isIwEBASgpKUFpaSlatmyJYcOG4R//+AccHR0Vtz99+jSCgoJw8OBBhIaGGtuffPJJNG7cGCtXrqzWfouKiuDu7o7CwkI0atSoRo7FFkS1nCDtO/lKgGK7rJQnAPhtMn8NGfIsJYuolQCVpcGVhsnT7SxJnbMkbc2SdDu1xyKwdY60L/2kwewxNU2WtiZOyP9AVytz65xXrtiu37RXOibp5lppH9HttBYDbCIPfcKECXjooYfQpEkT7N27F9OmTUN6ejo++eQTxe1zcm69QHl7e5u0e3t74+zZs9L9lJSUoKSkxHi/qKioBlZPRERkfbX2lntcXFylL7rdedu/fz8AYNKkSYiIiMD999+PMWPGYPHixVi2bBny8/NV96HTmf5wiBCiUtvt4uPj4e7ubry1bNny7g+UiIjIBtTaFXpMTAxGjBihuk1AQIBie1hYGADg5MmT8PT0rNRvMNx6azEnJwc+Pj7G9tzc3EpX7bebNm0aYmNjjfeLiooY1ImISBNqLaB7eXnBy8vLorFpaWkAYBKsbxcYGAiDwYCkpCTjZ+ilpaVITU3FnDlzpPPq9Xro9XqL1kRERGTLrP4t9927d+P999/HL7/8gvT0dHz11Vd48cUX8cQTT8DPz8+4Xbt27bB+/XoAt95qnzhxImbPno3169fj8OHDiI6OhouLC0aOHGmtQyEiIrIaq38pTq/XY82aNZg5cyZKSkrg7++PsWPHYurUqSbbHTt2DIWFhcb7U6dORXFxMcaNG4dLly6hS5cuSExMhJubW10fAhERkdXZRNqatWgtZaFCn0dmSfuuG5wV2y8Gy/+2U0v/Ks13Umy3JF3LUnrJdydtIW1NjWw+tXU3l1S3A+QpY7LHCJCnA04O2S4dM//wY9K+ngHHFdt3rX5IOsY3Vf5jUIl7p0v7iO6W1mKA1d9yJyIiorvHgE5ERKQBDOhEREQawIBORESkAQzoREREGsCATkREpAFWz0OnmmefLf8NfNds5fZiL3/pGJ9hv0r7zszuqtiuVkHrQphyBS01ailjsjQvWWoaAJRU/kVhAOrpdmrpZA0tSIOTraGFSmqarKIaAPTrpPw47UBb6RgZtdQ0tcppW/PvV2xvmi9/PlwKkc9HRNXHK3QiIiINYEAnIiLSAAZ0IiIiDWBAJyIi0gAGdCIiIg1gQCciItIABnQiIiINYB66Bn2f+a8anS/E831pX+A3yqUvz7yqk45putlVsd2S/HRL3fBQzg9XLZHqoVKG1II1TBm8QbF90SeD5PtRyYXfccb8fHNZudMfkuTlTtXIz588D73JYfkxEVH18QqdiIhIAxjQiYiINIABnYiISAMY0ImIiDSAAZ2IiEgDGNCJiIg0gGlrVCWPY/ISoOlD3BTbfVbKx2R3VU5pa7rHXjrmQph8PuQrp5NZkkqmViJVbb7xEdsV29XKkManDlDuUCm5qrYGWVnTXr0PSsfI0tP08gq8qnxTldMY1Yj9hyzbGRGZ4BU6ERGRBjCgExERaQADOhERkQYwoBMREWkAAzoREZEGMKATERFpgE4IIS+DpHFFRUVwd3dHYWEhGjVqZO3l1Dsh/5BXYbNEiae8T1YdDZBX+FKbT0bXRp62JksLA+Trc7hofmao2hpKJSl6aixZg1ramnO+/CXDK+msYntNVwAkqglaiwG8QiciItIABnQiIiINYEAnIiLSAAZ0IiIiDWBAJyIi0gAGdCIiIg1gtTWymMfvNwCdcuU0NReDlZ92Pj/JU9OccoqlfZdClNPJrrQpl46Rpbo5H3eVjnHOk68vQ1I4zaJ0O8jT46Ayn4xaCtoVSWU3fb5lLw1MTyOyHl6hExERaYDVA3pKSgp0Op3ibd++fdJx0dHRlbYPCwurw5UTERHZDqu/5d61a1dkZ2ebtL311lvYvn07OnfurDq2X79+SEhIMN53dHSslTUSERHZOqsHdEdHRxgMBuP9GzduYOPGjYiJiYGuis9n9Xq9yVgiIqJ7ldXfcr/Txo0bkZeXh+jo6Cq3TUlJQbNmzdC2bVuMHTsWubm5tb9AIiIiG2T1K/Q7LVu2DH379kXLli1Vt4uKisKwYcPg7++P9PR0vPXWW+jZsycOHDgAvV6vOKakpAQlJSXG+0VFRTW6diIiImuptYAeFxeHmTNnqm6zb98+k8/Jz507h23btuGrr76qcv7hw4cb/x0SEoLOnTvD398fmzdvxpAhQxTHxMfHV7kmMlMNFuvTb9or7+zcUdrVeMVuxfbcsEekY3xTLyu2Xzc4S8e4pp2T9rXNUS7tpjafU47yGtKHuEnH+G2Sdklld5X3yeYr9jK/ohoRWVetBfSYmBiMGDFCdZuAgACT+wkJCfD09MQTTzxh9v58fHzg7++PEydOSLeZNm0aYmNjjfeLioqqfCeA5HZ+N7VG5+s9/6cane/s3/4h7evzyawa3RcRkbXVWkD38vKCl5dXtbcXQiAhIQGjRo2Cg4OD2fvLz89HZmYmfHx8pNvo9Xrp2/FERET1mc18KW7Hjh1IT0/HCy+8oNjfrl07rF+/HgBw5coVTJkyBbt378aZM2eQkpKCgQMHwsvLC4MHD67LZRMREdkEm/lS3LJly9C1a1fcd999iv3Hjh1DYWEhAMDe3h6HDh3Cp59+ioKCAvj4+CAyMhJr1qyBm5v880ciIiKtspmA/sUXX6j2i9u+fOXs7Ixt27bV9pKIiIjqDZt5y52IiIgsx4BORESkATohajCRuJ4pKiqCu7s7CgsL0ahRI2svh4iI6pDWYgCv0ImIiDSAAZ2IiEgDGNCJiIg0gAGdiIhIAxjQiYiINIABnYiISAMY0ImIiDSAAZ2IiEgDGNCJiIg0gAGdiIhIAxjQiYiINIABnYiISAMY0ImIiDSAAZ2IiEgDGNCJiIg0gAGdiIhIAxjQiYiINIABnYiISAMY0ImIiDSAAZ2IiEgDGNCJiIg0gAGdiIhIAxjQiYiINIABnYiISAMY0ImIiDSAAZ2IiEgDGNCJiIg0gAGdiIhIAxjQiYiINIABnYiISAMY0ImIiDSAAZ2IiEgDGNCJiIg0gAGdiIhIA2o9oL/zzjvo2rUrXFxc0LhxY8VtMjIyMHDgQLi6usLLywt///vfUVpaqjpvSUkJxo8fDy8vL7i6uuKJJ57AuXPnauEIiIiIbF+tB/TS0lIMGzYML7/8smJ/eXk5+vfvj6tXr2LXrl1YvXo11q1bh8mTJ6vOO3HiRKxfvx6rV6/Grl27cOXKFQwYMADl5eW1cRhEREQ2TSeEEHWxoxUrVmDixIkoKCgwaf/+++8xYMAAZGZmwtfXFwCwevVqREdHIzc3F40aNao0V2FhIZo2bYrPPvsMw4cPBwCcP38eLVu2xJYtW9C3b99qramoqAju7u4oLCxU3A8REWmX1mKA1T9D3717N0JCQozBHAD69u2LkpISHDhwQHHMgQMHcOPGDfTp08fY5uvri5CQEPz000+1vmYiIiJb08DaC8jJyYG3t7dJW5MmTeDo6IicnBzpGEdHRzRp0sSk3dvbWzoGuPW5e0lJifF+YWEhgFt/pRER0b2l4rW/jt6ornUWBfS4uDjMnDlTdZt9+/ahc+fO1ZpPp9NVahNCKLarqWpMfHy84rpbtmxp1n6IiEg78vPz4e7ubu1l3DWLAnpMTAxGjBihuk1AQEC15jIYDPj5559N2i5duoQbN25UunK/fUxpaSkuXbpkcpWem5uLrl27Svc1bdo0xMbGGu8XFBTA398fGRkZ9fLBLCoqQsuWLZGZmVkvP//h+q2L67e++n4M9X39hYWF8PPzg4eHh7WXUiMsCuheXl7w8vKqkQWEh4fjnXfeQXZ2Nnx8fAAAiYmJ0Ov16NSpk+KYTp06wcHBAUlJSXj66acBANnZ2Th8+DDee+896b70ej30en2ldnd393r5ZKzQqFEjrt+KuH7rqu/rB+r/MdT39dvZWf3rZDWi1o8iIyMDv/zyCzIyMlBeXo5ffvkFv/zyC65cuQIA6NOnD9q3b4/nnnsOaWlp+OGHHzBlyhSMHTvW+ATJyspCu3btsHfvXgC3AvALL7yAyZMn44cffkBaWhqeffZZdOzYEY899lhtHxIREZHNqfUvxU2fPh0rV6403g8NDQUAJCcno0ePHrC3t8fmzZsxbtw4/L//9//g7OyMkSNHYt68ecYxN27cwLFjx3Dt2jVj2/vvv48GDRrg6aefRnFxMXr16oUVK1bA3t6+tg+JiIjI5tR6QF+xYgVWrFihuo2fnx82bdok7Q8ICKj0LUQnJycsWrQIixYtsnhter0eM2bMUHwbvj7g+q2L67eu+r5+oP4fA9dvW+rsh2WIiIio9mjjmwBERET3OAZ0IiIiDWBAJyIi0gAGdCIiIg3QdEDXUi32lJQU6HQ6xdu+ffuk46KjoyttHxYWVqtrVRMQEFBpPa+99prqGCEE4uLi4OvrC2dnZ/To0QO//fZbHa34T2fOnMELL7yAwMBAODs7IygoCDNmzKjy+WLNx+Cjjz5CYGAgnJyc0KlTJ/z3v/9V3T41NRWdOnWCk5MTWrVqhcWLF9fJOu8UHx+Phx9+GG5ubmjWrBkGDRqEY8eOqY6R/R/5/fff62jVf4qLi6u0DoPBoDrGVs59BaX/qzqdDq+88ori9tY+/zt37sTAgQPh6+sLnU6HDRs2mPRb+jqybt06tG/fHnq9Hu3bt8f69etr6QhqgNCw6dOniwULFojY2Fjh7u5eqb+srEyEhISIyMhIcfDgQZGUlCR8fX1FTEyM6rwvvfSSaN68uUhKShIHDx4UkZGR4oEHHhBlZWW1dCRClJSUiOzsbJPbmDFjREBAgLh586Z03OjRo0W/fv1MxuXn59faOqvi7+8vZs2aZbKey5cvq4559913hZubm1i3bp04dOiQGD58uPDx8RFFRUV1tOpbvv/+exEdHS22bdsmTp06Jb799lvRrFkzMXnyZNVx1noMVq9eLRwcHMTSpUvFkSNHxIQJE4Srq6s4e/as4vanT58WLi4uYsKECeLIkSNi6dKlwsHBQXz99de1vtY79e3bVyQkJIjDhw+LX375RfTv31/4+fmJK1euSMckJycLAOLYsWMm57o2/1/KzJgxQ3To0MFkHbm5udLtbencV8jNzTVZf1JSkgAgkpOTFbe39vnfsmWLeOONN8S6desEALF+/XqTfkteR3766Sdhb28vZs+eLY4ePSpmz54tGjRoIPbs2VPLR2MZTQf0CgkJCYoBfcuWLcLOzk5kZWUZ27788kuh1+tFYWGh4lwFBQXCwcFBrF692tiWlZUl7OzsxNatW2t87TKlpaWiWbNmYtasWarbjR49Wjz55JN1s6hq8Pf3F++//361t79586YwGAzi3XffNbZdv35duLu7i8WLF9fCCs3z3nvvicDAQNVtrPUYPPLII+Kll14yaWvXrp147bXXFLefOnWqaNeunUnbiy++KMLCwmptjdWVm5srAIjU1FTpNhUB5dKlS3W3MIkZM2aIBx54oNrb2/K5rzBhwgQRFBQkvYCwpfN/Z0C39HXk6aefFv369TNp69u3rxgxYkSNr7kmaPot96rU51rsGzduRF5eHqKjo6vcNiUlBc2aNUPbtm0xduxY5Obm1v4CVcyZMweenp548MEH8c4776i+ZZ2eno6cnByT863X6xEREVGn51umsLCwWoUd6voxKC0txYEDB0zOG3Drp5Zl52337t2Vtu/bty/279+PGzdu1Npaq6Oi1HF1znVoaCh8fHzQq1cvJCcn1/bSpE6cOAFfX18EBgZixIgROH36tHRbWz73wK3n06pVq/D8889XWQXTVs7/7Sx9HZE9Lrbw2qPkng7odVmLvaYtW7YMffv2rbL0a1RUFD7//HPs2LED8+fPx759+9CzZ0+TuvB1acKECVi9ejWSk5MRExODhQsXYty4cdLtK87pnY9TXZ9vJadOncKiRYvw0ksvqW5njccgLy8P5eXlZp03pf8P3t7eKCsrQ15eXq2ttSpCCMTGxuLRRx9FSEiIdDsfHx8sWbIE69atwzfffIPg4GD06tULO3furMPV3tKlSxd8+umn2LZtG5YuXYqcnBx07doV+fn5itvb6rmvsGHDBhQUFKheQNjS+b+Tpa8jssfF2q89MrX+0681rb7WYpex5HjOnTuHbdu24auvvqpy/uHDhxv/HRISgs6dO8Pf3x+bN2/GkCFDzF6vEnOOYdKkSca2+++/H02aNMHQoUONV+0yd55bS8+3Ekseg/Pnz6Nfv34YNmwYxowZozq2Lh4DGXPPm9L2Su11KSYmBr/++it27dqlul1wcDCCg4ON98PDw5GZmYl58+ahe/futb1ME1FRUcZ/d+zYEeHh4QgKCsLKlStNSjjfzhbPfYVly5YhKirK5N3MO9nS+Zex5HWkNl97alq9C+j1tRa7jCXHk5CQAE9PTzzxxBNm78/Hxwf+/v44ceKE2WNl7uYxqfi298mTJxUDesU3g3NycozldYFb51v2GJnL3PWfP38ekZGRCA8Px5IlS8zeX208Bnfy8vKCvb19pSsJtfNmMBgUt2/QoIHqH1u1afz48di4cSN27tyJFi1amD0+LCwMq1atqoWVmcfV1RUdO3aUPua2eO4rnD17Ftu3b8c333xj9lhbOf+Wvo7IHpeaeu2pafUuoNfXWuwy5h6PEAIJCQkYNWoUHBwczN5ffn4+MjMzTZ7Ud+tuHpO0tDQAkK4nMDAQBoMBSUlJxkp9paWlSE1NxZw5cyxb8B3MWX9WVhYiIyPRqVMnJCQkWFRHuTYegzs5OjqiU6dOSEpKwuDBg43tSUlJePLJJxXHhIeH47vvvjNpS0xMROfOnS16rt0NIQTGjx+P9evXIyUlBYGBgRbNk5aWVqvnubpKSkpw9OhRdOvWTbHfls79nRISEtCsWTP079/f7LG2cv4tfR0JDw9HUlKSyTuLiYmJFl281QkrfRmvTpw9e1akpaWJmTNnioYNG4q0tDSRlpZmTJOqSFvr1auXOHjwoNi+fbto0aKFSdrauXPnRHBwsPj555+NbS+99JJo0aKF2L59uzh48KDo2bNnraetVdi+fbsAII4cOaLYHxwcLL755hshhBCXL18WkydPFj/99JNIT08XycnJIjw8XDRv3rzOU76EuJUCsmDBApGWliZOnz4t1qxZI3x9fcUTTzwhPQYhbqWbuLu7i2+++UYcOnRIPPPMM1ZJW8vKyhKtW7cWPXv2FOfOnTNJzZGt35qPQUXa2rJly8SRI0fExIkThaurqzhz5owQQojXXntNPPfcc8btK1KnJk2aJI4cOSKWLVtmtdSpl19+Wbi7u4uUlBST83zt2jXjNneu//333xfr168Xx48fF4cPHxavvfaaACDWrVtX5+ufPHmySElJEadPnxZ79uwRAwYMEG5ubvXi3N+uvLxc+Pn5iVdffbVSn62d/8uXLxtf4wEYX2sq0jSr8zry3HPPmWSB/Pjjj8Le3l68++674ujRo+Ldd99l2pq1jB49WgCodLs9j/Ls2bOif//+wtnZWXh4eIiYmBhx/fp1Y396enqlMcXFxSImJkZ4eHgIZ2dnMWDAAJGRkVEnx/TMM8+Irl27SvsBiISEBCGEENeuXRN9+vQRTZs2FQ4ODsLPz0+MHj26ztZ6pwMHDoguXboId3d34eTkJIKDg8WMGTPE1atXTba7/RiEuJVyMmPGDGEwGIRerxfdu3cXhw4dquPV30p/VHo+3fl3sS09Bv/+97+Fv7+/cHR0FA899JBJ2tfo0aNFRESEyfYpKSkiNDRUODo6ioCAAPHxxx/XyTrvJDvPtz8v7lz/nDlzRFBQkHBychJNmjQRjz76qNi8eXPdL14IY46zg4OD8PX1FUOGDBG//fabsd+Wz/3ttm3bZswtv5Otnf+KtLk7b6NHjxZCVO91JCIiwrh9hbVr14rg4GDh4OAg2rVrZ5U/EKuL5VOJiIg04J5OWyMiItIKBnQiIiINYEAnIiLSAAZ0IiIiDWBAJyIi0gAGdCIiIg1gQCciItIABnSieiglJQU6nc7kVlBQYO1lmWXDhg2VjoGILFfvfsudiP4UFBSERx99FMCt32+vT/z8/DB69GgAwNdff42rV69aeUVE9RsDOlE99uijj2LFihXWXoZFHnroIePaU1JSGNCJ7hLfciciItIABnSiOjJ8+HDodDq8+uqrlfp+//13uLi4oFGjRjh9+nSN7E+n0yEgIABlZWV4++230bp1azg7O+O+++5DQkKCcbsdO3YgMjISjRo1QpMmTTBq1Cjk5+dXmq9Hjx7Q6XQ4c+YM1qxZg4cffhguLi5o3rw5pk6ditLSUgDAqVOn8Mwzz6BZs2ZwcXFBz5498euvv9bIMRGRHAM6UR1ZvHgxWrRogXnz5iElJcXYfuPGDYwcORLFxcX44IMP0KpVqxrd79NPP425c+ciKCgI3bt3R3p6Op5//nkkJCTg66+/Rt++fXH58mX07t0brq6u+OyzzzBo0CDI6jb961//wrPPPgsHBwf07dsXpaWlmDt3LsaOHYsTJ04gLCwMe/fuRbdu3dC6dWskJycjMjISf/zxR40eFxHdwcrV3ojuKTt27BB2dnaiZcuW4tKlS0IIIaZOnSoAiKFDh1Z7nopSkXeWerwd/q98ZEhIiMjMzDRZAwDh4+MjPD09TWpuFxYWig4dOggAYseOHSbzRURECADCzc1N7Ny509ienZ0tvL29hU6nE/fdd5+IjY0V5eXlQohbJStHjRolAIjp06dL1+rv71+pDC0RmYdX6ER1KDIyEpMnT0ZmZibGjRuHlJQUzJs3D76+vvjPf/5TK/v84IMP0KJFC5M1PPTQQ8jOzkb//v3x1FNPGfsaNWqEv/3tbwCA1NRUxfkmTZqEbt26Ge8bDAb85S9/gRACpaWlmDNnDuzsbr206HQ6TJ48WXU+IqoZDOhEdeyf//wnQkND8eWXX+LJJ5+EEAIrV66Eh4dHje/L0dERERERldor3tbv3bt3pb6goCAAQHZ2tuKcSmMq5uvRowcaNDBNnqlqPiKqGQzoRHXM0dHRmK5VVFSEmJgYPPbYY7WyL4PBYLxavp2rqysAoHnz5tK+kpISxTnVxlgyHxHVDAZ0IitYs2aN8d9paWm4efNmreynql9fs+TX2dTG8NfeiKyHAZ2ojv33v//Fu+++C19fX/Ts2RO7du3Cu+++a+1lEVE9x4BOVIeKiorw3HPPQQiBhIQErFq1Cp6enoiLi8P+/futvTwiqscY0Inq0Lhx43D27FmMHz8effr0gY+PD5YuXYobN27gL3/5C65du2btJRJRPcWATlRHVq9ejc8//xwdOnTAnDlzjO2DBw/GX//6Vxw/fhyxsbFWXCER1WcM6ER1IDMzEy+//DIcHR2xatUqODk5mfRX/ELcf/7zH2zcuNFKqySi+kwnhOT3HYnIZqWkpCAyMhKjR4+ut9XWbhcQEICzZ89Kf26WiKrG8qlE9diuXbsQHR0NAPjoo4/g4uJi3QWZ4eDBg/jggw8AAHl5eVZeDVH9x4BOVI+dOnUKp06dAgAsXLiwXgX0jIwMrFy50trLINIMvuVORESkAfxSHBERkQYwoBMREWkAAzoREZEGMKATERFpAAM6ERGRBjCgExERacD/B6dLWlXgvM5wAAAAAElFTkSuQmCC' width=500.0/>\n",
       "            </div>\n",
       "        "
      ],
      "text/plain": [
       "Canvas(toolbar=Toolbar(toolitems=[('Home', 'Reset original view', 'home', 'home'), ('Back', 'Back to previous …"
      ]
     },
     "metadata": {},
     "output_type": "display_data"
    }
   ],
   "source": [
    "fig, axs = plt.subplots(figsize=(5, 5))\n",
    "init_frame = 0\n",
    "num_bins = 42\n",
    "beam = xta.particles[init_frame]\n",
    "\n",
    "data, x, y, _ = axs.hist2d(beam.x*10**3, beam.y*10**3, num_bins, cmin=1)\n",
    "axs.set_title(f\"|B|={xta.input['solenoid']['maxb(1)']} T, q={dist.input['total_charge']['value']} nC \\n z={xta.stat('mean_z')[init_frame]} m\")\n",
    "axs.set_xlabel('x [mm]', size=15)\n",
    "axs.set_ylabel('y [mm]', size=15)\n",
    "axs.set(xlim =[left_xaxis, right_xaxis], ylim = [left_yaxis, right_yaxis])\n",
    "\n",
    "frameCount = axs.text(right_xaxis-1, right_yaxis+0.4, f'Frame: {init_frame}')\n",
    "pix = np.flipud(data.T)\n",
    "im = plt.imshow(pix, extent=[x[0], x[-1], y[0], y[-1]])\n",
    "#plt.close()"
   ]
  },
  {
   "cell_type": "markdown",
   "metadata": {},
   "source": [
    "### Animating the histogram"
   ]
  },
  {
   "cell_type": "code",
<<<<<<< HEAD
   "execution_count": 140,
=======
   "execution_count": 122,
>>>>>>> centeringFix
   "metadata": {},
   "outputs": [],
   "source": [
    "def animate(i):\n",
    "    plt.cla()\n",
    "    beam = xta.particles[i]\n",
    "    X = beam.x*10**3\n",
    "    Y = beam.y*10**3\n",
    "    data, x, y, _ = plt.hist2d(X, Y, num_bins, cmin=1)\n",
    "    axs.set_title(f\"|B|={xta.input['solenoid']['maxb(1)']} T, q={dist.input['total_charge']['value']} nC \\n Mean z={round(mean(beam.z), 3)} m\")\n",
    "    axs.set(xlim =[left_xaxis, right_xaxis], ylim = [left_yaxis, right_yaxis])\n",
    "    axs.set_xlabel('x [mm]', size=15)\n",
    "    axs.set_ylabel('y [mm]', size=15)\n",
    "    frameCount = axs.text(right_xaxis-1, right_yaxis+0.4, f'Frame: {i}')\n",
    "    pix = np.flipud(data.T)\n",
    "    im.set_data(pix)\n",
    "    im.set_extent([x[0], x[-1], y[0], y[-1]])\n",
    "    \n",
    "num = len(xta.particles)\n",
    "playback_speed = 6 #In fps\n",
    "anim = animation.FuncAnimation(fig, animate, np.arange(1,num), repeat_delay = 2500, repeat = False)\n",
    "\n",
    "#Save animation\n",
    "writervideo = animation.FFMpegWriter(fps=playback_speed)\n",
    "anim.save(f'{plots_path}/animations/{image_name}.mp4', writer=writervideo)"
   ]
  },
  {
   "cell_type": "markdown",
   "metadata": {},
   "source": [
    "# Characterizing Beam Rotation"
   ]
  },
  {
   "cell_type": "markdown",
   "metadata": {},
   "source": [
    "## Track movement of particles"
   ]
  },
  {
   "cell_type": "code",
<<<<<<< HEAD
   "execution_count": 141,
=======
   "execution_count": 123,
>>>>>>> centeringFix
   "metadata": {},
   "outputs": [],
   "source": [
    "def rotate_particles(frame):\n",
    "    #initial and final particle groups\n",
    "    init_part = xta.particles[0]\n",
    "    fin_part = xta.particles[frame]\n",
    "\n",
    "    #Picking a particle to track\n",
    "    particleIndex = 100\n",
    "    iPos = np.array([float(init_part[particleIndex].x), float(init_part[particleIndex].y)])\n",
    "    iMag = np.sqrt(iPos.dot(iPos))\n",
    "    fPos = np.array([float(fin_part[particleIndex].x), float(fin_part[particleIndex].y)])\n",
    "    fMag = np.sqrt(fPos.dot(fPos))\n",
    "    #This is negative since the rotation is clockwise\n",
    "    diffAngle = -np.arccos((np.dot(iPos, fPos))/(iMag*fMag))\n",
    "\n",
    "\n",
    "    #print(f'Initial Position: {iPos}')\n",
    "    #print(f'Final Position: {fPos}')\n",
    "    #print(f'Change in Angle: {round(math.degrees(diffAngle), 3)}')#Rotation transformation matrix\n",
    "    R = np.array(((np.cos(diffAngle), -np.sin(diffAngle)), (np.sin(diffAngle), np.cos(diffAngle))))\n",
    "\n",
    "    #2d Array of x and y points\n",
    "    vect = np.vstack((fin_part.x*10**3, fin_part.y*10**3))\n",
    "\n",
    "    #Applying rotation\n",
    "    rotVect = R.dot(vect)\n",
    "    return R.dot(vect)\n",
    "rotVect = rotate_particles(-1)"
   ]
  },
  {
   "cell_type": "markdown",
   "metadata": {},
   "source": [
    "## Plotting initial vs. final with rotation adjustment"
   ]
  },
  {
   "cell_type": "code",
<<<<<<< HEAD
   "execution_count": 142,
=======
   "execution_count": 124,
>>>>>>> centeringFix
   "metadata": {},
   "outputs": [
    {
     "data": {
      "application/vnd.jupyter.widget-view+json": {
<<<<<<< HEAD
       "model_id": "c5de8c6f4c9b450cad7218a62d01e25b",
=======
       "model_id": "95f2bbca955e4effb3e4f98f01658a34",
>>>>>>> centeringFix
       "version_major": 2,
       "version_minor": 0
      },
      "image/png": "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",
      "text/html": [
       "\n",
       "            <div style=\"display: inline-block;\">\n",
       "                <div class=\"jupyter-widgets widget-label\" style=\"text-align: center;\">\n",
       "                    Figure\n",
       "                </div>\n",
       "                <img src='data:image/png;base64,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' width=850.0/>\n",
       "            </div>\n",
       "        "
      ],
      "text/plain": [
       "Canvas(toolbar=Toolbar(toolitems=[('Home', 'Reset original view', 'home', 'home'), ('Back', 'Back to previous …"
      ]
     },
     "metadata": {},
     "output_type": "display_data"
    }
   ],
   "source": [
    "fig, plots = plt.subplots(1, 2, figsize=(8.5, 4.25), sharex=True, sharey=True)\n",
    "#fig.subplots_adjust(wspace=0.1)\n",
    "\n",
    "#Final plot\n",
    "finalxy = plt.subplot(1,2,2)\n",
    "fin, x, y, _ = finalxy.hist2d(rotVect[0], rotVect[1], num_bins, facecolor='blue', cmin=1)\n",
    "plots[1].set(title='Rotated Final Shape', xlabel='x [mm]')\n",
    "\n",
    "#Initial Plot\n",
    "initialxy = plt.subplot(1,2,1)\n",
    "init, _, _, _ = plt.hist2d(xtapart.x*10**3, xtapart.y*10**3, num_bins, facecolor='blue', cmin=1)\n",
    "plots[0].set(title='Initial Shape', xlabel='x [mm]', ylabel='y [mm]', xlim=[left_xaxis, right_xaxis], ylim=[left_yaxis, right_yaxis])\n",
    "\n",
    "plt.suptitle(f\"Initial vs. Final Beam Shape\\n |B|={xta.input['solenoid']['maxb(1)']} T, q={dist.input['total_charge']['value']} nC\")\n",
    "\n",
    "plt.savefig(f'{plots_path}/rotate_compare_dist/{image_name}.jpg', dpi=300, bbox_inches='tight')\n",
    "#plt.close()"
   ]
  },
  {
   "cell_type": "markdown",
   "metadata": {},
   "source": [
    "## Saving Subplots"
   ]
  },
  {
   "cell_type": "code",
<<<<<<< HEAD
   "execution_count": 143,
=======
   "execution_count": 81,
>>>>>>> centeringFix
   "metadata": {},
   "outputs": [],
   "source": [
    "sub_bins = 42\n",
    "fig, ax = plt.subplots(figsize=(5, 5), frameon=False)\n",
    "plt.hist2d(xtapart.x*10**3, xtapart.y*10**3, sub_bins, facecolor='blue', cmin=1)\n",
    "ax.set(xlim=[left_xaxis, right_xaxis], ylim=[left_yaxis, right_yaxis])\n",
    "fig.savefig(f'{plots_path}/compare_img/init_{image_name}.jpg', bbox_inches='tight', pad_inches=0)\n",
    "\n",
    "plt.close()\n",
    "\n",
    "fig, ax = plt.subplots(figsize=(5, 5), frameon=False)\n",
    "plt.hist2d(rotVect[0], rotVect[1], sub_bins, facecolor='blue', cmin=1)\n",
    "ax.set(xlim=[left_xaxis, right_xaxis], ylim=[left_yaxis, right_yaxis])\n",
    "fig.savefig(f'{plots_path}/compare_img/final_{image_name}.jpg', bbox_inches='tight', pad_inches=0)\n",
    "plt.close()"
   ]
  },
  {
   "cell_type": "markdown",
   "metadata": {},
   "source": [
    "# Statistics Plots Boiler Plate"
   ]
  },
  {
   "cell_type": "code",
<<<<<<< HEAD
   "execution_count": 144,
=======
   "execution_count": 82,
>>>>>>> centeringFix
   "metadata": {},
   "outputs": [],
   "source": [
    "#Initial, final, energy, beam size, bunch length, \n",
    "def boiler_plotplate(**kwargs):\n",
    "    optionsDict = {'Initial': True, 'Final': True, 'Verbose':False, 'Rotate': True, 'BeamSize': True, 'BunchLength': True, 'FrameCount': True, 'xy_lim': [-4, 4]}\n",
    "    plotsDict = {'Energy': True}\n",
    "    for option, value in kwargs.items():\n",
    "        try:\n",
    "            optionsDict[option] = value\n",
    "            plotsDict[option] = value\n",
    "        except:\n",
    "            pass\n",
    "    \n",
    "    if optionsDict['Verbose']:\n",
    "        print('Options: ', optionsDict)\n",
    "        print('Plots: ', plotsDict)\n",
    "    \n",
    "    if not optionsDict['Initial'] and not optionsDict['Final']:\n",
    "        print(\"Nothing to plot, enable initial or final distributions\")\n",
    "        return\n",
    "    num_rows = 2 if optionsDict['Initial'] and optionsDict['Final'] else 1\n",
    "\n",
    "    #Determinining number of columns based on number of plots\n",
    "    num_cols = 1\n",
    "    for plot in plotsDict:\n",
    "        if plotsDict[plot]:\n",
    "            num_cols += 1\n",
    "    \n",
    "    #Generating the plots\n",
    "    fig, plots = plt.subplots(num_rows, num_cols, figsize = (4*num_cols, 4*num_rows), sharex=True, sharey=True)\n",
    "\n",
    "    #Final Plots\n",
    "    if optionsDict['Final']:\n",
    "        finalxy = plt.subplot(num_rows, num_cols, num_cols+1)\n",
    "        plt.hist2d(rotVect[0], rotVect[1], num_bins, facecolor='blue', cmin=1) if optionsDict['Rotate'] else plt.hist2d(xta.particles[-1].x*10**3, xta.particles[-1].y*10**3, num_bins, facecolor='blue', cmin=1)\n",
    "        plt.title('Final Distribution')\n",
    "        for plot in plotsDict.items():\n",
    "            print()\n",
    "    #Initial Plots\n",
    "    if optionsDict['Initial']:\n",
    "        initalxy = plt.subplot(num_rows, num_cols, 1)\n",
    "        plt.hist2d(xta.particles[0].x*10**3, xta.particles[0].y*10**3, num_bins, facecolor='blue', cmin=1)\n",
    "        plt.title('Initial Distribution')\n",
    "        plt.xlim(optionsDict['xy_lim'][0], optionsDict['xy_lim'][1])\n",
    "        plt.ylim(optionsDict['xy_lim'][0], optionsDict['xy_lim'][1])\n",
    "\n",
    "#boiler_plotplate()"
   ]
  },
  {
   "cell_type": "markdown",
   "metadata": {},
   "source": [
    "# Comparitive Image Analysis"
   ]
  },
  {
   "cell_type": "markdown",
   "metadata": {},
   "source": [
    "### Image Subtraction"
   ]
  },
  {
   "cell_type": "code",
<<<<<<< HEAD
   "execution_count": 145,
=======
   "execution_count": 83,
>>>>>>> centeringFix
   "metadata": {},
   "outputs": [],
   "source": [
    "def greyscale(image):\n",
    "    return np.dot(image[...,:3], [0.33, 0.33, 0.33])\n",
    "\n",
    "def subtractImg():\n",
    "    initIm = greyscale(cv2.imread(f'{plots_path}/compare_img/init_{image_name}.jpg'))\n",
    "    finIm = greyscale(cv2.imread(f'{plots_path}/compare_img/final_{image_name}.jpg'))\n",
    "    diff = np.absolute(initIm-finIm)\n",
    "    cv2.imwrite(f'{plots_path}/compare_img/diff_{image_name}.jpg', diff)\n",
    "\n",
    "subtractImg()"
   ]
  },
  {
   "cell_type": "markdown",
   "metadata": {},
   "source": [
    "# B Field Scanning"
   ]
  },
  {
   "cell_type": "markdown",
   "metadata": {},
   "source": [
    "### Function that scores image likeness"
   ]
  },
  {
   "cell_type": "code",
<<<<<<< HEAD
   "execution_count": 146,
=======
   "execution_count": 84,
>>>>>>> centeringFix
   "metadata": {},
   "outputs": [],
   "source": [
    "def score(img):\n",
    "    sumPixels = img.sum()\n",
    "    squareSum = np.square(img).sum()\n",
    "    return sumPixels"
   ]
  },
  {
   "cell_type": "markdown",
   "metadata": {},
   "source": [
    "### Does a single simulation with specific B value (Histogram Image Subtraction)"
   ]
  },
  {
   "cell_type": "code",
<<<<<<< HEAD
   "execution_count": 147,
=======
   "execution_count": 85,
>>>>>>> centeringFix
   "metadata": {},
   "outputs": [],
   "source": [
    "def run(B):\n",
    "    xta.input['solenoid']['maxb(1)'] = B\n",
    "    xta.run()\n",
    "    rotVect = rotate_particles(-1)\n",
    "    fig, ax = plt.subplots(figsize=(5, 5), frameon=False)\n",
    "    plt.hist2d(rotVect[0], rotVect[1], sub_bins, facecolor='blue', cmin=1)\n",
    "    ax.set(xlim=[left_xaxis, right_xaxis], ylim=[left_yaxis, right_yaxis])\n",
    "    fig.savefig(f'{plots_path}/compare_img/final_{image_name}.jpg', bbox_inches='tight', pad_inches=0)\n",
    "    plt.close()\n",
    "    subtractImg()\n",
    "    subImg = plt.imread(f'{plots_path}/compare_img/diff_{image_name}.jpg')\n",
    "    return score(subImg)"
   ]
  },
  {
   "cell_type": "markdown",
   "metadata": {},
   "source": [
    "### Single B scan with greyscale subtraction, specific interval"
   ]
  },
  {
   "cell_type": "code",
<<<<<<< HEAD
   "execution_count": 148,
=======
   "execution_count": 86,
>>>>>>> centeringFix
   "metadata": {},
   "outputs": [],
   "source": [
    "def b_scan(min, max, scans, precision, verbose):\n",
    "    if scans <= 3:\n",
    "        raise ValueError(\"There must be more than 3 scans!\")\n",
    "    b_vals = np.linspace(min, max, scans)\n",
    "    if verbose:\n",
    "        print('Scanning B values: ', b_vals)\n",
    "    opt_B = min\n",
    "    opt_score = 1e9\n",
    "    for B in b_vals:\n",
    "        if verbose:\n",
    "            print(f'\\nScanning {B} T')\n",
    "        if B in scoreDict.keys():\n",
    "            score = scoreDict[B]\n",
    "            if verbose:\n",
    "                print('Found in Dictionary!\\n')\n",
    "        else:\n",
    "            score = run(B)\n",
    "            scoreDict[B] = score\n",
    "        if verbose:\n",
    "            print(f'\\r\\tScore: {score}')\n",
    "        if score > opt_score:\n",
    "            if B > opt_B:\n",
    "                max_B = B\n",
    "                break\n",
    "            continue\n",
    "        elif b_vals[-1] == B:\n",
    "            raise ValueError(\"Upper limit is optimal limit, increase upper limit for proper scan!\")\n",
    "        min_B = opt_B\n",
    "        opt_B = B\n",
    "        opt_score = score\n",
    "        opt_fin_img = plt.imread(f'{plots_path}/compare_img/final_{image_name}.jpg')\n",
    "        opt_diff_img = plt.imread(f'{plots_path}/compare_img/diff_{image_name}.jpg')\n",
    "        if verbose:\n",
    "            print(f'\\r\\tOptimal B is now {B} T')\n",
    "\n",
    "    #Cleanup plots\n",
    "    plt.imsave(f'{plots_path}/compare_img/final_{image_name}.jpg', opt_fin_img)\n",
    "    cv2.imwrite(f'{plots_path}/compare_img/diff_{image_name}.jpg', opt_diff_img)\n",
    "    if verbose:\n",
    "        print(f'\\n The optimal B value is in between ({min_B} T, {max_B} T)')\n",
    "    return opt_B, min_B, max_B\n",
    "\n",
    "#Dictionary of previously scanned values\n",
    "scoreDict = {}\n",
    "\n",
    "#opt_B, min_B, max_B = b_scan(0.425, 0.43, 3)"
   ]
  },
  {
   "cell_type": "markdown",
   "metadata": {},
   "source": [
    "### Continuous B scan, optimized to specificed decimal precision"
   ]
  },
  {
   "cell_type": "code",
<<<<<<< HEAD
   "execution_count": 149,
   "metadata": {},
   "outputs": [],
=======
   "execution_count": 87,
   "metadata": {},
   "outputs": [
    {
     "data": {
      "text/plain": [
       "0.41390625000000003"
      ]
     },
     "execution_count": 87,
     "metadata": {},
     "output_type": "execute_result"
    }
   ],
>>>>>>> centeringFix
   "source": [
    "def cont_scan(init_domain, scans_per_iteration, precision, verbose):\n",
    "    min, max = init_domain\n",
    "    while round(min, precision) != round(max, precision):\n",
    "        if verbose:\n",
    "            print(f'\\n Starting new scan on interval ({min} T, {max} T)')\n",
    "        opt_B, min, max = b_scan(min, max, scans_per_iteration, precision, verbose)\n",
    "    if verbose:\n",
    "        print('\\n Continuous Scan Complete!')\n",
    "        print(f'\\r\\tOptimal B: {round(opt_B, precision)} (Precision: {precision})')\n",
    "    return opt_B\n",
    "    \n",
    "#cont_scan([0.38, 0.45], 5, 2, verbose=False)"
   ]
  },
  {
   "cell_type": "markdown",
   "metadata": {},
   "source": [
    "### X Projection Comparisons"
   ]
  },
  {
   "cell_type": "code",
<<<<<<< HEAD
   "execution_count": 150,
=======
   "execution_count": 88,
>>>>>>> centeringFix
   "metadata": {},
   "outputs": [],
   "source": [
    "num_bins = 100\n",
    "\n",
    "def gaus(data):\n",
    "    avg = np.mean(data)\n",
    "    var = np.var(data)\n",
    "    gausx = np.linspace(left_xaxis, right_xaxis, 1000)\n",
    "    gausy = 1.0/np.sqrt(2*np.pi*var)*np.exp(-0.5*(gausx-avg)**2/var)\n",
    "    return gausx, gausy, round(avg, 3), round(var, 3)\n",
    "\n",
    "fig, axes = plt.subplots(1, 2, sharex=True, sharey=True)\n",
    "\n",
    "#Final X\n",
    "plt.subplot(1, 2, 2)\n",
    "data = xta.particles[-1].x*10**3\n",
    "finalx = plt.hist(data, num_bins, density=True, facecolor='green')\n",
    "gausx, gausy, avg, var = gaus(data)\n",
    "plt.plot(gausx, gausy, 'k--')\n",
    "plt.title('Final x')\n",
    "plt.xlabel(f'$\\mu$ = {avg} mm\\t$\\sigma$ = {var} mm')\n",
    "\n",
    "#Initial X\n",
    "plt.subplot(1, 2, 1)\n",
    "data = xta.particles[0].x*10**3\n",
    "initx = plt.hist(data, num_bins, density=True)\n",
    "gausx, gausy, avg, var = gaus(data)\n",
    "plt.plot(gausx, gausy, 'k--')\n",
    "plt.title('Initial x')\n",
    "plt.xlim(left_xaxis, right_xaxis)\n",
    "plt.xlabel(f'$\\mu$ = {avg} mm\\t$\\sigma$ = {var} mm')\n",
    "\n",
    "plt.suptitle('Normazlized $\\Delta$x')\n",
    "plt.close()"
   ]
  },
  {
   "cell_type": "code",
<<<<<<< HEAD
   "execution_count": 151,
=======
   "execution_count": 89,
>>>>>>> centeringFix
   "metadata": {},
   "outputs": [
    {
     "data": {
      "application/vnd.jupyter.widget-view+json": {
<<<<<<< HEAD
       "model_id": "ddc32a4e25414da9b15332e4adb777c3",
=======
       "model_id": "d050494c94f846af881cc043dc3f347c",
>>>>>>> centeringFix
       "version_major": 2,
       "version_minor": 0
      },
      "image/png": "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",
      "text/html": [
       "\n",
       "            <div style=\"display: inline-block;\">\n",
       "                <div class=\"jupyter-widgets widget-label\" style=\"text-align: center;\">\n",
       "                    Figure\n",
       "                </div>\n",
       "                <img src='data:image/png;base64,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' width=640.0/>\n",
       "            </div>\n",
       "        "
      ],
      "text/plain": [
       "Canvas(toolbar=Toolbar(toolitems=[('Home', 'Reset original view', 'home', 'home'), ('Back', 'Back to previous …"
      ]
     },
     "metadata": {},
     "output_type": "display_data"
    }
   ],
   "source": [
    "plt.figure()\n",
    "plt.title('Initial and Final X Projections')\n",
    "plt.hist(xta.particles[0].x*10**3, num_bins, facecolor='blue', label='Initial X', alpha=1)\n",
    "plt.hist(xta.particles[-1].x*10**3, num_bins, facecolor='green', label='Final X', alpha=0.75)\n",
    "plt.xlim(left_xaxis, right_xaxis)\n",
    "plt.xlabel('X [mm]')\n",
    "plt.legend()\n",
    "plt.show()\n",
    "plt.close()"
   ]
  },
  {
   "cell_type": "markdown",
   "metadata": {},
   "source": [
    "### Y Projection Comparisons"
   ]
  },
  {
   "cell_type": "code",
<<<<<<< HEAD
   "execution_count": 152,
=======
   "execution_count": 90,
>>>>>>> centeringFix
   "metadata": {},
   "outputs": [],
   "source": [
    "fig, axes = plt.subplots(1, 2, sharex=True, sharey=True)\n",
    "\n",
    "plt.subplot(1, 2, 2)\n",
    "data = xta.particles[-1].y*10**3\n",
    "finalx = plt.hist(data, num_bins, density=True, facecolor='green', orientation='horizontal')\n",
    "gausy, gausx, avg, var = gaus(data)\n",
    "plt.plot(gausx, gausy, 'k--')\n",
    "plt.title('Final y')\n",
    "plt.ylabel(f'$\\mu$ = {avg} mm\\t$\\sigma$ = {var} mm')\n",
    "\n",
    "plt.subplot(1, 2, 1)\n",
    "data = xta.particles[0].y*10**3\n",
    "initx = plt.hist(data, num_bins, density=True, orientation='horizontal')\n",
    "gausy, gausx, avg, var = gaus(data)\n",
    "plt.plot(gausx, gausy, 'k--')\n",
    "plt.title('Initial y')\n",
    "plt.ylim(left_yaxis, right_yaxis)\n",
    "plt.ylabel(f'$\\mu$ = {avg} mm\\t$\\sigma$ = {var} mm')\n",
    "\n",
    "plt.suptitle('Normazlized $\\Delta$y')\n",
    "plt.close()"
   ]
  },
  {
   "cell_type": "code",
<<<<<<< HEAD
   "execution_count": 153,
=======
   "execution_count": 91,
>>>>>>> centeringFix
   "metadata": {},
   "outputs": [
    {
     "data": {
      "application/vnd.jupyter.widget-view+json": {
<<<<<<< HEAD
       "model_id": "81cde6b9e50a4a48b83cc5917a3736b6",
=======
       "model_id": "c96ad4a64e46479c9d927f9f7bb8a102",
>>>>>>> centeringFix
       "version_major": 2,
       "version_minor": 0
      },
      "image/png": "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",
      "text/html": [
       "\n",
       "            <div style=\"display: inline-block;\">\n",
       "                <div class=\"jupyter-widgets widget-label\" style=\"text-align: center;\">\n",
       "                    Figure\n",
       "                </div>\n",
       "                <img src='data:image/png;base64,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' width=640.0/>\n",
       "            </div>\n",
       "        "
      ],
      "text/plain": [
       "Canvas(toolbar=Toolbar(toolitems=[('Home', 'Reset original view', 'home', 'home'), ('Back', 'Back to previous …"
      ]
     },
     "metadata": {},
     "output_type": "display_data"
    }
   ],
   "source": [
    "plt.figure()\n",
    "plt.title('Initial and Final Y Projections')\n",
    "plt.hist(xta.particles[0].y*10**3, num_bins, facecolor='blue', label='Initial X', alpha=1, orientation='horizontal')\n",
    "plt.hist(xta.particles[-1].y*10**3, num_bins, facecolor='green', label='Final X', alpha=0.75, orientation='horizontal')\n",
    "plt.ylim(left_yaxis, right_yaxis)\n",
    "plt.xlabel('Y [mm]')\n",
    "plt.legend()\n",
    "plt.show()\n",
    "plt.close()"
   ]
  }
 ],
 "metadata": {
  "kernelspec": {
   "display_name": "Python 3 (ipykernel)",
   "language": "python",
   "name": "python3"
  },
  "language_info": {
   "codemirror_mode": {
    "name": "ipython",
    "version": 3
   },
   "file_extension": ".py",
   "mimetype": "text/x-python",
   "name": "python",
   "nbconvert_exporter": "python",
   "pygments_lexer": "ipython3",
   "version": "3.8.13"
  },
  "vscode": {
   "interpreter": {
    "hash": "6c58c64d71ff03ed58a5a60eb518d74c326f0baf896481c551d83d64162bf060"
   }
  }
 },
 "nbformat": 4,
 "nbformat_minor": 4
}
