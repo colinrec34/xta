{
 "cells": [
  {
   "cell_type": "markdown",
   "metadata": {},
   "source": [
    "# VCC Laser Beam Shaping Simulation Example"
   ]
  },
  {
   "cell_type": "markdown",
   "metadata": {},
   "source": [
    "## Initial imports/function definitions"
   ]
  },
  {
   "cell_type": "code",
   "execution_count": 46,
   "metadata": {},
   "outputs": [],
   "source": [
    "%matplotlib widget\n",
    "import os, sys\n",
    "import numpy as np\n",
    "import matplotlib.pyplot as plt\n",
    "#plt.style.use('petrstyle.txt')\n",
    "from matplotlib.ticker import NullFormatter\n",
    "import glob, h5py\n",
    "import scipy.io\n",
    "import pandas as pd\n",
    "import pydicom as dicom\n",
    "import cv2\n",
    "\n",
    "from astra import Astra#, template_dir\n",
    "from astra.plot import plot_fieldmaps, plot_stats, plot_stats_with_layout\n",
    "import distgen\n",
    "from distgen import Generator\n",
    "from distgen.writers import *\n",
    "from pmd_beamphysics import ParticleGroup\n",
    "from pmd_beamphysics.plot import marginal_plot\n",
    "\n",
    "#slice plots\n",
    "# from h5py import File\n",
    "# from pmd_beamphysics.interfaces import opal\n",
    "# from pmd_beamphysics.plot import slice_plot\n",
    "# from pmd_beamphysics.plot import marginal_plot, density_plot"
   ]
  },
  {
   "cell_type": "code",
   "execution_count": 47,
   "metadata": {},
   "outputs": [],
   "source": [
    "def parse_opal_emitted_dist(filename, names=['x', 'px','y','py','t','pz']):\n",
    "    '''Read in particle distribution used \n",
    "    in OPAL-T simulation. Used to describe the \n",
    "    beam distribution as it leaves the cathode.'''\n",
    "    dist = {}\n",
    "    data = np.loadtxt(filename, skiprows=1)\n",
    "    for i,name in enumerate(names):\n",
    "        dist[name] = data[:,i]\n",
    "    return dist\n",
    "def parse_astra_dist(filename, header=['x', 'y', 'z', 'px','py', 'pz', 't', 'Q', 'ptype', 'flag']):\n",
    "    '''\n",
    "    Read in initial particle distribution used \n",
    "    in ASTRA simulation. Used to describe the \n",
    "    beam distribution as it leaves the cathode.\n",
    "   \n",
    "    t     = time in ns\n",
    "    Q     = macro charge\n",
    "    ptype = particle type (electron: 1)\n",
    "    flag  = particle location (cathode: -1)\n",
    "    '''\n",
    "    #print(filename)\n",
    "    data = pd.read_csv(filename, delim_whitespace=True, names=header)\n",
    "    #print(data)\n",
    "    #only return non traj probe particles at cathodeprint(astradist['z'])\n",
    "    dist = data[data.flag == -1]\n",
    "    return dist #dist"
   ]
  },
  {
   "cell_type": "code",
   "execution_count": 48,
   "metadata": {},
   "outputs": [],
   "source": [
    "def make_tri(n, xmin, xmax, x):\n",
    "\n",
    "    half = int(n/2)\n",
    "    yr  = np.zeros(half*2)\n",
    "    #step 1\n",
    "    nr = int(n)\n",
    "    xr = np.random.rand(nr)\n",
    "\n",
    "    for j in range(0,nr):\n",
    "        #step 3\n",
    "        if j < half:\n",
    "            yr[j] = (1- np.sqrt(1-xr[j]))*(xmax-xmin)  \n",
    "        elif j >= half:\n",
    "        #step 4 \n",
    "            yr[j] = (-1 + np.sqrt(1-xr[j]))*(xmax-xmin) \n",
    "\n",
    "    #showplot(xr, yr)\n",
    "    for k in range(0,len(x)):\n",
    "        #print(y[k])\n",
    "        if (-yr[k]/8 <= x[k] <= yr[k]/8):\n",
    "            pass\n",
    "            #x[k]=0\n",
    "        else:\n",
    "            #print(x[k])\n",
    "            x[k]=0\n",
    "            #pass\n",
    "\n",
    "    #showplot(xr,x)\n",
    "    return x, xr"
   ]
  },
  {
   "cell_type": "markdown",
   "metadata": {},
   "source": [
    "### Distgen file generation"
   ]
  },
  {
   "cell_type": "code",
   "execution_count": 49,
   "metadata": {},
   "outputs": [],
   "source": [
    "# From Chris: https://github.com/slaclab/lcls-lattice/tree/master/distgen/models/cu_inj/vcc_image\n",
    "def write_distgen_xy_dist(filename, image, resolution, resolution_units='m'):\n",
    "    \"\"\"\n",
    "    Writes image data in distgen's xy_dist format\n",
    "    \n",
    "    Returns the absolute path to the file written\n",
    "    \n",
    "    \"\"\"\n",
    "    \n",
    "    # Get width of each dimension\n",
    "    widths = resolution * np.array(image.shape)\n",
    "    \n",
    "    # Form header\n",
    "    header = f\"\"\"x {widths[1]} {widths[1]/2} [{resolution_units}]\n",
    "y {widths[0]} {widths[0]/2}  [{resolution_units}]\"\"\"\n",
    "    \n",
    "    # Save with the correct orientation\n",
    "    np.savetxt(filename, np.flip(image, axis=0), header=header, comments='')\n",
    "    \n",
    "    return os.path.abspath(filename)"
   ]
  },
  {
   "cell_type": "markdown",
   "metadata": {},
   "source": [
    "### Setting the path of the ASTRA_BIN"
   ]
  },
  {
   "cell_type": "code",
   "execution_count": 50,
   "metadata": {},
   "outputs": [],
   "source": [
    "#Possible generalization for environment dependency path\n",
    "os.environ['ASTRA_BIN'] = os.getenv('ASTRA_BIN')\n",
    "#print(os.getenv('ASTRA_BIN'))"
   ]
  },
  {
   "cell_type": "code",
   "execution_count": 51,
   "metadata": {},
   "outputs": [],
   "source": [
    "#Edit this line to match your path if the above cell doesn't work\n",
    "#%env ASTRA_BIN=/Users/colinrecker/Desktop/SLACForks/Astra"
   ]
  },
  {
   "cell_type": "markdown",
   "metadata": {},
   "source": [
    "## Loading Laser Image"
   ]
  },
  {
   "cell_type": "markdown",
   "metadata": {},
   "source": [
    "### Initializing the laser image"
   ]
  },
  {
   "cell_type": "code",
   "execution_count": 52,
   "metadata": {},
   "outputs": [],
   "source": [
    "#Loads and returns reshaped laser image based on index\n",
    "def laser_load(index):\n",
    "    mat = scipy.io.loadmat(vcc[index])\n",
    "    #Scraping Name of File\n",
    "    global laser_name\n",
    "    laser_name = str(mat['data'][0][0][0][0])\n",
    "\n",
    "    #Image Reshaping\n",
    "    arr = mat['data']\n",
    "    dim = arr.shape[0]\n",
    "    #print(dim)\n",
    "    xy = int(np.sqrt(dim))\n",
    "    nrow = xy\n",
    "    ncol = xy\n",
    "    return arr.reshape(nrow, ncol)[0][0][1], xy"
   ]
  },
  {
   "cell_type": "code",
   "execution_count": 53,
   "metadata": {},
   "outputs": [],
   "source": [
    "#xta repo path\n",
    "xta_path = '/Volumes/GoogleDrive/My Drive/Colin/xta'\n",
    "os.chdir(xta_path)\n",
    "\n",
    "#sim data path\n",
    "sim_path = '/Volumes/GoogleDrive/My Drive/Colin/Simulations'\n",
    "\n",
    "#Loads all example laser images into list\n",
    "vcc = glob.glob(f'{sim_path}/data/laser_mat_images/*.mat')\n",
    "\n",
    "#defining tumor scan\n",
    "image_name = 'field1'\n",
    "dcm_path = f'{sim_path}/{image_name}/{image_name}.dcm'\n",
    "\n",
    "#path to plots\n",
    "plots_path = f'{sim_path}/{image_name}/plots'\n",
    "data_path = f'{sim_path}/{image_name}/data'"
   ]
  },
  {
   "cell_type": "markdown",
   "metadata": {},
   "source": [
    "### Plotting Laser Image"
   ]
  },
  {
   "cell_type": "code",
   "execution_count": 54,
   "metadata": {},
   "outputs": [],
   "source": [
    "#print(os.getcwd())\n",
    "IMAGE, xy = laser_load(0) #Index of first vcc image\n",
    "plt.figure()\n",
    "plt.imshow(IMAGE)#, extent=[0,1,0,1])\n",
    "plt.ylabel('Pixel', size=20)\n",
    "plt.xlabel('Pixel', size=20)\n",
    "plt.savefig(f'{plots_path}/laser_images/{laser_name}.jpg', dpi=300, bbox_inches='tight')\n",
    "plt.close()"
   ]
  },
  {
   "cell_type": "markdown",
   "metadata": {},
   "source": [
    "### Generating associated .txt file for distgen"
   ]
  },
  {
   "cell_type": "code",
   "execution_count": 55,
   "metadata": {},
   "outputs": [],
   "source": [
    "FOUT = write_distgen_xy_dist(f'astra/astra-inputs/{laser_name}.txt', IMAGE, xy, resolution_units='um')"
   ]
  },
  {
   "cell_type": "markdown",
   "metadata": {},
   "source": [
    "# Generating electron distribution with tumor image"
   ]
  },
  {
   "cell_type": "code",
   "execution_count": 56,
   "metadata": {},
   "outputs": [],
   "source": [
    "left_xaxis, right_xaxis= -7, 7\n",
    "left_yaxis , right_yaxis = -7, 7"
   ]
  },
  {
   "cell_type": "markdown",
   "metadata": {},
   "source": [
    "## Centering Image"
   ]
  },
  {
   "cell_type": "code",
   "execution_count": 58,
   "metadata": {},
   "outputs": [
    {
     "name": "stdout",
     "output_type": "stream",
     "text": [
      "/Volumes/GoogleDrive/.shortcut-targets-by-id/1T0iozAjdCih-x9iR0HKASB8mO2B0W8IW/Colin/xta\n"
     ]
    },
    {
     "ename": "ValueError",
     "evalue": "unknown file extension: ",
     "output_type": "error",
     "traceback": [
      "\u001b[0;31m---------------------------------------------------------------------------\u001b[0m",
      "\u001b[0;31mKeyError\u001b[0m                                  Traceback (most recent call last)",
      "File \u001b[0;32m~/opt/anaconda3/envs/SLAC/lib/python3.8/site-packages/PIL/Image.py:2278\u001b[0m, in \u001b[0;36mImage.save\u001b[0;34m(self, fp, format, **params)\u001b[0m\n\u001b[1;32m   2277\u001b[0m \u001b[39mtry\u001b[39;00m:\n\u001b[0;32m-> 2278\u001b[0m     \u001b[39mformat\u001b[39m \u001b[39m=\u001b[39m EXTENSION[ext]\n\u001b[1;32m   2279\u001b[0m \u001b[39mexcept\u001b[39;00m \u001b[39mKeyError\u001b[39;00m \u001b[39mas\u001b[39;00m e:\n",
      "\u001b[0;31mKeyError\u001b[0m: ''",
      "\nThe above exception was the direct cause of the following exception:\n",
      "\u001b[0;31mValueError\u001b[0m                                Traceback (most recent call last)",
      "\u001b[1;32m/Volumes/GoogleDrive/.shortcut-targets-by-id/1T0iozAjdCih-x9iR0HKASB8mO2B0W8IW/Colin/xta/astra/vcc_laser.ipynb Cell 22\u001b[0m in \u001b[0;36m<cell line: 22>\u001b[0;34m()\u001b[0m\n\u001b[1;32m     <a href='vscode-notebook-cell:/Volumes/GoogleDrive/.shortcut-targets-by-id/1T0iozAjdCih-x9iR0HKASB8mO2B0W8IW/Colin/xta/astra/vcc_laser.ipynb#X30sZmlsZQ%3D%3D?line=18'>19</a>\u001b[0m     \u001b[39m#plt.imshow(padImg)\u001b[39;00m\n\u001b[1;32m     <a href='vscode-notebook-cell:/Volumes/GoogleDrive/.shortcut-targets-by-id/1T0iozAjdCih-x9iR0HKASB8mO2B0W8IW/Colin/xta/astra/vcc_laser.ipynb#X30sZmlsZQ%3D%3D?line=19'>20</a>\u001b[0m     \u001b[39mreturn\u001b[39;00m save_path\n\u001b[0;32m---> <a href='vscode-notebook-cell:/Volumes/GoogleDrive/.shortcut-targets-by-id/1T0iozAjdCih-x9iR0HKASB8mO2B0W8IW/Colin/xta/astra/vcc_laser.ipynb#X30sZmlsZQ%3D%3D?line=21'>22</a>\u001b[0m dcm_Crop(dcm_path)\n",
      "\u001b[1;32m/Volumes/GoogleDrive/.shortcut-targets-by-id/1T0iozAjdCih-x9iR0HKASB8mO2B0W8IW/Colin/xta/astra/vcc_laser.ipynb Cell 22\u001b[0m in \u001b[0;36mdcm_Crop\u001b[0;34m(im_input)\u001b[0m\n\u001b[1;32m     <a href='vscode-notebook-cell:/Volumes/GoogleDrive/.shortcut-targets-by-id/1T0iozAjdCih-x9iR0HKASB8mO2B0W8IW/Colin/xta/astra/vcc_laser.ipynb#X30sZmlsZQ%3D%3D?line=15'>16</a>\u001b[0m \u001b[39mprint\u001b[39m(os\u001b[39m.\u001b[39mgetcwd())\n\u001b[1;32m     <a href='vscode-notebook-cell:/Volumes/GoogleDrive/.shortcut-targets-by-id/1T0iozAjdCih-x9iR0HKASB8mO2B0W8IW/Colin/xta/astra/vcc_laser.ipynb#X30sZmlsZQ%3D%3D?line=16'>17</a>\u001b[0m fix_path \u001b[39m=\u001b[39m \u001b[39m'\u001b[39m\u001b[39mtest\u001b[39m\u001b[39m'\u001b[39m\n\u001b[0;32m---> <a href='vscode-notebook-cell:/Volumes/GoogleDrive/.shortcut-targets-by-id/1T0iozAjdCih-x9iR0HKASB8mO2B0W8IW/Colin/xta/astra/vcc_laser.ipynb#X30sZmlsZQ%3D%3D?line=17'>18</a>\u001b[0m plt\u001b[39m.\u001b[39;49mimsave(fix_path, padImg)\n\u001b[1;32m     <a href='vscode-notebook-cell:/Volumes/GoogleDrive/.shortcut-targets-by-id/1T0iozAjdCih-x9iR0HKASB8mO2B0W8IW/Colin/xta/astra/vcc_laser.ipynb#X30sZmlsZQ%3D%3D?line=18'>19</a>\u001b[0m \u001b[39m#plt.imshow(padImg)\u001b[39;00m\n\u001b[1;32m     <a href='vscode-notebook-cell:/Volumes/GoogleDrive/.shortcut-targets-by-id/1T0iozAjdCih-x9iR0HKASB8mO2B0W8IW/Colin/xta/astra/vcc_laser.ipynb#X30sZmlsZQ%3D%3D?line=19'>20</a>\u001b[0m \u001b[39mreturn\u001b[39;00m save_path\n",
      "File \u001b[0;32m~/opt/anaconda3/envs/SLAC/lib/python3.8/site-packages/matplotlib/pyplot.py:2165\u001b[0m, in \u001b[0;36mimsave\u001b[0;34m(fname, arr, **kwargs)\u001b[0m\n\u001b[1;32m   2163\u001b[0m \u001b[39m@_copy_docstring_and_deprecators\u001b[39m(matplotlib\u001b[39m.\u001b[39mimage\u001b[39m.\u001b[39mimsave)\n\u001b[1;32m   2164\u001b[0m \u001b[39mdef\u001b[39;00m \u001b[39mimsave\u001b[39m(fname, arr, \u001b[39m*\u001b[39m\u001b[39m*\u001b[39mkwargs):\n\u001b[0;32m-> 2165\u001b[0m     \u001b[39mreturn\u001b[39;00m matplotlib\u001b[39m.\u001b[39;49mimage\u001b[39m.\u001b[39;49mimsave(fname, arr, \u001b[39m*\u001b[39;49m\u001b[39m*\u001b[39;49mkwargs)\n",
      "File \u001b[0;32m~/opt/anaconda3/envs/SLAC/lib/python3.8/site-packages/matplotlib/image.py:1675\u001b[0m, in \u001b[0;36mimsave\u001b[0;34m(fname, arr, vmin, vmax, cmap, format, origin, dpi, metadata, pil_kwargs)\u001b[0m\n\u001b[1;32m   1673\u001b[0m pil_kwargs\u001b[39m.\u001b[39msetdefault(\u001b[39m\"\u001b[39m\u001b[39mformat\u001b[39m\u001b[39m\"\u001b[39m, \u001b[39mformat\u001b[39m)\n\u001b[1;32m   1674\u001b[0m pil_kwargs\u001b[39m.\u001b[39msetdefault(\u001b[39m\"\u001b[39m\u001b[39mdpi\u001b[39m\u001b[39m\"\u001b[39m, (dpi, dpi))\n\u001b[0;32m-> 1675\u001b[0m image\u001b[39m.\u001b[39;49msave(fname, \u001b[39m*\u001b[39;49m\u001b[39m*\u001b[39;49mpil_kwargs)\n",
      "File \u001b[0;32m~/opt/anaconda3/envs/SLAC/lib/python3.8/site-packages/PIL/Image.py:2280\u001b[0m, in \u001b[0;36mImage.save\u001b[0;34m(self, fp, format, **params)\u001b[0m\n\u001b[1;32m   2278\u001b[0m         \u001b[39mformat\u001b[39m \u001b[39m=\u001b[39m EXTENSION[ext]\n\u001b[1;32m   2279\u001b[0m     \u001b[39mexcept\u001b[39;00m \u001b[39mKeyError\u001b[39;00m \u001b[39mas\u001b[39;00m e:\n\u001b[0;32m-> 2280\u001b[0m         \u001b[39mraise\u001b[39;00m \u001b[39mValueError\u001b[39;00m(\u001b[39mf\u001b[39m\u001b[39m\"\u001b[39m\u001b[39munknown file extension: \u001b[39m\u001b[39m{\u001b[39;00mext\u001b[39m}\u001b[39;00m\u001b[39m\"\u001b[39m) \u001b[39mfrom\u001b[39;00m \u001b[39me\u001b[39;00m\n\u001b[1;32m   2282\u001b[0m \u001b[39mif\u001b[39;00m \u001b[39mformat\u001b[39m\u001b[39m.\u001b[39mupper() \u001b[39mnot\u001b[39;00m \u001b[39min\u001b[39;00m SAVE:\n\u001b[1;32m   2283\u001b[0m     init()\n",
      "\u001b[0;31mValueError\u001b[0m: unknown file extension: "
     ]
    }
   ],
   "source": [
    "def dcm_Crop(im_input):\n",
    "    ds = dicom.dcmread(im_input)\n",
    "    pixArr = ds.pixel_array\n",
    "    dim = pixArr.shape\n",
    "    height, width = dim[0], dim[1]\n",
    "\n",
    "    maxIndex = np.where(pixArr == pixArr.max())\n",
    "    maxHeightIndex = maxIndex[0]\n",
    "    maxWidthIndex = maxIndex[1]\n",
    "    distFromCent = abs(height/2 - maxHeightIndex) if maxHeightIndex > maxWidthIndex else abs(width/2 - maxWidthIndex)\n",
    "    maxCropDist = height/2 - distFromCent if maxHeightIndex > maxWidthIndex else width/2 - distFromCent\n",
    "    cropImg = pixArr[int(maxHeightIndex-maxCropDist):int(maxHeightIndex+maxCropDist), int(maxWidthIndex-maxCropDist):int(maxWidthIndex+maxCropDist)]\n",
    "    padImg = np.pad(cropImg, [(124, 124), (124, 124)], mode='constant')\n",
    "    #print(padImg)\n",
    "    save_path = f'{data_path}/cropImage/{image_name}.jpg'\n",
    "    cd = os.getcwd()\n",
    "    fix_path = cd\n",
    "    plt.imsave(fix_path, padImg)\n",
    "    #plt.imshow(padImg)\n",
    "    return save_path\n",
    "\n",
    "dcm_Crop(dcm_path)"
   ]
  },
  {
   "cell_type": "markdown",
   "metadata": {},
   "source": [
    "## Electron Distribution Generation"
   ]
  },
  {
   "cell_type": "code",
   "execution_count": 13,
   "metadata": {},
   "outputs": [],
   "source": [
    "def generate_dist():\n",
    "    dist_file = 'astra/astra-inputs/distgen.yaml'\n",
    "    dist = Generator(dist_file, verbose=False)\n",
    "\n",
    "    dist.input['xy_dist']['file'] = dcm_Crop(dcm_path)\n",
    "    dist.input['n_particle'] = int(1e4)\n",
    "    dist.input['start']['MTE']['value'] = 130 #330\n",
    "\n",
    "    fwhm = 0.06/2.355 # 60 fs = 0.06 ps\n",
    "    dist.input['t_dist']['sigma_t']['value'] = fwhm\n",
    "\n",
    "    dist.input['total_charge']['value'] = 1\n",
    "\n",
    "    # dist.input['r_dist']['max_r']['value'] = 0.5\n",
    "\n",
    "    dist.run()\n",
    "    particles = dist.particles \n",
    "    particles.write_astra('astra/astra-inputs/astra_particles.txt')\n",
    "    return particles, dist"
   ]
  },
  {
   "cell_type": "markdown",
   "metadata": {},
   "source": [
    "## Electron Distribution Plots"
   ]
  },
  {
   "cell_type": "code",
   "execution_count": 14,
   "metadata": {},
   "outputs": [],
   "source": [
    "particles, dist = generate_dist()\n",
    "particles.plot('x','y')\n",
    "plt.close()"
   ]
  },
  {
   "cell_type": "code",
   "execution_count": 15,
   "metadata": {},
   "outputs": [],
   "source": [
    "num_bins = 45\n",
    "plt.figure(figsize=(5, 5))\n",
    "astradist = parse_opal_emitted_dist('astra/astra-inputs/astra_particles.txt', names=['x', 'y', 'z', 'px','py', 'pz', 't', 'Q', 'ptype', 'flag'])\n",
    "plt.hist2d(astradist['x']*10**3, astradist['y']*10**3, num_bins, facecolor='blue', cmin=2)#, alpha=0.5)\n",
    "#print(xy)\n",
    "plt.title('Initial Electron Distribution')\n",
    "plt.ylabel('y [mm]', size=20)\n",
    "plt.xlabel('x [mm]', size=20)\n",
    "plt.xlim([left_xaxis, right_xaxis])\n",
    "plt.ylim([left_yaxis, right_yaxis])\n",
    "plt.savefig(f'{plots_path}/init_electron_dist/{image_name}.jpg', dpi=300)\n",
    "plt.close()"
   ]
  },
  {
   "cell_type": "markdown",
   "metadata": {},
   "source": [
    "# Run ASTRA"
   ]
  },
  {
   "cell_type": "markdown",
   "metadata": {},
   "source": [
    "## Initializing simulation with xta.in file"
   ]
  },
  {
   "cell_type": "code",
   "execution_count": 16,
   "metadata": {},
   "outputs": [],
   "source": [
    "astra_file = 'astra/astra-inputs/xta.in'\n",
    "xta = Astra(initial_particles=particles, input_file=astra_file, verbose=False)\n",
    "#xta.input['cavity']['file_efield(1)'] = f'{sim_path}/data/fieldmaps/map559.dat'"
   ]
  },
  {
   "cell_type": "code",
   "execution_count": 17,
   "metadata": {},
   "outputs": [],
   "source": [
    "#Changing inputs on xta\n",
    "xta.input['solenoid']['maxb(1)'] = 0.427"
   ]
  },
  {
   "cell_type": "code",
   "execution_count": 18,
   "metadata": {},
   "outputs": [],
   "source": [
    "xta.input['newrun']['zstart'] = 0.0\n",
    "xta.input['newrun']['zstop'] = 0.25\n",
    "xta.input['charge']['lspch'] = True\n",
    "xta.input['newrun']['zphase'] = 50\n"
   ]
  },
  {
   "cell_type": "markdown",
   "metadata": {},
   "source": [
    "## Running Astra simulation"
   ]
  },
  {
   "cell_type": "code",
   "execution_count": 19,
   "metadata": {},
   "outputs": [],
   "source": [
    "xta.run()"
   ]
  },
  {
   "cell_type": "code",
   "execution_count": 20,
   "metadata": {},
   "outputs": [],
   "source": [
    "#xta.archive('xta_60fs_1mm_10pC_noSC_laser_weak_solenoid_0.45_zstop_5.5.h5')"
   ]
  },
  {
   "cell_type": "code",
   "execution_count": 21,
   "metadata": {},
   "outputs": [],
   "source": [
    "#xta.load_archive('archives/xta_60fs_1mm_10pC_SC_laser_weak_solenoid_0.45_zstop_5.5.h5')"
   ]
  },
  {
   "cell_type": "markdown",
   "metadata": {},
   "source": [
    "# Plots"
   ]
  },
  {
   "cell_type": "markdown",
   "metadata": {},
   "source": [
    "## Energy Plots"
   ]
  },
  {
   "cell_type": "code",
   "execution_count": 22,
   "metadata": {},
   "outputs": [],
   "source": [
    "test = xta.particles[-1].plot('energy')\n",
    "plt.savefig(f'{plots_path}/energy_dist/{image_name}.jpg', dpi=250)\n",
    "plt.close()"
   ]
  },
  {
   "cell_type": "markdown",
   "metadata": {},
   "source": [
    "## Electron Distribution Plots"
   ]
  },
  {
   "cell_type": "markdown",
   "metadata": {},
   "source": [
    "### Final Distribution Plot"
   ]
  },
  {
   "cell_type": "code",
   "execution_count": 23,
   "metadata": {},
   "outputs": [],
   "source": [
    "#xta.load_archive('archives/xta_60fs_1mm_1pC_SC_laser_test.h5')\n",
    "plt.figure(figsize=(5, 5))\n",
    "# xta.particles[-1].plot('x','y')\n",
    "xtapart = xta.particles[-1]\n",
    "num_bins = 45\n",
    "xy = plt.hist2d(xtapart.x*10**3, xtapart.y*10**3, num_bins, facecolor='blue', cmin=1)#, alpha=0.5)\n",
    "#print(np.mean(xtapart.z))\n",
    "plt.xlim([left_xaxis, right_xaxis])\n",
    "plt.ylim([left_yaxis, right_yaxis])\n",
    "plt.ylabel('y [mm]', size=20)\n",
    "plt.xlabel('X [mm]', size=20)\n",
    "plt.savefig(f'{plots_path}/final_electron_dist/{image_name}.jpg', dpi=300, bbox_inches='tight')\n",
    "plt.close()"
   ]
  },
  {
   "cell_type": "markdown",
   "metadata": {},
   "source": [
    "### Initial vs. Final Plot"
   ]
  },
  {
   "cell_type": "code",
   "execution_count": 24,
   "metadata": {
    "scrolled": false
   },
   "outputs": [],
   "source": [
    "#Super plot\n",
    "fig, plots = plt.subplots(1, 2, figsize=(10, 5), sharex=True, sharey=True)\n",
    "fig.subplots_adjust(wspace=0.1)\n",
    "\n",
    "#Final plot\n",
    "finalxy = plt.subplot(1,2,2)\n",
    "xtapart = xta.particles[-1]\n",
    "num_bins = 42\n",
    "plt.hist2d(xtapart.x*10**3, xtapart.y*10**3, num_bins, facecolor='blue', cmin=1)\n",
    "plots[1].set(title='Final Shape', xlabel='x [mm]')\n",
    "\n",
    "#Initial Plot\n",
    "num_bins = 42\n",
    "initialxy = plt.subplot(1,2,1)\n",
    "plt.hist2d(xta.particles[0].x*10**3, xta.particles[0].y*10**3, num_bins, facecolor='blue', cmin=1)\n",
    "plots[0].set(title='Initial Shape', xlabel='x [mm]', ylabel='y [mm]', xlim=[left_xaxis, right_xaxis], ylim=[left_yaxis, right_yaxis])\n",
    "\n",
    "\n",
    "plt.suptitle(f\"Initial vs. Final Beam Shape\\n |B|={xta.input['solenoid']['maxb(1)']} T, q={dist.input['total_charge']['value']} nC\")\n",
    "#plt.tight_layout\n",
    "\n",
    "plt.savefig(f'{plots_path}/compare_dist/{image_name}.jpg', dpi=300, bbox_inches='tight')\n",
    "plt.close()"
   ]
  },
  {
   "cell_type": "markdown",
   "metadata": {},
   "source": [
    "### Cross Sections"
   ]
  },
  {
   "cell_type": "code",
   "execution_count": 25,
   "metadata": {},
   "outputs": [],
   "source": [
    "num_cross = 6\n",
    "num_rows = math.ceil(num_cross/3)\n",
    "num_bins = 42\n",
    "#Super plot\n",
    "fig, plots = plt.subplots(num_rows, 3, sharex=True, sharey=True)\n",
    "fig.subplots_adjust(wspace=0.2, hspace=0.5)\n",
    "\n",
    "#Final plot\n",
    "finalxy = plt.subplot(num_rows, 3, num_cross)\n",
    "xtapart = xta.particles[-1]\n",
    "plt.hist2d(xtapart.x*10**3, xtapart.y*10**3, num_bins, facecolor='blue', cmin=1)\n",
    "meanZ = round(mean(xtapart.z), 3)\n",
    "plt.title(f'z={meanZ} m', size=8)\n",
    "plt.xlabel(f'x [mm]')\n",
    "\n",
    "#Intermediate plots\n",
    "\n",
    "for plot in range(2, num_cross):\n",
    "    intxy = plt.subplot(num_rows, 3, plot)\n",
    "    index = (len(xta.particles)//(num_cross-1))*(plot-1)\n",
    "    xtapart = xta.particles[index]\n",
    "    plt.hist2d(xtapart.x*10**3, xtapart.y*10**3, num_bins, facecolor='blue', cmin = 1)\n",
    "    meanZ = round(mean(xtapart.z), 3)\n",
    "    plt.title(f'z={meanZ} m', size=8)\n",
    "    if plot >= (num_cross - 2):\n",
    "        plt.xlabel('x [mm]')\n",
    "    if (plot-1)%3 == 0:\n",
    "        plt.ylabel('y [mm]')\n",
    "\n",
    "\n",
    "#Initial Plot\n",
    "initialxy = plt.subplot(num_rows, 3, 1)\n",
    "xtapart = xta.particles[0]\n",
    "plt.hist2d(xtapart.x*10**3, xtapart.y*10**3, num_bins, facecolor='blue', cmin=1)\n",
    "plt.xlim([left_xaxis, right_xaxis])\n",
    "plt.ylim([left_yaxis, right_yaxis])\n",
    "meanZ = round(mean(xtapart.z), 3)\n",
    "plt.title(f'z={meanZ} m', size=8)\n",
    "plt.ylabel('y [mm]')\n",
    "\n",
    "\n",
    "plt.suptitle(f\"|B|={xta.input['solenoid']['maxb(1)']} T, q={dist.input['total_charge']['value']} nC\", weight='bold')\n",
    "plt.close()"
   ]
  },
  {
   "cell_type": "markdown",
   "metadata": {},
   "source": [
    "## Beam Size vs. Mean Z"
   ]
  },
  {
   "cell_type": "code",
   "execution_count": 26,
   "metadata": {},
   "outputs": [],
   "source": [
    "plt.figure()\n",
    "plt.plot(xta.stat('mean_z'), xta.stat('sigma_z')*10**3, '-', label=\"$\\sigma_z$\")\n",
    "plt.plot(xta.stat('mean_z'), xta.stat('sigma_x')*10**3, '-', label=\"$\\sigma_x$\")\n",
    "plt.xlabel('Mean z [m]')\n",
    "plt.ylabel('Beam size [mm]')\n",
    "plt.legend(loc='upper right')\n",
    "plt.ylim(0,0.1)\n",
    "plt.xlim(0,1)\n",
    "plt.grid()\n",
    "plt.close()"
   ]
  },
  {
   "cell_type": "markdown",
   "metadata": {},
   "source": [
    "## Mean Kinetic Energy vs. Mean Z"
   ]
  },
  {
   "cell_type": "code",
   "execution_count": 27,
   "metadata": {},
   "outputs": [],
   "source": [
    "plt.figure()\n",
    "plt.plot(xta.stat('mean_z'), xta.stat('mean_kinetic_energy')*10**-6, '-', label=\"Energy\")\n",
    "# plt.plot(xta.stat('mean_z'), xta.stat('sigma_x')*10**3, '-', label=\"$\\sigma_x$\")\n",
    "plt.xlabel('Mean z [m]')\n",
    "plt.ylabel('Mean Kinetic Energy [eV]')\n",
    "plt.legend(loc='upper right')\n",
    "# plt.ylim(0,0.6)\n",
    "# plt.xlim(0,0.7)\n",
    "plt.grid()\n",
    "plt.close()"
   ]
  },
  {
   "cell_type": "markdown",
   "metadata": {},
   "source": [
    "## Movie"
   ]
  },
  {
   "cell_type": "code",
   "execution_count": 28,
   "metadata": {},
   "outputs": [],
   "source": [
    "import matplotlib.animation as animation"
   ]
  },
  {
   "cell_type": "markdown",
   "metadata": {},
   "source": [
    "### Initial histogram"
   ]
  },
  {
   "cell_type": "code",
   "execution_count": 29,
   "metadata": {},
   "outputs": [
    {
     "data": {
      "application/vnd.jupyter.widget-view+json": {
       "model_id": "a8f7c22c2dca4035a374d39e3ef85b94",
       "version_major": 2,
       "version_minor": 0
      },
      "image/png": "[encoded data removed]",
      "text/html": [
       "\n",
       "            <div style=\"display: inline-block;\">\n",
       "                <div class=\"jupyter-widgets widget-label\" style=\"text-align: center;\">\n",
       "                    Figure\n",
       "                </div>\n",
       "                <img src='data:image/png;base64,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' width=500.0/>\n",
       "            </div>\n",
       "        "
      ],
      "text/plain": [
       "Canvas(toolbar=Toolbar(toolitems=[('Home', 'Reset original view', 'home', 'home'), ('Back', 'Back to previous …"
      ]
     },
     "metadata": {},
     "output_type": "display_data"
    }
   ],
   "source": [
    "fig, axs = plt.subplots(figsize=(5, 5))\n",
    "init_frame = 0\n",
    "num_bins = 42\n",
    "beam = xta.particles[init_frame]\n",
    "\n",
    "data, x, y, _ = axs.hist2d(beam.x*10**3, beam.y*10**3, num_bins, cmin=1)\n",
    "axs.set_title(f\"|B|={xta.input['solenoid']['maxb(1)']} T, q={dist.input['total_charge']['value']} nC \\n z={xta.stat('mean_z')[init_frame]} m\")\n",
    "axs.set_xlabel('x [mm]', size=15)\n",
    "axs.set_ylabel('y [mm]', size=15)\n",
    "axs.set(xlim =[left_xaxis, right_xaxis], ylim = [left_yaxis, right_yaxis])\n",
    "\n",
    "frameCount = axs.text(right_xaxis-1, right_yaxis+0.4, f'Frame: {init_frame}')\n",
    "pix = np.flipud(data.T)\n",
    "im = plt.imshow(pix, extent=[x[0], x[-1], y[0], y[-1]])\n",
    "#plt.close()"
   ]
  },
  {
   "cell_type": "markdown",
   "metadata": {},
   "source": [
    "### Animating the histogram"
   ]
  },
  {
   "cell_type": "code",
   "execution_count": 30,
   "metadata": {},
   "outputs": [],
   "source": [
    "def animate(i):\n",
    "    plt.cla()\n",
    "    beam = xta.particles[i]\n",
    "    X = beam.x*10**3\n",
    "    Y = beam.y*10**3\n",
    "    data, x, y, _ = plt.hist2d(X, Y, num_bins, cmin=1)\n",
    "    axs.set_title(f\"|B|={xta.input['solenoid']['maxb(1)']} T, q={dist.input['total_charge']['value']} nC \\n Mean z={round(mean(beam.z), 3)} m\")\n",
    "    axs.set(xlim =[left_xaxis, right_xaxis], ylim = [left_yaxis, right_yaxis])\n",
    "    axs.set_xlabel('x [mm]', size=15)\n",
    "    axs.set_ylabel('y [mm]', size=15)\n",
    "    frameCount = axs.text(right_xaxis-1, right_yaxis+0.4, f'Frame: {i}')\n",
    "    pix = np.flipud(data.T)\n",
    "    im.set_data(pix)\n",
    "    im.set_extent([x[0], x[-1], y[0], y[-1]])\n",
    "    \n",
    "num = len(xta.particles)\n",
    "playback_speed = 6 #In fps\n",
    "anim = animation.FuncAnimation(fig, animate, np.arange(1,num), repeat_delay = 2500, repeat = False)\n",
    "\n",
    "#Save animation\n",
    "writervideo = animation.FFMpegWriter(fps=playback_speed)\n",
    "anim.save(f'{plots_path}/animations/{image_name}.mp4', writer=writervideo)"
   ]
  },
  {
   "cell_type": "markdown",
   "metadata": {},
   "source": [
    "# Characterizing Beam Rotation"
   ]
  },
  {
   "cell_type": "markdown",
   "metadata": {},
   "source": [
    "## Track movement of particles"
   ]
  },
  {
   "cell_type": "code",
   "execution_count": 31,
   "metadata": {},
   "outputs": [],
   "source": [
    "def rotate_particles(frame):\n",
    "    #initial and final particle groups\n",
    "    init_part = xta.particles[0]\n",
    "    fin_part = xta.particles[frame]\n",
    "\n",
    "    #Picking a particle to track\n",
    "    particleIndex = 100\n",
    "    iPos = np.array([float(init_part[particleIndex].x), float(init_part[particleIndex].y)])\n",
    "    iMag = np.sqrt(iPos.dot(iPos))\n",
    "    fPos = np.array([float(fin_part[particleIndex].x), float(fin_part[particleIndex].y)])\n",
    "    fMag = np.sqrt(fPos.dot(fPos))\n",
    "    #This is negative since the rotation is clockwise\n",
    "    diffAngle = -np.arccos((np.dot(iPos, fPos))/(iMag*fMag))\n",
    "\n",
    "\n",
    "    #print(f'Initial Position: {iPos}')\n",
    "    #print(f'Final Position: {fPos}')\n",
    "    #print(f'Change in Angle: {round(math.degrees(diffAngle), 3)}')#Rotation transformation matrix\n",
    "    R = np.array(((np.cos(diffAngle), -np.sin(diffAngle)), (np.sin(diffAngle), np.cos(diffAngle))))\n",
    "\n",
    "    #2d Array of x and y points\n",
    "    vect = np.vstack((fin_part.x*10**3, fin_part.y*10**3))\n",
    "\n",
    "    #Applying rotation\n",
    "    rotVect = R.dot(vect)\n",
    "    return R.dot(vect)\n",
    "rotVect = rotate_particles(-1)"
   ]
  },
  {
   "cell_type": "markdown",
   "metadata": {},
   "source": [
    "## Plotting initial vs. final with rotation adjustment"
   ]
  },
  {
   "cell_type": "code",
   "execution_count": 32,
   "metadata": {},
   "outputs": [
    {
     "data": {
      "application/vnd.jupyter.widget-view+json": {
       "model_id": "d33fa3bb66a540a5afd87e78c9e10ba8",
       "version_major": 2,
       "version_minor": 0
      },
      "image/png": "[encoded data removed]",
      "text/html": [
       "\n",
       "            <div style=\"display: inline-block;\">\n",
       "                <div class=\"jupyter-widgets widget-label\" style=\"text-align: center;\">\n",
       "                    Figure\n",
       "                </div>\n",
       "                <img src='data:image/png;base64,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' width=850.0/>\n",
       "            </div>\n",
       "        "
      ],
      "text/plain": [
       "Canvas(toolbar=Toolbar(toolitems=[('Home', 'Reset original view', 'home', 'home'), ('Back', 'Back to previous …"
      ]
     },
     "metadata": {},
     "output_type": "display_data"
    }
   ],
   "source": [
    "fig, plots = plt.subplots(1, 2, figsize=(8.5, 4.25), sharex=True, sharey=True)\n",
    "#fig.subplots_adjust(wspace=0.1)\n",
    "\n",
    "#Final plot\n",
    "finalxy = plt.subplot(1,2,2)\n",
    "fin, x, y, _ = finalxy.hist2d(rotVect[0], rotVect[1], num_bins, facecolor='blue', cmin=1)\n",
    "plots[1].set(title='Rotated Final Shape', xlabel='x [mm]')\n",
    "\n",
    "#Initial Plot\n",
    "initialxy = plt.subplot(1,2,1)\n",
    "init, _, _, _ = plt.hist2d(xtapart.x*10**3, xtapart.y*10**3, num_bins, facecolor='blue', cmin=1)\n",
    "plots[0].set(title='Initial Shape', xlabel='x [mm]', ylabel='y [mm]', xlim=[left_xaxis, right_xaxis], ylim=[left_yaxis, right_yaxis])\n",
    "\n",
    "plt.suptitle(f\"Initial vs. Final Beam Shape\\n |B|={xta.input['solenoid']['maxb(1)']} T, q={dist.input['total_charge']['value']} nC\")\n",
    "\n",
    "plt.savefig(f'{plots_path}/rotate_compare_dist/{image_name}.jpg', dpi=300, bbox_inches='tight')\n",
    "#plt.close()"
   ]
  },
  {
   "cell_type": "markdown",
   "metadata": {},
   "source": [
    "## Saving Subplots"
   ]
  },
  {
   "cell_type": "code",
   "execution_count": 33,
   "metadata": {},
   "outputs": [],
   "source": [
    "sub_bins = 80\n",
    "fig, ax = plt.subplots(figsize=(5, 5), frameon=False)\n",
    "plt.hist2d(xtapart.x*10**3, xtapart.y*10**3, sub_bins, facecolor='blue', cmin=1)\n",
    "ax.set(xlim=[left_xaxis, right_xaxis], ylim=[left_yaxis, right_yaxis])\n",
    "fig.savefig(f'{plots_path}/compare_img/init_{image_name}.jpg', bbox_inches='tight', pad_inches=0)\n",
    "\n",
    "plt.close()\n",
    "\n",
    "fig, ax = plt.subplots(figsize=(5, 5), frameon=False)\n",
    "plt.hist2d(rotVect[0], rotVect[1], sub_bins, facecolor='blue', cmin=1)\n",
    "ax.set(xlim=[left_xaxis, right_xaxis], ylim=[left_yaxis, right_yaxis])\n",
    "fig.savefig(f'{plots_path}/compare_img/final_{image_name}.jpg', bbox_inches='tight', pad_inches=0)\n",
    "plt.close()"
   ]
  },
  {
   "cell_type": "markdown",
   "metadata": {},
   "source": [
    "# Statistics Plots Boiler Plate"
   ]
  },
  {
   "cell_type": "code",
   "execution_count": 34,
   "metadata": {},
   "outputs": [],
   "source": [
    "#Initial, final, energy, beam size, bunch length, \n",
    "def boiler_plotplate(**kwargs):\n",
    "    optionsDict = {'Initial': True, 'Final': True, 'Verbose':False, 'Rotate': True, 'BeamSize': True, 'BunchLength': True, 'FrameCount': True, 'xy_lim': [-4, 4]}\n",
    "    plotsDict = {'Energy': True}\n",
    "    for option, value in kwargs.items():\n",
    "        try:\n",
    "            optionsDict[option] = value\n",
    "            plotsDict[option] = value\n",
    "        except:\n",
    "            pass\n",
    "    \n",
    "    if optionsDict['Verbose']:\n",
    "        print('Options: ', optionsDict)\n",
    "        print('Plots: ', plotsDict)\n",
    "    \n",
    "    if not optionsDict['Initial'] and not optionsDict['Final']:\n",
    "        print(\"Nothing to plot, enable initial or final distributions\")\n",
    "        return\n",
    "    num_rows = 2 if optionsDict['Initial'] and optionsDict['Final'] else 1\n",
    "\n",
    "    #Determinining number of columns based on number of plots\n",
    "    num_cols = 1\n",
    "    for plot in plotsDict:\n",
    "        if plotsDict[plot]:\n",
    "            num_cols += 1\n",
    "    \n",
    "    #Generating the plots\n",
    "    fig, plots = plt.subplots(num_rows, num_cols, figsize = (4*num_cols, 4*num_rows), sharex=True, sharey=True)\n",
    "\n",
    "    #Final Plots\n",
    "    if optionsDict['Final']:\n",
    "        finalxy = plt.subplot(num_rows, num_cols, num_cols+1)\n",
    "        plt.hist2d(rotVect[0], rotVect[1], num_bins, facecolor='blue', cmin=1) if optionsDict['Rotate'] else plt.hist2d(xta.particles[-1].x*10**3, xta.particles[-1].y*10**3, num_bins, facecolor='blue', cmin=1)\n",
    "        plt.title('Final Distribution')\n",
    "        for plot in plotsDict.items():\n",
    "            print()\n",
    "    #Initial Plots\n",
    "    if optionsDict['Initial']:\n",
    "        initalxy = plt.subplot(num_rows, num_cols, 1)\n",
    "        plt.hist2d(xta.particles[0].x*10**3, xta.particles[0].y*10**3, num_bins, facecolor='blue', cmin=1)\n",
    "        plt.title('Initial Distribution')\n",
    "        plt.xlim(optionsDict['xy_lim'][0], optionsDict['xy_lim'][1])\n",
    "        plt.ylim(optionsDict['xy_lim'][0], optionsDict['xy_lim'][1])\n",
    "\n",
    "#boiler_plotplate()"
   ]
  },
  {
   "cell_type": "markdown",
   "metadata": {},
   "source": [
    "# Comparitive Image Analysis"
   ]
  },
  {
   "cell_type": "markdown",
   "metadata": {},
   "source": [
    "### Image Subtraction"
   ]
  },
  {
   "cell_type": "code",
   "execution_count": 35,
   "metadata": {},
   "outputs": [],
   "source": [
    "def greyscale(image):\n",
    "    return np.dot(image[...,:3], [0.33, 0.33, 0.33])\n",
    "\n",
    "def subtractImg():\n",
    "    initIm = greyscale(cv2.imread(f'{plots_path}/compare_img/init_{image_name}.jpg'))\n",
    "    finIm = greyscale(cv2.imread(f'{plots_path}/compare_img/final_{image_name}.jpg'))\n",
    "    diff = np.absolute(initIm-finIm)\n",
    "    cv2.imwrite(f'{plots_path}/compare_img/diff_{image_name}.jpg', diff)\n",
    "\n",
    "subtractImg()"
   ]
  },
  {
   "cell_type": "markdown",
   "metadata": {},
   "source": [
    "# B Field Scanning"
   ]
  },
  {
   "cell_type": "markdown",
   "metadata": {},
   "source": [
    "### Function that scores image likeness"
   ]
  },
  {
   "cell_type": "code",
   "execution_count": 36,
   "metadata": {},
   "outputs": [],
   "source": [
    "def score(img):\n",
    "    sumPixels = img.sum()\n",
    "    squareSum = np.square(img).sum()\n",
    "    return sumPixels"
   ]
  },
  {
   "cell_type": "markdown",
   "metadata": {},
   "source": [
    "### Does a single simulation with specific B value (Histogram Image Subtraction)"
   ]
  },
  {
   "cell_type": "code",
   "execution_count": 37,
   "metadata": {},
   "outputs": [],
   "source": [
    "def run(B):\n",
    "    xta.input['solenoid']['maxb(1)'] = B\n",
    "    xta.run()\n",
    "    rotVect = rotate_particles(-1)\n",
    "    fig, ax = plt.subplots(figsize=(5, 5), frameon=False)\n",
    "    plt.hist2d(rotVect[0], rotVect[1], sub_bins, facecolor='blue', cmin=1)\n",
    "    ax.set(xlim=[left_xaxis, right_xaxis], ylim=[left_yaxis, right_yaxis])\n",
    "    fig.savefig(f'{plots_path}/compare_img/final_{image_name}.jpg', bbox_inches='tight', pad_inches=0)\n",
    "    plt.close()\n",
    "    subtractImg()\n",
    "    subImg = plt.imread(f'{plots_path}/compare_img/diff_{image_name}.jpg')\n",
    "    return score(subImg)"
   ]
  },
  {
   "cell_type": "markdown",
   "metadata": {},
   "source": [
    "### Single B scan with greyscale subtraction, specific interval"
   ]
  },
  {
   "cell_type": "code",
   "execution_count": 38,
   "metadata": {},
   "outputs": [],
   "source": [
    "def b_scan(min, max, scans, precision, verbose):\n",
    "    if scans <= 3:\n",
    "        raise ValueError(\"There must be more than 3 scans!\")\n",
    "    b_vals = np.round(np.linspace(min, max, scans), precision+1)\n",
    "    if verbose:\n",
    "        print('Scanning B values: ', b_vals)\n",
    "    opt_B = min\n",
    "    opt_score = 1e9\n",
    "    for B in b_vals:\n",
    "        if verbose:\n",
    "            print(f'\\nScanning {B} T')\n",
    "        if B in scoreDict.keys():\n",
    "            score = scoreDict[B]\n",
    "            if verbose:\n",
    "                print('Found in Dictionary!\\n')\n",
    "        else:\n",
    "            score = run(B)\n",
    "            scoreDict[B] = score\n",
    "        if verbose:\n",
    "            print(f'\\r\\tScore: {score}')\n",
    "        if score > opt_score:\n",
    "            if B > opt_B:\n",
    "                max_B = B\n",
    "                break\n",
    "            continue\n",
    "        elif b_vals[-1] == B:\n",
    "            raise ValueError(\"Upper limit is optimal limit, increase upper limit for proper scan!\")\n",
    "        min_B = opt_B\n",
    "        opt_B = B\n",
    "        opt_score = score\n",
    "        opt_fin_img = plt.imread(f'{plots_path}/compare_img/final_{image_name}.jpg')\n",
    "        opt_diff_img = plt.imread(f'{plots_path}/compare_img/diff_{image_name}.jpg')\n",
    "        if verbose:\n",
    "            print(f'\\r\\tOptimal B is now {B} T')\n",
    "\n",
    "    #Cleanup plots\n",
    "    plt.imsave(f'{plots_path}/compare_img/final_{image_name}.jpg', opt_fin_img)\n",
    "    cv2.imwrite(f'{plots_path}/compare_img/diff_{image_name}.jpg', opt_diff_img)\n",
    "    if verbose:\n",
    "        print(f'\\n The optimal B value is in between ({min_B} T, {max_B} T)')\n",
    "    return opt_B, min_B, max_B\n",
    "\n",
    "#Dictionary of previously scanned values\n",
    "scoreDict = {}\n",
    "\n",
    "#opt_B, min_B, max_B = b_scan(0.425, 0.43, 3)"
   ]
  },
  {
   "cell_type": "markdown",
   "metadata": {},
   "source": [
    "### Continuous B scan, optimized to specificed decimal precision"
   ]
  },
  {
   "cell_type": "code",
   "execution_count": 39,
   "metadata": {},
   "outputs": [
    {
     "data": {
      "text/plain": [
       "0.427"
      ]
     },
     "execution_count": 39,
     "metadata": {},
     "output_type": "execute_result"
    }
   ],
   "source": [
    "def cont_scan(init_domain, scans_per_iteration, precision, verbose):\n",
    "    min, max = init_domain\n",
    "    while round(min, precision) != round(max, precision):\n",
    "        if verbose:\n",
    "            print(f'\\n Starting new scan on interval ({min} T, {max} T)')\n",
    "        opt_B, min, max = b_scan(min, max, scans_per_iteration, precision, verbose)\n",
    "    if verbose:\n",
    "        print('\\n Continuous Scan Complete!')\n",
    "        print(f'\\r\\tOptimal B: {round(opt_B, precision)} (Precision: {precision})')\n",
    "    return opt_B\n",
    "    \n",
    "cont_scan([0.38, 0.45], 5, 2, verbose=False)"
   ]
  },
  {
   "cell_type": "markdown",
   "metadata": {},
   "source": [
    "### X Projection Comparisons"
   ]
  },
  {
   "cell_type": "code",
   "execution_count": 40,
   "metadata": {},
   "outputs": [],
   "source": [
    "num_bins = 100\n",
    "\n",
    "def gaus(data):\n",
    "    avg = np.mean(data)\n",
    "    var = np.var(data)\n",
    "    gausx = np.linspace(left_xaxis, right_xaxis, 1000)\n",
    "    gausy = 1.0/np.sqrt(2*np.pi*var)*np.exp(-0.5*(gausx-avg)**2/var)\n",
    "    return gausx, gausy, round(avg, 3), round(var, 3)\n",
    "\n",
    "fig, axes = plt.subplots(1, 2, sharex=True, sharey=True)\n",
    "\n",
    "#Final X\n",
    "plt.subplot(1, 2, 2)\n",
    "data = xta.particles[-1].x*10**3\n",
    "finalx = plt.hist(data, num_bins, density=True, facecolor='green')\n",
    "gausx, gausy, avg, var = gaus(data)\n",
    "plt.plot(gausx, gausy, 'k--')\n",
    "plt.title('Final x')\n",
    "plt.xlabel(f'$\\mu$ = {avg} mm\\t$\\sigma$ = {var} mm')\n",
    "\n",
    "#Initial X\n",
    "plt.subplot(1, 2, 1)\n",
    "data = xta.particles[0].x*10**3\n",
    "initx = plt.hist(data, num_bins, density=True)\n",
    "gausx, gausy, avg, var = gaus(data)\n",
    "plt.plot(gausx, gausy, 'k--')\n",
    "plt.title('Initial x')\n",
    "plt.xlim(left_xaxis, right_xaxis)\n",
    "plt.xlabel(f'$\\mu$ = {avg} mm\\t$\\sigma$ = {var} mm')\n",
    "\n",
    "plt.suptitle('Normazlized $\\Delta$x')\n",
    "plt.close()"
   ]
  },
  {
   "cell_type": "code",
   "execution_count": 41,
   "metadata": {},
   "outputs": [
    {
     "data": {
      "application/vnd.jupyter.widget-view+json": {
       "model_id": "0ae29ceed27a4725a41c0cb17b24bc3f",
       "version_major": 2,
       "version_minor": 0
      },
      "image/png": "[encoded data removed]",
      "text/html": [
       "\n",
       "            <div style=\"display: inline-block;\">\n",
       "                <div class=\"jupyter-widgets widget-label\" style=\"text-align: center;\">\n",
       "                    Figure\n",
       "                </div>\n",
       "                <img src='data:image/png;base64,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' width=640.0/>\n",
       "            </div>\n",
       "        "
      ],
      "text/plain": [
       "Canvas(toolbar=Toolbar(toolitems=[('Home', 'Reset original view', 'home', 'home'), ('Back', 'Back to previous …"
      ]
     },
     "metadata": {},
     "output_type": "display_data"
    }
   ],
   "source": [
    "plt.figure()\n",
    "plt.title('Initial and Final X Projections')\n",
    "plt.hist(xta.particles[0].x*10**3, num_bins, facecolor='blue', label='Initial X', alpha=1)\n",
    "plt.hist(xta.particles[-1].x*10**3, num_bins, facecolor='green', label='Final X', alpha=0.75)\n",
    "plt.xlim(left_xaxis, right_xaxis)\n",
    "plt.xlabel('X [mm]')\n",
    "plt.legend()\n",
    "plt.show()\n",
    "plt.close()"
   ]
  },
  {
   "cell_type": "markdown",
   "metadata": {},
   "source": [
    "### Y Projection Comparisons"
   ]
  },
  {
   "cell_type": "code",
   "execution_count": 42,
   "metadata": {},
   "outputs": [],
   "source": [
    "fig, axes = plt.subplots(1, 2, sharex=True, sharey=True)\n",
    "\n",
    "plt.subplot(1, 2, 2)\n",
    "data = xta.particles[-1].y*10**3\n",
    "finalx = plt.hist(data, num_bins, density=True, facecolor='green', orientation='horizontal')\n",
    "gausy, gausx, avg, var = gaus(data)\n",
    "plt.plot(gausx, gausy, 'k--')\n",
    "plt.title('Final y')\n",
    "plt.ylabel(f'$\\mu$ = {avg} mm\\t$\\sigma$ = {var} mm')\n",
    "\n",
    "plt.subplot(1, 2, 1)\n",
    "data = xta.particles[0].y*10**3\n",
    "initx = plt.hist(data, num_bins, density=True, orientation='horizontal')\n",
    "gausy, gausx, avg, var = gaus(data)\n",
    "plt.plot(gausx, gausy, 'k--')\n",
    "plt.title('Initial y')\n",
    "plt.ylim(left_yaxis, right_yaxis)\n",
    "plt.ylabel(f'$\\mu$ = {avg} mm\\t$\\sigma$ = {var} mm')\n",
    "\n",
    "plt.suptitle('Normazlized $\\Delta$y')\n",
    "plt.close()"
   ]
  },
  {
   "cell_type": "code",
   "execution_count": 43,
   "metadata": {},
   "outputs": [
    {
     "data": {
      "application/vnd.jupyter.widget-view+json": {
       "model_id": "538a176f535c4e4fbd837fe342f492a3",
       "version_major": 2,
       "version_minor": 0
      },
      "image/png": "[encoded data removed]",
      "text/html": [
       "\n",
       "            <div style=\"display: inline-block;\">\n",
       "                <div class=\"jupyter-widgets widget-label\" style=\"text-align: center;\">\n",
       "                    Figure\n",
       "                </div>\n",
       "                <img src='data:image/png;base64,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' width=640.0/>\n",
       "            </div>\n",
       "        "
      ],
      "text/plain": [
       "Canvas(toolbar=Toolbar(toolitems=[('Home', 'Reset original view', 'home', 'home'), ('Back', 'Back to previous …"
      ]
     },
     "metadata": {},
     "output_type": "display_data"
    }
   ],
   "source": [
    "plt.figure()\n",
    "plt.title('Initial and Final Y Projections')\n",
    "plt.hist(xta.particles[0].y*10**3, num_bins, facecolor='blue', label='Initial X', alpha=1, orientation='horizontal')\n",
    "plt.hist(xta.particles[-1].y*10**3, num_bins, facecolor='green', label='Final X', alpha=0.75, orientation='horizontal')\n",
    "plt.ylim(left_yaxis, right_yaxis)\n",
    "plt.xlabel('Y [mm]')\n",
    "plt.legend()\n",
    "plt.show()\n",
    "plt.close()"
   ]
  }
 ],
 "metadata": {
  "kernelspec": {
   "display_name": "Python 3 (ipykernel)",
   "language": "python",
   "name": "python3"
  },
  "language_info": {
   "codemirror_mode": {
    "name": "ipython",
    "version": 3
   },
   "file_extension": ".py",
   "mimetype": "text/x-python",
   "name": "python",
   "nbconvert_exporter": "python",
   "pygments_lexer": "ipython3",
   "version": "3.8.13"
  },
  "vscode": {
   "interpreter": {
    "hash": "6c58c64d71ff03ed58a5a60eb518d74c326f0baf896481c551d83d64162bf060"
   }
  }
 },
 "nbformat": 4,
 "nbformat_minor": 4
}
