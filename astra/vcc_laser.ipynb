{
 "cells": [
  {
   "cell_type": "code",
   "execution_count": 15,
   "metadata": {},
   "outputs": [],
   "source": [
    "import os, sys\n",
    "sys.path.insert(0, os.path.abspath('/Users/nneveu/github/lume-astra'))\n",
    "sys.path.insert(0, os.path.abspath('/Users/nneveu/github/distgen'))"
   ]
  },
  {
   "cell_type": "code",
   "execution_count": 16,
   "metadata": {},
   "outputs": [],
   "source": [
    "import numpy as np\n",
    "import matplotlib.pyplot as plt\n",
    "#plt.style.use('petrstyle.txt')\n",
    "from matplotlib.ticker import NullFormatter\n",
    "import glob, sys, h5py\n",
    "import scipy.io\n",
    "\n",
    "from astra import Astra#, template_dir\n",
    "from astra.plot import plot_fieldmaps, plot_stats, plot_stats_with_layout\n",
    "import distgen\n",
    "from distgen import Generator\n",
    "from distgen.writers import *\n",
    "from pmd_beamphysics import ParticleGroup\n",
    "from pmd_beamphysics.plot import marginal_plot\n",
    "\n",
    "#slice plots\n",
    "# from h5py import File\n",
    "# from pmd_beamphysics.interfaces import opal\n",
    "# from pmd_beamphysics.plot import slice_plot\n",
    "# from pmd_beamphysics.plot import marginal_plot, density_plot"
   ]
  },
  {
   "cell_type": "code",
   "execution_count": 17,
   "metadata": {},
   "outputs": [],
   "source": [
    "def parse_opal_emitted_dist(filename, names=['x', 'px','y','py','t','pz']):\n",
    "    '''Read in particle distribution used \n",
    "    in OPAL-T simulation. Used to describe the \n",
    "    beam distribution as it leaves the cathode.'''\n",
    "    dist = {}\n",
    "    data = np.loadtxt(filename, skiprows=1)\n",
    "    for i,name in enumerate(names):\n",
    "        dist[name] = data[:,i]\n",
    "    return dist\n",
    "def parse_astra_dist(filename, header=['x', 'y', 'z', 'px','py', 'pz', 't', 'Q', 'ptype', 'flag']):\n",
    "    '''\n",
    "    Read in initial particle distribution used \n",
    "    in ASTRA simulation. Used to describe the \n",
    "    beam distribution as it leaves the cathode.\n",
    "   \n",
    "    t     = time in ns\n",
    "    Q     = macro charge\n",
    "    ptype = particle type (electron: 1)\n",
    "    flag  = particle location (cathode: -1)\n",
    "    '''\n",
    "    #print(filename)\n",
    "    data = pd.read_csv(filename, delim_whitespace=True, names=header)\n",
    "    #print(data)\n",
    "    #only return non traj probe particles at cathodeprint(astradist['z'])\n",
    "    dist = data[data.flag == -1]\n",
    "    return dist #dist"
   ]
  },
  {
   "cell_type": "code",
   "execution_count": 18,
   "metadata": {},
   "outputs": [],
   "source": [
    "def make_tri(n, xmin, xmax, x):\n",
    "\n",
    "    half = int(n/2)\n",
    "    yr  = np.zeros(half*2)\n",
    "    #step 1\n",
    "    nr = int(n)\n",
    "    xr = np.random.rand(nr)\n",
    "\n",
    "    for j in range(0,nr):\n",
    "        #step 3\n",
    "        if j < half:\n",
    "            yr[j] = (1- np.sqrt(1-xr[j]))*(xmax-xmin)  \n",
    "        elif j >= half:\n",
    "        #step 4 \n",
    "            yr[j] = (-1 + np.sqrt(1-xr[j]))*(xmax-xmin) \n",
    "\n",
    "    #showplot(xr, yr)\n",
    "    for k in range(0,len(x)):\n",
    "        #print(y[k])\n",
    "        if (-yr[k]/8 <= x[k] <= yr[k]/8):\n",
    "            pass\n",
    "            #x[k]=0\n",
    "        else:\n",
    "            #print(x[k])\n",
    "            x[k]=0\n",
    "            #pass\n",
    "\n",
    "    #showplot(xr,x)\n",
    "    return x, xr"
   ]
  },
  {
   "cell_type": "code",
   "execution_count": 19,
   "metadata": {},
   "outputs": [],
   "source": [
    "# From Chris: https://github.com/slaclab/lcls-lattice/tree/master/distgen/models/cu_inj/vcc_image\n",
    "def write_distgen_xy_dist(filename, image, resolution, resolution_units='m'):\n",
    "    \"\"\"\n",
    "    Writes image data in distgen's xy_dist format\n",
    "    \n",
    "    Returns the absolute path to the file written\n",
    "    \n",
    "    \"\"\"\n",
    "    \n",
    "    # Get width of each dimension\n",
    "    widths = resolution * np.array(image.shape)\n",
    "    \n",
    "    # Form header\n",
    "    header = f\"\"\"x {widths[1]} {widths[1]/2} [{resolution_units}]\n",
    "y {widths[0]} {widths[0]/2}  [{resolution_units}]\"\"\"\n",
    "    \n",
    "    # Save with the correct orientation\n",
    "    np.savetxt(filename, np.flip(image, axis=0), header=header, comments='')\n",
    "    \n",
    "    return os.path.abspath(filename)"
   ]
  },
  {
   "cell_type": "code",
   "execution_count": 20,
   "metadata": {},
   "outputs": [
    {
     "name": "stdout",
     "output_type": "stream",
     "text": [
      "env: ASTRA_BIN=/Users/nneveu/Code/astra/Astra\n"
     ]
    }
   ],
   "source": [
    "#Edit this line to match your path\n",
    "%env ASTRA_BIN=/Users/nneveu/Code/astra/Astra"
   ]
  },
  {
   "cell_type": "markdown",
   "metadata": {},
   "source": [
    "# Laser "
   ]
  },
  {
   "cell_type": "code",
   "execution_count": 21,
   "metadata": {},
   "outputs": [],
   "source": [
    "vcc = glob.glob('../laser_images/*.mat')"
   ]
  },
  {
   "cell_type": "code",
   "execution_count": 22,
   "metadata": {},
   "outputs": [
    {
     "ename": "IndexError",
     "evalue": "list index out of range",
     "output_type": "error",
     "traceback": [
      "\u001b[0;31m---------------------------------------------------------------------------\u001b[0m",
      "\u001b[0;31mIndexError\u001b[0m                                Traceback (most recent call last)",
      "\u001b[1;32m/Users/colinrecker/Desktop/SLACForks/xta/astra/vcc_laser.ipynb Cell 9'\u001b[0m in \u001b[0;36m<cell line: 1>\u001b[0;34m()\u001b[0m\n\u001b[0;32m----> <a href='vscode-notebook-cell:/Users/colinrecker/Desktop/SLACForks/xta/astra/vcc_laser.ipynb#ch0000008?line=0'>1</a>\u001b[0m mat \u001b[39m=\u001b[39m scipy\u001b[39m.\u001b[39mio\u001b[39m.\u001b[39mloadmat(vcc[\u001b[39m0\u001b[39;49m])\n",
      "\u001b[0;31mIndexError\u001b[0m: list index out of range"
     ]
    }
   ],
   "source": [
    "mat = scipy.io.loadmat(vcc[0])"
   ]
  },
  {
   "cell_type": "code",
   "execution_count": null,
   "metadata": {},
   "outputs": [],
   "source": [
    "# mat\n",
    "# figure;imagesc(reshape(X(1,:),[45 45]))"
   ]
  },
  {
   "cell_type": "code",
   "execution_count": null,
   "metadata": {},
   "outputs": [],
   "source": [
    "# mat['X'].shape"
   ]
  },
  {
   "cell_type": "code",
   "execution_count": null,
   "metadata": {},
   "outputs": [],
   "source": [
    "# mat['Y'].shape"
   ]
  },
  {
   "cell_type": "code",
   "execution_count": null,
   "metadata": {},
   "outputs": [],
   "source": [
    "arr = mat['X'][1,:]\n",
    "dim = arr.shape[0]\n",
    "print(dim)\n",
    "xy = int(np.sqrt(dim))\n",
    "nrow = xy\n",
    "ncol = xy\n",
    "IMAGE = arr.reshape(nrow, ncol)\n"
   ]
  },
  {
   "cell_type": "code",
   "execution_count": null,
   "metadata": {},
   "outputs": [],
   "source": [
    "plt.imshow(IMAGE)#, extent=[0,1,0,1])\n",
    "plt.ylabel('Pixel', size=20)\n",
    "plt.xlabel('Pixel', size=20)\n",
    "plt.savefig('DMD_image.png', dpi=300, bbox_inches='tight')"
   ]
  },
  {
   "cell_type": "code",
   "execution_count": null,
   "metadata": {},
   "outputs": [],
   "source": [
    "FOUT = write_distgen_xy_dist('laser_image.txt', IMAGE, xy, resolution_units='um')"
   ]
  },
  {
   "cell_type": "code",
   "execution_count": null,
   "metadata": {},
   "outputs": [],
   "source": [
    "dist_file = 'distgen_laser.yaml'\n",
    "dist = Generator(input=dist_file, verbose=False)\n",
    "dist.input['n_particle'] = int(1e5)\n",
    "# dist.input['start']['MTE']['value'] = 150 #330 \n",
    "\n",
    "fwhm = 0.06/2.355 # 60 fs = 0.06 ps\n",
    "dist.input['t_dist']['sigma_t']['value'] = fwhm\n",
    "dist.input['total_charge']['value'] = 10\n",
    "\n",
    "# dist.input['r_dist']['max_r']['value'] = 0.5\n",
    "dist.run()\n",
    "particles = dist.particles \n",
    "particles.write_astra('astra_particles.txt')\n",
    "print(dist)\n"
   ]
  },
  {
   "cell_type": "code",
   "execution_count": null,
   "metadata": {},
   "outputs": [],
   "source": [
    "particles.plot('x','y')"
   ]
  },
  {
   "cell_type": "code",
   "execution_count": null,
   "metadata": {},
   "outputs": [],
   "source": [
    "num_bins = 100\n",
    "plt.figure(figsize=(5, 5))\n",
    "astradist = parse_opal_emitted_dist('astra_particles.txt', names=['x', 'y', 'z', 'px','py', 'pz', 't', 'Q', 'ptype', 'flag'])\n",
    "xy = plt.hist2d(astradist['x']*10**3, astradist['y']*10**3, num_bins, facecolor='blue', cmin=2)#, alpha=0.5)\n",
    "plt.ylabel('[mm]', size=20)\n",
    "plt.xlabel('[mm]', size=20)\n",
    "plt.savefig('DMD_electrons.png', dpi=300)\n"
   ]
  },
  {
   "cell_type": "markdown",
   "metadata": {},
   "source": [
    "# Run ASTRA"
   ]
  },
  {
   "cell_type": "code",
   "execution_count": null,
   "metadata": {},
   "outputs": [],
   "source": [
    "astra_file = 'xta.in'\n",
    "xta = Astra(initial_particles=particles, input_file=astra_file, verbose=True)"
   ]
  },
  {
   "cell_type": "code",
   "execution_count": null,
   "metadata": {},
   "outputs": [],
   "source": [
    "\n",
    "\n",
    "xta.input['solenoid']['maxb(1)'] = 0.45\n",
    "xta.input['solenoid']"
   ]
  },
  {
   "cell_type": "code",
   "execution_count": null,
   "metadata": {},
   "outputs": [],
   "source": [
    "xta.input['charge']"
   ]
  },
  {
   "cell_type": "code",
   "execution_count": null,
   "metadata": {},
   "outputs": [],
   "source": [
    "xta.input['newrun']['zstart'] = 0.0\n",
    "xta.input['newrun']['zstop'] = 5.5\n",
    "xta.input['charge']['lspch'] = False\n",
    "xta.input['newrun']['zphase'] = 50"
   ]
  },
  {
   "cell_type": "code",
   "execution_count": null,
   "metadata": {},
   "outputs": [],
   "source": [
    "xta.input['charge']"
   ]
  },
  {
   "cell_type": "code",
   "execution_count": null,
   "metadata": {},
   "outputs": [],
   "source": [
    "xta.run()"
   ]
  },
  {
   "cell_type": "code",
   "execution_count": null,
   "metadata": {},
   "outputs": [],
   "source": [
    "# xta.input_file"
   ]
  },
  {
   "cell_type": "code",
   "execution_count": null,
   "metadata": {},
   "outputs": [],
   "source": [
    "#xta.archive('xta_60fs_1mm_10pC_noSC_laser_weak_solenoid_0.45_zstop_5.5.h5')"
   ]
  },
  {
   "cell_type": "code",
   "execution_count": null,
   "metadata": {},
   "outputs": [],
   "source": [
    "xta.load_archive('archives/xta_60fs_1mm_10pC_SC_laser_weak_solenoid_0.45_zstop_5.5.h5')"
   ]
  },
  {
   "cell_type": "code",
   "execution_count": null,
   "metadata": {},
   "outputs": [],
   "source": [
    "\n",
    "test = xta.particles[-1].plot('energy')\n",
    "plt.savefig('test.png', dpi=250)"
   ]
  },
  {
   "cell_type": "code",
   "execution_count": null,
   "metadata": {},
   "outputs": [],
   "source": [
    "#xta.load_archive('archives/xta_60fs_1mm_1pC_SC_laser_test.h5')\n",
    "plt.figure(figsize=(5, 5))\n",
    "# xta.particles[-1].plot('x','y')\n",
    "xtapart = xta.particles[-1]\n",
    "num_bins = 100\n",
    "xy = plt.hist2d(xtapart.x*10**3, xtapart.pz*10**3, num_bins, facecolor='blue', cmin=1)#, alpha=0.5)\n",
    "print(np.mean(xtapart.z))\n",
    "plt.ylabel('[mm]', size=20)\n",
    "plt.xlabel('X [mm]', size=20)\n",
    "plt.savefig('DMD_xta_SC_sol0.45_5.5meters_LDRDpxpy.png', dpi=300, bbox_inches='tight')"
   ]
  },
  {
   "cell_type": "code",
   "execution_count": null,
   "metadata": {},
   "outputs": [],
   "source": [
    "len(xta.particles)"
   ]
  },
  {
   "cell_type": "code",
   "execution_count": null,
   "metadata": {},
   "outputs": [],
   "source": [
    "plt.plot(xta.stat('mean_z'), xta.stat('sigma_z')*10**3, '-', label=\"$\\sigma_z$\")\n",
    "plt.plot(xta.stat('mean_z'), xta.stat('sigma_x')*10**3, '-', label=\"$\\sigma_x$\")\n",
    "plt.xlabel('z (m)')\n",
    "plt.ylabel('Beam size (mm)')\n",
    "plt.legend(loc='upper right')\n",
    "plt.ylim(0,0.6)\n",
    "plt.xlim(0,6)\n",
    "plt.grid()"
   ]
  },
  {
   "cell_type": "code",
   "execution_count": null,
   "metadata": {},
   "outputs": [],
   "source": [
    "plt.plot(xta.stat('mean_z'), xta.stat('mean_kinetic_energy')*10**-6, '-', label=\"Energy\")\n",
    "# plt.plot(xta.stat('mean_z'), xta.stat('sigma_x')*10**3, '-', label=\"$\\sigma_x$\")\n",
    "plt.xlabel('z (m)')\n",
    "plt.ylabel('Beam size (mm)')\n",
    "plt.legend(loc='upper right')\n",
    "# plt.ylim(0,0.6)\n",
    "# plt.xlim(0,0.7)\n",
    "plt.grid()"
   ]
  },
  {
   "cell_type": "markdown",
   "metadata": {},
   "source": [
    "# Movie"
   ]
  },
  {
   "cell_type": "code",
   "execution_count": null,
   "metadata": {},
   "outputs": [],
   "source": []
  },
  {
   "cell_type": "code",
   "execution_count": null,
   "metadata": {},
   "outputs": [],
   "source": []
  }
 ],
 "metadata": {
  "kernelspec": {
   "display_name": "Python 3.8.13 ('SLAC')",
   "language": "python",
   "name": "python3"
  },
  "language_info": {
   "codemirror_mode": {
    "name": "ipython",
    "version": 3
   },
   "file_extension": ".py",
   "mimetype": "text/x-python",
   "name": "python",
   "nbconvert_exporter": "python",
   "pygments_lexer": "ipython3",
   "version": "3.8.13"
  },
  "vscode": {
   "interpreter": {
    "hash": "6c58c64d71ff03ed58a5a60eb518d74c326f0baf896481c551d83d64162bf060"
   }
  }
 },
 "nbformat": 4,
 "nbformat_minor": 4
}
