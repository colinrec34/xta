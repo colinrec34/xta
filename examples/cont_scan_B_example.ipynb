{
 "cells": [
  {
   "cell_type": "markdown",
   "metadata": {},
   "source": [
    "# Simple XTA Simulation Example: field1.dcm"
   ]
  },
  {
   "cell_type": "markdown",
   "metadata": {},
   "source": [
    "## Simulation Setup"
   ]
  },
  {
   "cell_type": "code",
   "execution_count": 29,
   "metadata": {},
   "outputs": [],
   "source": [
    "%matplotlib widget\n",
    "import os, sys\n",
    "\n",
    "sys.path.append('..')\n",
    "from xta import xta_sim"
   ]
  },
  {
   "cell_type": "markdown",
   "metadata": {},
   "source": [
    "#### Setting Astra Path"
   ]
  },
  {
   "cell_type": "code",
   "execution_count": 30,
   "metadata": {},
   "outputs": [],
   "source": [
    "#Possible generalization for environment dependency path\n",
    "os.environ['ASTRA_BIN'] = os.getenv('ASTRA_BIN')\n",
    "#print(os.getenv('ASTRA_BIN'))"
   ]
  },
  {
   "cell_type": "code",
   "execution_count": 31,
   "metadata": {},
   "outputs": [],
   "source": [
    "#Edit this line to match your path if the above cell doesn't work\n",
    "#%env ASTRA_BIN=/Users/colinrecker/Desktop/SLACForks/Astra"
   ]
  },
  {
   "cell_type": "markdown",
   "metadata": {},
   "source": [
    "#### Setting Simulation Directory Path"
   ]
  },
  {
   "cell_type": "code",
   "execution_count": 32,
   "metadata": {},
   "outputs": [],
   "source": [
    "#Define xta repo path\n",
    "xta_path = '/Users/colinrecker/Desktop/SLACForks/xta'\n",
    "os.chdir(xta_path)\n",
    "\n",
    "#Define simulations directory path\n",
    "sim_path = '/Users/colinrecker/Google Drive/My Drive/Colin/Simulations'\n",
    "\n",
    "#Defining tumor scan path and scrape name of file\n",
    "init_dcm_path = os.path.join(sim_path, 'inputs', 'Fluence Maps Anon', 'Field 3 Anon', 'field3.dcm')\n",
    "\n",
    "#Defining vcc laser images path\n",
    "vcc_path = os.path.join(sim_path, 'inputs', 'laser_mat_images', '*.mat')\n",
    "\n",
    "field1 = xta_sim(xta_path, sim_path, init_dcm_path, vcc_path)"
   ]
  },
  {
   "cell_type": "markdown",
   "metadata": {},
   "source": [
    "### Generating Initial Electron Distribution"
   ]
  },
  {
   "cell_type": "code",
   "execution_count": 33,
   "metadata": {},
   "outputs": [],
   "source": [
    "#Configuring distribution settings (distgen.yaml file)\n",
    "field1.dist.input['n_particle'] = int(1e4)\n",
    "fwhm = 0.06/2.355 # 60 fs = 0.06 ps\n",
    "field1.dist.input['t_dist']['sigma_t']['value'] = fwhm\n",
    "\n",
    "#Generating distribution with first index of laser images\n",
    "particles, dist = field1.generate_dist(0)"
   ]
  },
  {
   "cell_type": "markdown",
   "metadata": {},
   "source": [
    "## Run Simulation"
   ]
  },
  {
   "cell_type": "markdown",
   "metadata": {},
   "source": [
    "### Configure Astra"
   ]
  },
  {
   "cell_type": "code",
   "execution_count": 34,
   "metadata": {},
   "outputs": [],
   "source": [
    "#Adjusting astra inputs (xta.in file)\n",
    "field1.astra.input['newrun']['zstart']=0.0\n",
    "field1.astra.input['newrun']['zstop'] = 0.25\n",
    "field1.astra.input['charge']['lspch'] = True\n",
    "field1.astra.input['newrun']['zphase'] = 50\n",
    "field1.astra.input['solenoid']['maxb(1)'] = 0.427"
   ]
  },
  {
   "cell_type": "markdown",
   "metadata": {},
   "source": [
    "### Run Single Scan"
   ]
  },
  {
   "cell_type": "code",
   "execution_count": 35,
   "metadata": {},
   "outputs": [
    {
     "ename": "TypeError",
     "evalue": "__init__() takes from 5 to 6 positional arguments but 7 were given",
     "output_type": "error",
     "traceback": [
      "\u001b[0;31m---------------------------------------------------------------------------\u001b[0m",
      "\u001b[0;31mTypeError\u001b[0m                                 Traceback (most recent call last)",
      "\u001b[1;32m/Users/colinrecker/Desktop/SLACForks/xta/examples/cont_scan_B_example.ipynb Cell 15\u001b[0m in \u001b[0;36m<cell line: 2>\u001b[0;34m()\u001b[0m\n\u001b[1;32m      <a href='vscode-notebook-cell:/Users/colinrecker/Desktop/SLACForks/xta/examples/cont_scan_B_example.ipynb#X20sZmlsZQ%3D%3D?line=0'>1</a>\u001b[0m \u001b[39m#Scanning \u001b[39;00m\n\u001b[0;32m----> <a href='vscode-notebook-cell:/Users/colinrecker/Desktop/SLACForks/xta/examples/cont_scan_B_example.ipynb#X20sZmlsZQ%3D%3D?line=1'>2</a>\u001b[0m field1\u001b[39m.\u001b[39;49msimulation(\u001b[39m'\u001b[39;49m\u001b[39mcont_scan\u001b[39;49m\u001b[39m'\u001b[39;49m, [\u001b[39m'\u001b[39;49m\u001b[39msolenoid\u001b[39;49m\u001b[39m'\u001b[39;49m, \u001b[39m'\u001b[39;49m\u001b[39mmaxb(1)\u001b[39;49m\u001b[39m'\u001b[39;49m], \u001b[39mrange\u001b[39;49m\u001b[39m=\u001b[39;49m[\u001b[39m0.38\u001b[39;49m, \u001b[39m0.45\u001b[39;49m], divisions\u001b[39m=\u001b[39;49m\u001b[39m5\u001b[39;49m, precision\u001b[39m=\u001b[39;49m\u001b[39m2\u001b[39;49m)\n\u001b[1;32m      <a href='vscode-notebook-cell:/Users/colinrecker/Desktop/SLACForks/xta/examples/cont_scan_B_example.ipynb#X20sZmlsZQ%3D%3D?line=2'>3</a>\u001b[0m \u001b[39mprint\u001b[39m(field1\u001b[39m.\u001b[39mopt_val)\n\u001b[1;32m      <a href='vscode-notebook-cell:/Users/colinrecker/Desktop/SLACForks/xta/examples/cont_scan_B_example.ipynb#X20sZmlsZQ%3D%3D?line=4'>5</a>\u001b[0m \u001b[39m#Archive simulation with desired .h5 file name\u001b[39;00m\n",
      "File \u001b[0;32m~/Desktop/SLACForks/xta/examples/../xta.py:78\u001b[0m, in \u001b[0;36mxta_sim.simulation\u001b[0;34m(self, type, parameter, **kwargs)\u001b[0m\n\u001b[1;32m     76\u001b[0m     \u001b[39mself\u001b[39m\u001b[39m.\u001b[39mscan(parameter, \u001b[39m*\u001b[39m\u001b[39m*\u001b[39mkwargs)\n\u001b[1;32m     77\u001b[0m \u001b[39melif\u001b[39;00m \u001b[39mtype\u001b[39m \u001b[39m==\u001b[39m \u001b[39m'\u001b[39m\u001b[39mcont_scan\u001b[39m\u001b[39m'\u001b[39m:\n\u001b[0;32m---> 78\u001b[0m     \u001b[39mself\u001b[39;49m\u001b[39m.\u001b[39;49mcont_scan(parameter, \u001b[39m*\u001b[39;49m\u001b[39m*\u001b[39;49mkwargs)\n\u001b[1;32m     79\u001b[0m \u001b[39melse\u001b[39;00m:\n\u001b[1;32m     80\u001b[0m     \u001b[39mraise\u001b[39;00m \u001b[39mException\u001b[39;00m(\u001b[39m'\u001b[39m\u001b[39mInvalid Simulation Type\u001b[39m\u001b[39m'\u001b[39m)\n",
      "File \u001b[0;32m~/Desktop/SLACForks/xta/examples/../xta.py:92\u001b[0m, in \u001b[0;36mxta_sim.cont_scan\u001b[0;34m(self, parameter, range, divisions, precision)\u001b[0m\n\u001b[1;32m     91\u001b[0m \u001b[39mdef\u001b[39;00m \u001b[39mcont_scan\u001b[39m(\u001b[39mself\u001b[39m, parameter, \u001b[39mrange\u001b[39m, divisions, precision):\n\u001b[0;32m---> 92\u001b[0m     \u001b[39mself\u001b[39m\u001b[39m.\u001b[39moutputs \u001b[39m=\u001b[39m cont_scan(\u001b[39mself\u001b[39;49m\u001b[39m.\u001b[39;49mastra, parameter, \u001b[39mrange\u001b[39;49m, divisions, precision)\u001b[39m.\u001b[39moutputs\n",
      "File \u001b[0;32m~/Desktop/SLACForks/xta/examples/../scan.py:86\u001b[0m, in \u001b[0;36mcont_scan.__init__\u001b[0;34m(self, astra, parameter, init_domain, divisions, precision)\u001b[0m\n\u001b[1;32m     83\u001b[0m \u001b[39mself\u001b[39m\u001b[39m.\u001b[39mdivisions \u001b[39m=\u001b[39m divisions\n\u001b[1;32m     84\u001b[0m \u001b[39mself\u001b[39m\u001b[39m.\u001b[39mprecision \u001b[39m=\u001b[39m precision\n\u001b[0;32m---> 86\u001b[0m \u001b[39mself\u001b[39m\u001b[39m.\u001b[39moutputs \u001b[39m=\u001b[39m \u001b[39mself\u001b[39;49m\u001b[39m.\u001b[39;49mcont_scan()\n",
      "File \u001b[0;32m~/Desktop/SLACForks/xta/examples/../scan.py:90\u001b[0m, in \u001b[0;36mcont_scan.cont_scan\u001b[0;34m(self)\u001b[0m\n\u001b[1;32m     88\u001b[0m \u001b[39mdef\u001b[39;00m \u001b[39mcont_scan\u001b[39m(\u001b[39mself\u001b[39m):\n\u001b[1;32m     89\u001b[0m     \u001b[39mwhile\u001b[39;00m \u001b[39mround\u001b[39m(\u001b[39mself\u001b[39m\u001b[39m.\u001b[39mmin, \u001b[39mself\u001b[39m\u001b[39m.\u001b[39mprecision) \u001b[39m!=\u001b[39m \u001b[39mround\u001b[39m(\u001b[39mself\u001b[39m\u001b[39m.\u001b[39mmax, \u001b[39mself\u001b[39m\u001b[39m.\u001b[39mprecision):\n\u001b[0;32m---> 90\u001b[0m         \u001b[39mself\u001b[39m\u001b[39m.\u001b[39mopt_val, \u001b[39mself\u001b[39m\u001b[39m.\u001b[39mmin, \u001b[39mself\u001b[39m\u001b[39m.\u001b[39mmax \u001b[39m=\u001b[39m scan(\u001b[39mself\u001b[39;49m\u001b[39m.\u001b[39;49mastra, \u001b[39mself\u001b[39;49m\u001b[39m.\u001b[39;49mparameter, \u001b[39mself\u001b[39;49m\u001b[39m.\u001b[39;49mmin, \u001b[39mself\u001b[39;49m\u001b[39m.\u001b[39;49mmax, \u001b[39mself\u001b[39;49m\u001b[39m.\u001b[39;49mdivisions, \u001b[39mself\u001b[39;49m\u001b[39m.\u001b[39;49mprecision)\u001b[39m.\u001b[39moutputs\n\u001b[1;32m     91\u001b[0m     \u001b[39mreturn\u001b[39;00m \u001b[39mself\u001b[39m\u001b[39m.\u001b[39mopt_val, \u001b[39mself\u001b[39m\u001b[39m.\u001b[39mmin, \u001b[39mself\u001b[39m\u001b[39m.\u001b[39mmax\n",
      "\u001b[0;31mTypeError\u001b[0m: __init__() takes from 5 to 6 positional arguments but 7 were given"
     ]
    }
   ],
   "source": [
    "#Scanning \n",
    "field1.simulation('cont_scan', ['solenoid', 'maxb(1)'], range=[0.38, 0.45], divisions=5, precision=2)\n",
    "print(field1.opt_val)\n",
    "\n",
    "#Archive simulation with desired .h5 file name\n",
    "field1.archive(f'B={field1.astra.input[\"solenoid\"][\"maxb(1)\"]}')"
   ]
  },
  {
   "cell_type": "markdown",
   "metadata": {},
   "source": [
    "## Plots"
   ]
  },
  {
   "cell_type": "markdown",
   "metadata": {},
   "source": [
    "### Laser Image Plots"
   ]
  },
  {
   "cell_type": "markdown",
   "metadata": {},
   "source": [
    "### Single Electron Distribution Plots"
   ]
  },
  {
   "cell_type": "markdown",
   "metadata": {},
   "source": [
    "#### Initial Electron Distribution"
   ]
  },
  {
   "cell_type": "markdown",
   "metadata": {},
   "source": [
    "#### Final Electron Distribution"
   ]
  },
  {
   "cell_type": "markdown",
   "metadata": {},
   "source": [
    "### Comparative Electron Distribution Plots"
   ]
  },
  {
   "cell_type": "markdown",
   "metadata": {},
   "source": [
    "#### Initial vs. Final Distribution"
   ]
  },
  {
   "cell_type": "markdown",
   "metadata": {},
   "source": [
    "#### Cross Sectional Distributions"
   ]
  },
  {
   "cell_type": "markdown",
   "metadata": {},
   "source": [
    "#### Initial vs. Rotated Final Distribution"
   ]
  },
  {
   "cell_type": "markdown",
   "metadata": {},
   "source": [
    "### Movie"
   ]
  },
  {
   "cell_type": "markdown",
   "metadata": {},
   "source": [
    "### Energy Plots"
   ]
  }
 ],
 "metadata": {
  "kernelspec": {
   "display_name": "Python 3.8.13 ('SLAC')",
   "language": "python",
   "name": "python3"
  },
  "language_info": {
   "codemirror_mode": {
    "name": "ipython",
    "version": 3
   },
   "file_extension": ".py",
   "mimetype": "text/x-python",
   "name": "python",
   "nbconvert_exporter": "python",
   "pygments_lexer": "ipython3",
   "version": "3.8.13"
  },
  "orig_nbformat": 4,
  "vscode": {
   "interpreter": {
    "hash": "6c58c64d71ff03ed58a5a60eb518d74c326f0baf896481c551d83d64162bf060"
   }
  }
 },
 "nbformat": 4,
 "nbformat_minor": 2
}
