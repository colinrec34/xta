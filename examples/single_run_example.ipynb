{
 "cells": [
  {
   "cell_type": "markdown",
   "metadata": {},
   "source": [
    "# Simple XTA Simulation Example: field1.dcm"
   ]
  },
  {
   "cell_type": "markdown",
   "metadata": {},
   "source": [
    "## Simulation Setup"
   ]
  },
  {
   "cell_type": "code",
   "execution_count": 14,
   "metadata": {},
   "outputs": [],
   "source": [
    "%matplotlib widget\n",
    "import os, sys\n",
    "\n",
    "sys.path.append('..')\n",
    "from xta import xta_sim"
   ]
  },
  {
   "cell_type": "markdown",
   "metadata": {},
   "source": [
    "#### Setting Astra Path"
   ]
  },
  {
   "cell_type": "code",
   "execution_count": 15,
   "metadata": {},
   "outputs": [],
   "source": [
    "#Possible generalization for environment dependency path\n",
    "os.environ['ASTRA_BIN'] = os.getenv('ASTRA_BIN')\n",
    "#print(os.getenv('ASTRA_BIN'))"
   ]
  },
  {
   "cell_type": "code",
   "execution_count": 16,
   "metadata": {},
   "outputs": [],
   "source": [
    "#Edit this line to match your path if the above cell doesn't work\n",
    "#%env ASTRA_BIN=/Users/colinrecker/Desktop/SLACForks/Astra"
   ]
  },
  {
   "cell_type": "markdown",
   "metadata": {},
   "source": [
    "#### Setting Simulation Directory Path"
   ]
  },
  {
   "cell_type": "code",
   "execution_count": 17,
   "metadata": {},
   "outputs": [
    {
     "ename": "AttributeError",
     "evalue": "'xta_sim' object has no attribute 'IMAGE'",
     "output_type": "error",
     "traceback": [
      "\u001b[0;31m---------------------------------------------------------------------------\u001b[0m",
      "\u001b[0;31mAttributeError\u001b[0m                            Traceback (most recent call last)",
      "\u001b[1;32m/Users/colinrecker/Desktop/SLACForks/xta/examples/single_run_example.ipynb Cell 8\u001b[0m in \u001b[0;36m<cell line: 15>\u001b[0;34m()\u001b[0m\n\u001b[1;32m     <a href='vscode-notebook-cell:/Users/colinrecker/Desktop/SLACForks/xta/examples/single_run_example.ipynb#X10sZmlsZQ%3D%3D?line=11'>12</a>\u001b[0m vcc_path \u001b[39m=\u001b[39m os\u001b[39m.\u001b[39mpath\u001b[39m.\u001b[39mjoin(sim_path, \u001b[39m'\u001b[39m\u001b[39minputs\u001b[39m\u001b[39m'\u001b[39m, \u001b[39m'\u001b[39m\u001b[39mlaser_mat_images\u001b[39m\u001b[39m'\u001b[39m, \u001b[39m'\u001b[39m\u001b[39m*.mat\u001b[39m\u001b[39m'\u001b[39m)\n\u001b[1;32m     <a href='vscode-notebook-cell:/Users/colinrecker/Desktop/SLACForks/xta/examples/single_run_example.ipynb#X10sZmlsZQ%3D%3D?line=13'>14</a>\u001b[0m \u001b[39m#Creating xta_sim object\u001b[39;00m\n\u001b[0;32m---> <a href='vscode-notebook-cell:/Users/colinrecker/Desktop/SLACForks/xta/examples/single_run_example.ipynb#X10sZmlsZQ%3D%3D?line=14'>15</a>\u001b[0m field1 \u001b[39m=\u001b[39m xta_sim(xta_path, sim_path, init_dcm_path, vcc_path)\n",
      "File \u001b[0;32m~/Desktop/SLACForks/xta/examples/../xta.py:29\u001b[0m, in \u001b[0;36mxta_sim.__init__\u001b[0;34m(self, xta_path, sim_path, init_dcm_path, vcc_path)\u001b[0m\n\u001b[1;32m     27\u001b[0m \u001b[39m#Initialize dist file\u001b[39;00m\n\u001b[1;32m     28\u001b[0m \u001b[39mself\u001b[39m\u001b[39m.\u001b[39minit_dist()\n\u001b[0;32m---> 29\u001b[0m \u001b[39mself\u001b[39;49m\u001b[39m.\u001b[39;49minit_plots()\n",
      "File \u001b[0;32m~/Desktop/SLACForks/xta/examples/../xta.py:77\u001b[0m, in \u001b[0;36mxta_sim.init_plots\u001b[0;34m(self)\u001b[0m\n\u001b[1;32m     74\u001b[0m \u001b[39mdef\u001b[39;00m \u001b[39minit_plots\u001b[39m(\u001b[39mself\u001b[39m):\n\u001b[1;32m     75\u001b[0m     \u001b[39m#Need automatic limit calculation here\u001b[39;00m\n\u001b[1;32m     76\u001b[0m     \u001b[39mself\u001b[39m\u001b[39m.\u001b[39mleft_xaxis, \u001b[39mself\u001b[39m\u001b[39m.\u001b[39mright_xaxis, \u001b[39mself\u001b[39m\u001b[39m.\u001b[39mleft_yaxis, \u001b[39mself\u001b[39m\u001b[39m.\u001b[39mright_yaxis \u001b[39m=\u001b[39m [\u001b[39m-\u001b[39m\u001b[39m10\u001b[39m, \u001b[39m10\u001b[39m, \u001b[39m-\u001b[39m\u001b[39m10\u001b[39m, \u001b[39m10\u001b[39m]\n\u001b[0;32m---> 77\u001b[0m     \u001b[39mself\u001b[39m\u001b[39m.\u001b[39mplot \u001b[39m=\u001b[39m plot(\u001b[39mself\u001b[39;49m\u001b[39m.\u001b[39;49mIMAGE, \u001b[39mself\u001b[39m\u001b[39m.\u001b[39mastra, \u001b[39mself\u001b[39m\u001b[39m.\u001b[39mplots_path)\n\u001b[1;32m     78\u001b[0m     \u001b[39mself\u001b[39m\u001b[39m.\u001b[39mmovie \u001b[39m=\u001b[39m movie(\u001b[39mself\u001b[39m\u001b[39m.\u001b[39mastra, \u001b[39mself\u001b[39m\u001b[39m.\u001b[39mplots_path)\n",
      "\u001b[0;31mAttributeError\u001b[0m: 'xta_sim' object has no attribute 'IMAGE'"
     ]
    }
   ],
   "source": [
    "#Define xta repo path\n",
    "xta_path = '/Users/colinrecker/Desktop/SLACForks/xta'\n",
    "os.chdir(xta_path)\n",
    "\n",
    "#Define simulations directory path\n",
    "sim_path = '/Users/colinrecker/Google Drive/My Drive/Colin/Simulations'\n",
    "\n",
    "#Defining tumor scan path and scrape name of file\n",
    "init_dcm_path = os.path.join(sim_path, 'inputs', 'Fluence Maps Anon', 'Field 3 Anon', 'field3.dcm')\n",
    "\n",
    "#Defining vcc laser images path\n",
    "vcc_path = os.path.join(sim_path, 'inputs', 'laser_mat_images', '*.mat')\n",
    "\n",
    "#Creating xta_sim object\n",
    "field1 = xta_sim(xta_path, sim_path, init_dcm_path, vcc_path)"
   ]
  },
  {
   "cell_type": "markdown",
   "metadata": {},
   "source": [
    "### Generating Initial Electron Distribution"
   ]
  },
  {
   "cell_type": "code",
   "execution_count": null,
   "metadata": {},
   "outputs": [],
   "source": [
    "#Configuring distribution settings (distgen.yaml file)\n",
    "field1.dist.input['n_particle'] = int(1e4)\n",
    "fwhm = 0.06/2.355 # 60 fs = 0.06 ps\n",
    "field1.dist.input['t_dist']['sigma_t']['value'] = fwhm\n",
    "\n",
    "#Generating distribution with first index of laser images\n",
    "particles, dist = field1.generate_dist(0)"
   ]
  },
  {
   "cell_type": "markdown",
   "metadata": {},
   "source": [
    "## Run Simulation"
   ]
  },
  {
   "cell_type": "markdown",
   "metadata": {},
   "source": [
    "### Configure Astra"
   ]
  },
  {
   "cell_type": "code",
   "execution_count": null,
   "metadata": {},
   "outputs": [],
   "source": [
    "#Adjusting astra inputs (xta.in file)\n",
    "field1.astra.input['newrun']['zstart']=0.0\n",
    "field1.astra.input['newrun']['zstop'] = 0.25\n",
    "field1.astra.input['charge']['lspch'] = True\n",
    "field1.astra.input['newrun']['zphase'] = 50\n",
    "field1.astra.input['solenoid']['maxb(1)'] = 0.427"
   ]
  },
  {
   "cell_type": "markdown",
   "metadata": {},
   "source": [
    "### Run Single Simulation"
   ]
  },
  {
   "cell_type": "code",
   "execution_count": 28,
   "metadata": {},
   "outputs": [],
   "source": [
    "field1.simulation('single')\n",
    "\n",
    "#Archive simulation with desired .h5 file name\n",
    "field1.archive(f'B={field1.astra.input[\"solenoid\"][\"maxb(1)\"]}')"
   ]
  },
  {
   "cell_type": "markdown",
   "metadata": {},
   "source": [
    "## Preset Plots"
   ]
  },
  {
   "cell_type": "markdown",
   "metadata": {},
   "source": [
    "### Single Plots"
   ]
  },
  {
   "cell_type": "markdown",
   "metadata": {},
   "source": [
    "#### Laser Image Plot"
   ]
  },
  {
   "cell_type": "code",
   "execution_count": null,
   "metadata": {},
   "outputs": [],
   "source": [
    "field1.plot.single_dist('laser_image')"
   ]
  },
  {
   "cell_type": "markdown",
   "metadata": {},
   "source": [
    "#### Initial Electron Distribution"
   ]
  },
  {
   "cell_type": "code",
   "execution_count": null,
   "metadata": {},
   "outputs": [],
   "source": [
    "field1.plot.single('initial_dist', xlim = [-10, 10], ylim = [-10, 10], title = 'Initial Distribution', save=False, close=True)"
   ]
  },
  {
   "cell_type": "markdown",
   "metadata": {},
   "source": [
    "#### Final Electron Distribution"
   ]
  },
  {
   "cell_type": "code",
   "execution_count": null,
   "metadata": {},
   "outputs": [],
   "source": [
    "field1.plot.single('final_dist')"
   ]
  },
  {
   "cell_type": "markdown",
   "metadata": {},
   "source": [
    "#### Rotated Final Distribution"
   ]
  },
  {
   "cell_type": "code",
   "execution_count": null,
   "metadata": {},
   "outputs": [],
   "source": [
    "field1.plot.single('rotated_final_dist')"
   ]
  },
  {
   "cell_type": "markdown",
   "metadata": {},
   "source": [
    "### Compare Plots"
   ]
  },
  {
   "cell_type": "markdown",
   "metadata": {},
   "source": [
    "#### Initial vs. Final Distribution"
   ]
  },
  {
   "cell_type": "code",
   "execution_count": null,
   "metadata": {},
   "outputs": [],
   "source": [
    "field1.plot.compare('initial_vs_final')"
   ]
  },
  {
   "cell_type": "markdown",
   "metadata": {},
   "source": [
    "#### Initial vs. Rotated Final Distribution"
   ]
  },
  {
   "cell_type": "code",
   "execution_count": null,
   "metadata": {},
   "outputs": [],
   "source": [
    "field1.plot.compare('inital_vs_rotated')"
   ]
  },
  {
   "cell_type": "markdown",
   "metadata": {},
   "source": [
    "### Movie Plot"
   ]
  },
  {
   "cell_type": "code",
   "execution_count": null,
   "metadata": {},
   "outputs": [],
   "source": [
    "field1.movie()"
   ]
  },
  {
   "cell_type": "markdown",
   "metadata": {},
   "source": [
    "## Custom Plots"
   ]
  },
  {
   "cell_type": "code",
   "execution_count": null,
   "metadata": {},
   "outputs": [],
   "source": [
    "xtapart = field1.astra_particles\n"
   ]
  }
 ],
 "metadata": {
  "kernelspec": {
   "display_name": "Python 3.8.13 ('SLAC')",
   "language": "python",
   "name": "python3"
  },
  "language_info": {
   "codemirror_mode": {
    "name": "ipython",
    "version": 3
   },
   "file_extension": ".py",
   "mimetype": "text/x-python",
   "name": "python",
   "nbconvert_exporter": "python",
   "pygments_lexer": "ipython3",
   "version": "3.8.13"
  },
  "orig_nbformat": 4,
  "vscode": {
   "interpreter": {
    "hash": "6c58c64d71ff03ed58a5a60eb518d74c326f0baf896481c551d83d64162bf060"
   }
  }
 },
 "nbformat": 4,
 "nbformat_minor": 2
}
