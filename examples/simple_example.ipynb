{
 "cells": [
  {
   "cell_type": "markdown",
   "metadata": {},
   "source": [
    "# Simple XTA Simulation Example: field1.dcm"
   ]
  },
  {
   "cell_type": "markdown",
   "metadata": {},
   "source": [
    "## Simulation Setup"
   ]
  },
  {
   "cell_type": "code",
   "execution_count": null,
   "metadata": {},
   "outputs": [],
   "source": [
    "%matplotlib widget\n",
    "import os\n",
    "import glob\n",
    "\n",
    "from tools import laser_load, write_distgen_xy_dist, sim_mkdir\n",
    "from xta import xta_sim"
   ]
  },
  {
   "cell_type": "markdown",
   "metadata": {},
   "source": [
    "### Paths Definitions"
   ]
  },
  {
   "cell_type": "markdown",
   "metadata": {},
   "source": [
    "#### Setting Astra Path"
   ]
  },
  {
   "cell_type": "code",
   "execution_count": null,
   "metadata": {},
   "outputs": [],
   "source": [
    "#Possible generalization for environment dependency path\n",
    "os.environ['ASTRA_BIN'] = os.getenv('ASTRA_BIN')\n",
    "#print(os.getenv('ASTRA_BIN'))"
   ]
  },
  {
   "cell_type": "code",
   "execution_count": null,
   "metadata": {},
   "outputs": [],
   "source": [
    "#Edit this line to match your path if the above cell doesn't work\n",
    "#%env ASTRA_BIN=/Users/colinrecker/Desktop/SLACForks/Astra"
   ]
  },
  {
   "cell_type": "markdown",
   "metadata": {},
   "source": [
    "#### Setting Simulation Directory Path"
   ]
  },
  {
   "cell_type": "code",
   "execution_count": null,
   "metadata": {},
   "outputs": [],
   "source": [
    "#Define xta repo path\n",
    "xta_path = '/Users/colinrecker/Desktop/SLACForks/xta'\n",
    "os.chdir(xta_path)\n",
    "\n",
    "#Define simulations directory path\n",
    "sim_path = '/Users/colinrecker/Google Drive/My Drive/Colin/Simulations'\n",
    "\n",
    "#defining tumor scan path and scrape name of file\n",
    "init_dcm_path = os.path.join(sim_path, 'Fluence Maps Anon', 'Field 1 Anon', 'field1.dcm')\n",
    "image_name = os.path.splitext(os.path.split(init_dcm_path)[-1])[0]\n",
    "\n",
    "#Creates scan directory\n",
    "if not os.path.exists(os.path.join(sim_path, image_name)):\n",
    "    data_path, plots_path = sim_mkdir(init_dcm_path, sim_path, image_name)\n",
    "    print(f'Created new directory for {image_name}')\n",
    "\n",
    "scan_path = os.path.join(sim_path, image_name)\n",
    "\n",
    "field1 = xta_sim(xta_path, sim_path, init_dcm_path)"
   ]
  },
  {
   "cell_type": "markdown",
   "metadata": {},
   "source": [
    "### Distgen Settings"
   ]
  },
  {
   "cell_type": "code",
   "execution_count": null,
   "metadata": {},
   "outputs": [],
   "source": [
    "#Configuring dist settings\n",
    "field1.dist.input['n_particle'] = int(1e4)\n",
    "\n",
    "fwhm = 0.06/2.355 # 60 fs = 0.06 ps\n",
    "field1.dist.input['t_dist']['sigma_t']['value'] = fwhm\n",
    "\n",
    "#Generating distribution with first index of laser images\n",
    "particles, dist = field1.generate_dist(0)"
   ]
  },
  {
   "cell_type": "markdown",
   "metadata": {},
   "source": [
    "### Astra Settings"
   ]
  },
  {
   "cell_type": "code",
   "execution_count": null,
   "metadata": {},
   "outputs": [],
   "source": [
    "xta.input"
   ]
  },
  {
   "cell_type": "markdown",
   "metadata": {},
   "source": [
    "## Run Simulation"
   ]
  },
  {
   "cell_type": "markdown",
   "metadata": {},
   "source": [
    "### Single Simulation"
   ]
  },
  {
   "cell_type": "markdown",
   "metadata": {},
   "source": [
    "### Scanning Simulation"
   ]
  },
  {
   "cell_type": "markdown",
   "metadata": {},
   "source": [
    "## Plots"
   ]
  },
  {
   "cell_type": "markdown",
   "metadata": {},
   "source": [
    "### Laser Image Plots"
   ]
  },
  {
   "cell_type": "markdown",
   "metadata": {},
   "source": [
    "### Single Electron Distribution Plots"
   ]
  },
  {
   "cell_type": "markdown",
   "metadata": {},
   "source": [
    "#### Initial Electron Distribution"
   ]
  },
  {
   "cell_type": "markdown",
   "metadata": {},
   "source": [
    "#### Final Electron Distribution"
   ]
  },
  {
   "cell_type": "markdown",
   "metadata": {},
   "source": [
    "### Comparative Electron Distribution Plots"
   ]
  },
  {
   "cell_type": "markdown",
   "metadata": {},
   "source": [
    "#### Initial vs. Final Distribution"
   ]
  },
  {
   "cell_type": "markdown",
   "metadata": {},
   "source": [
    "#### Cross Sectional Distributions"
   ]
  },
  {
   "cell_type": "markdown",
   "metadata": {},
   "source": [
    "#### Initial vs. Rotated Final Distribution"
   ]
  },
  {
   "cell_type": "markdown",
   "metadata": {},
   "source": [
    "### Movie"
   ]
  },
  {
   "cell_type": "markdown",
   "metadata": {},
   "source": [
    "### Energy Plots"
   ]
  }
 ],
 "metadata": {
  "kernelspec": {
   "display_name": "Python 3.8.13 ('SLAC')",
   "language": "python",
   "name": "python3"
  },
  "language_info": {
   "name": "python",
   "version": "3.8.13"
  },
  "orig_nbformat": 4,
  "vscode": {
   "interpreter": {
    "hash": "6c58c64d71ff03ed58a5a60eb518d74c326f0baf896481c551d83d64162bf060"
   }
  }
 },
 "nbformat": 4,
 "nbformat_minor": 2
}
